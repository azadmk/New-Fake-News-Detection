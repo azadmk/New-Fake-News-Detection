{
 "cells": [
  {
   "cell_type": "code",
   "execution_count": 1,
   "metadata": {
    "_cell_guid": "b1076dfc-b9ad-4769-8c92-a6c4dae69d19",
    "_uuid": "8f2839f25d086af736a60e9eeb907d3b93b6e0e5",
    "execution": {
     "iopub.execute_input": "2025-02-09T20:07:35.506248Z",
     "iopub.status.busy": "2025-02-09T20:07:35.505737Z",
     "iopub.status.idle": "2025-02-09T20:07:55.065684Z",
     "shell.execute_reply": "2025-02-09T20:07:55.064376Z",
     "shell.execute_reply.started": "2025-02-09T20:07:35.506195Z"
    },
    "trusted": true
   },
   "outputs": [],
   "source": [
    "import nltk\n",
    "import re\n",
    "import string\n",
    "import numpy as np\n",
    "import pandas as pd\n",
    "import seaborn as sns\n",
    "import matplotlib.pyplot as plt\n",
    "import plotly.express as px\n",
    "import tensorflow as tf\n",
    "\n",
    "import time\n",
    "from string import punctuation\n",
    "from termcolor import colored\n",
    "\n",
    "from sklearn.model_selection import train_test_split\n",
    "from sklearn.linear_model import PassiveAggressiveClassifier, SGDClassifier, LogisticRegression\n",
    "from sklearn.feature_extraction.text import TfidfVectorizer, CountVectorizer, TfidfTransformer\n",
    "from sklearn import feature_extraction, linear_model, model_selection, preprocessing\n",
    "from sklearn.pipeline import Pipeline\n",
    "from sklearn.naive_bayes import BernoulliNB, MultinomialNB\n",
    "from sklearn.svm import  LinearSVC,SVC\n",
    "from sklearn.decomposition import TruncatedSVD\n",
    "from sklearn.feature_selection import SelectKBest, chi2\n",
    "from sklearn.model_selection import GridSearchCV\n",
    "from sklearn.neural_network import MLPClassifier\n",
    "\n",
    "#from sklearn.utils.parallel import parallel_backend\n",
    "\n",
    "from sklearn.tree import DecisionTreeClassifier\n",
    "from sklearn.ensemble import RandomForestClassifier\n",
    "from sklearn.preprocessing import LabelEncoder\n",
    "from sklearn.metrics import roc_curve, auc, precision_recall_curve\n",
    "from sklearn.metrics import accuracy_score, confusion_matrix\n",
    "from sklearn.metrics import classification_report\n",
    "from sklearn.model_selection import train_test_split\n",
    "from sklearn.ensemble import GradientBoostingClassifier, VotingClassifier\n",
    "\n",
    "#from tensorflow.keras.wrappers.scikit_learn import KerasClassifier\n",
    "#from scikeras.wrappers import KerasClassifier\n",
    "\n",
    "from tensorflow.keras.optimizers import Adam\n",
    "from tensorflow.keras.models import Model\n",
    "from tensorflow.keras.layers import Input, Embedding, Conv1D,GlobalMaxPooling1D, MaxPooling1D, LSTM, Dense, Dropout, Flatten, Concatenate, Bidirectional\n",
    "from tensorflow.keras.preprocessing.text import Tokenizer\n",
    "from tensorflow.keras.preprocessing.sequence import pad_sequences\n",
    "from tensorflow.keras import Sequential\n",
    "from sklearn.model_selection import train_test_split\n",
    "from sklearn.metrics import classification_report, accuracy_score\n",
    "from wordcloud import WordCloud, STOPWORDS\n",
    "from keras.preprocessing.sequence import pad_sequences\n",
    "from keras.callbacks import ReduceLROnPlateau\n",
    "\n",
    "from nltk.stem import PorterStemmer\n",
    "from nltk.tokenize import sent_tokenize, word_tokenize\n",
    "from nltk.corpus import stopwords, wordnet\n",
    "from nltk import pos_tag\n",
    "\n",
    "from textblob import Word\n",
    "\n",
    "from collections import Counter\n",
    "\n",
    "from xgboost import XGBClassifier\n",
    "from warnings import filterwarnings\n",
    "filterwarnings('ignore')\n",
    "\n",
    "from sklearn import set_config\n",
    "set_config(print_changed_only = False)"
   ]
  },
  {
   "cell_type": "code",
   "execution_count": 2,
   "metadata": {
    "execution": {
     "iopub.execute_input": "2025-02-09T20:07:55.067933Z",
     "iopub.status.busy": "2025-02-09T20:07:55.067168Z",
     "iopub.status.idle": "2025-02-09T20:07:55.073605Z",
     "shell.execute_reply": "2025-02-09T20:07:55.072185Z",
     "shell.execute_reply.started": "2025-02-09T20:07:55.067892Z"
    },
    "trusted": true
   },
   "outputs": [],
   "source": [
    "#pip install --upgrade tensorflow scikit-learn scikeras"
   ]
  },
  {
   "cell_type": "code",
   "execution_count": 3,
   "metadata": {
    "execution": {
     "iopub.execute_input": "2025-02-09T20:07:55.079907Z",
     "iopub.status.busy": "2025-02-09T20:07:55.079417Z",
     "iopub.status.idle": "2025-02-09T20:07:55.422117Z",
     "shell.execute_reply": "2025-02-09T20:07:55.420783Z",
     "shell.execute_reply.started": "2025-02-09T20:07:55.079871Z"
    },
    "trusted": true
   },
   "outputs": [
    {
     "name": "stdout",
     "output_type": "stream",
     "text": [
      "[nltk_data] Downloading package stopwords to /usr/share/nltk_data...\n",
      "[nltk_data]   Package stopwords is already up-to-date!\n",
      "[nltk_data] Downloading package wordnet to /usr/share/nltk_data...\n",
      "[nltk_data]   Package wordnet is already up-to-date!\n",
      "[nltk_data] Downloading package omw-1.4 to /usr/share/nltk_data...\n"
     ]
    },
    {
     "data": {
      "text/plain": [
       "True"
      ]
     },
     "execution_count": 3,
     "metadata": {},
     "output_type": "execute_result"
    }
   ],
   "source": [
    "#Downloading nltk StopWords and Wordnet \n",
    "nltk.download('stopwords')\n",
    "nltk.download('wordnet')\n",
    "nltk.download('omw-1.4')"
   ]
  },
  {
   "cell_type": "code",
   "execution_count": 4,
   "metadata": {
    "execution": {
     "iopub.execute_input": "2025-02-09T20:07:55.425366Z",
     "iopub.status.busy": "2025-02-09T20:07:55.424173Z",
     "iopub.status.idle": "2025-02-09T20:08:12.938836Z",
     "shell.execute_reply": "2025-02-09T20:08:12.937286Z",
     "shell.execute_reply.started": "2025-02-09T20:07:55.425279Z"
    },
    "trusted": true
   },
   "outputs": [],
   "source": [
    "dsk = pd.read_excel('/kaggle/input/kurdishkdfnd/KDFND_Anlyzed_Cleaned_Filtered_Labeld.xlsx')\n"
   ]
  },
  {
   "cell_type": "code",
   "execution_count": 5,
   "metadata": {
    "execution": {
     "iopub.execute_input": "2025-02-09T20:08:12.941225Z",
     "iopub.status.busy": "2025-02-09T20:08:12.940455Z",
     "iopub.status.idle": "2025-02-09T20:08:12.947281Z",
     "shell.execute_reply": "2025-02-09T20:08:12.945979Z",
     "shell.execute_reply.started": "2025-02-09T20:08:12.941185Z"
    },
    "trusted": true
   },
   "outputs": [
    {
     "name": "stdout",
     "output_type": "stream",
     "text": [
      "Total Records:\t100966\n"
     ]
    }
   ],
   "source": [
    "#Getting Total Rows Real News\n",
    "print(f\"Total Records:\\t{dsk.shape[0]}\")"
   ]
  },
  {
   "cell_type": "code",
   "execution_count": 6,
   "metadata": {
    "execution": {
     "iopub.execute_input": "2025-02-09T20:08:12.948933Z",
     "iopub.status.busy": "2025-02-09T20:08:12.948505Z",
     "iopub.status.idle": "2025-02-09T20:08:13.132410Z",
     "shell.execute_reply": "2025-02-09T20:08:13.131079Z",
     "shell.execute_reply.started": "2025-02-09T20:08:12.948893Z"
    },
    "trusted": true
   },
   "outputs": [
    {
     "data": {
      "text/plain": [
       "0"
      ]
     },
     "execution_count": 6,
     "metadata": {},
     "output_type": "execute_result"
    }
   ],
   "source": [
    "dsk.duplicated().sum()"
   ]
  },
  {
   "cell_type": "code",
   "execution_count": 7,
   "metadata": {
    "execution": {
     "iopub.execute_input": "2025-02-09T20:08:13.134187Z",
     "iopub.status.busy": "2025-02-09T20:08:13.133823Z",
     "iopub.status.idle": "2025-02-09T20:08:13.165461Z",
     "shell.execute_reply": "2025-02-09T20:08:13.164167Z",
     "shell.execute_reply.started": "2025-02-09T20:08:13.134154Z"
    },
    "trusted": true
   },
   "outputs": [
    {
     "data": {
      "text/html": [
       "<div>\n",
       "<style scoped>\n",
       "    .dataframe tbody tr th:only-of-type {\n",
       "        vertical-align: middle;\n",
       "    }\n",
       "\n",
       "    .dataframe tbody tr th {\n",
       "        vertical-align: top;\n",
       "    }\n",
       "\n",
       "    .dataframe thead th {\n",
       "        text-align: right;\n",
       "    }\n",
       "</style>\n",
       "<table border=\"1\" class=\"dataframe\">\n",
       "  <thead>\n",
       "    <tr style=\"text-align: right;\">\n",
       "      <th></th>\n",
       "      <th>ID</th>\n",
       "      <th>Text</th>\n",
       "      <th>Text_Translate_to_English</th>\n",
       "      <th>URL</th>\n",
       "      <th>date</th>\n",
       "      <th>Source</th>\n",
       "      <th>label</th>\n",
       "      <th>Unnamed: 7</th>\n",
       "    </tr>\n",
       "  </thead>\n",
       "  <tbody>\n",
       "    <tr>\n",
       "      <th>0</th>\n",
       "      <td>3.005980e+15</td>\n",
       "      <td>ئەرشیف هاونیشتمانی بەیەکەوە پاسپۆرتەکانی عێراق...</td>\n",
       "      <td>Archive Citizens burn Iraqi passports together...</td>\n",
       "      <td>https://www.facebook.com/1504487946471802/post...</td>\n",
       "      <td>November</td>\n",
       "      <td>موچە هات ؟</td>\n",
       "      <td>Fake</td>\n",
       "      <td>NaN</td>\n",
       "    </tr>\n",
       "    <tr>\n",
       "      <th>1</th>\n",
       "      <td>7.808060e+14</td>\n",
       "      <td>هێشتا هەرجوانە دڵێکی بۆدانێن</td>\n",
       "      <td>It's still beautiful to put a heart on it</td>\n",
       "      <td>https://www.facebook.com/323725478582263/posts...</td>\n",
       "      <td>March</td>\n",
       "      <td>چاوی سێیەم</td>\n",
       "      <td>Fake</td>\n",
       "      <td>NaN</td>\n",
       "    </tr>\n",
       "    <tr>\n",
       "      <th>2</th>\n",
       "      <td>2.386810e+14</td>\n",
       "      <td>نەخۆشخانەی ڕانییە قەرەبالغیەکی یەکجار زۆر هەی،...</td>\n",
       "      <td>Ranya hospital is very crowded. According to t...</td>\n",
       "      <td>https://www.facebook.com/108272581409580/posts...</td>\n",
       "      <td>December</td>\n",
       "      <td>AWR ئاوڕ</td>\n",
       "      <td>Fake</td>\n",
       "      <td>NaN</td>\n",
       "    </tr>\n",
       "    <tr>\n",
       "      <th>3</th>\n",
       "      <td>1.466020e+14</td>\n",
       "      <td>ئێستا ڕانیە</td>\n",
       "      <td>Now Ranya</td>\n",
       "      <td>https://www.facebook.com/106305845075076/posts...</td>\n",
       "      <td>November</td>\n",
       "      <td>تۆپخانە</td>\n",
       "      <td>Fake</td>\n",
       "      <td>NaN</td>\n",
       "    </tr>\n",
       "    <tr>\n",
       "      <th>4</th>\n",
       "      <td>1.050170e+14</td>\n",
       "      <td>هاوڕی باشەکان گرنگی یەکتر دەدەن هاوڕێ نزیکەکان...</td>\n",
       "      <td>Good friends care about each other Close frien...</td>\n",
       "      <td>https://www.facebook.com/101680565609093/posts...</td>\n",
       "      <td>September</td>\n",
       "      <td>Face Kurd فیس کورد</td>\n",
       "      <td>Fake</td>\n",
       "      <td>NaN</td>\n",
       "    </tr>\n",
       "    <tr>\n",
       "      <th>...</th>\n",
       "      <td>...</td>\n",
       "      <td>...</td>\n",
       "      <td>...</td>\n",
       "      <td>...</td>\n",
       "      <td>...</td>\n",
       "      <td>...</td>\n",
       "      <td>...</td>\n",
       "      <td>...</td>\n",
       "    </tr>\n",
       "    <tr>\n",
       "      <th>100961</th>\n",
       "      <td>1.348250e+05</td>\n",
       "      <td>فڕۆکەکانی تورکیا شنگالیان بۆردومانکرد</td>\n",
       "      <td>Turkish planes bombarded Shingal</td>\n",
       "      <td>https://xendan.org/detailnews.aspx?jimare=1348...</td>\n",
       "      <td>August</td>\n",
       "      <td>Xendan</td>\n",
       "      <td>Real</td>\n",
       "      <td>NaN</td>\n",
       "    </tr>\n",
       "    <tr>\n",
       "      <th>100962</th>\n",
       "      <td>NaN</td>\n",
       "      <td>NaN</td>\n",
       "      <td>NaN</td>\n",
       "      <td>NaN</td>\n",
       "      <td>NaN</td>\n",
       "      <td>NaN</td>\n",
       "      <td>NaN</td>\n",
       "      <td>NaN</td>\n",
       "    </tr>\n",
       "    <tr>\n",
       "      <th>100963</th>\n",
       "      <td>NaN</td>\n",
       "      <td>NaN</td>\n",
       "      <td>NaN</td>\n",
       "      <td>NaN</td>\n",
       "      <td>NaN</td>\n",
       "      <td>NaN</td>\n",
       "      <td>count fake</td>\n",
       "      <td>50211.0</td>\n",
       "    </tr>\n",
       "    <tr>\n",
       "      <th>100964</th>\n",
       "      <td>NaN</td>\n",
       "      <td>NaN</td>\n",
       "      <td>NaN</td>\n",
       "      <td>NaN</td>\n",
       "      <td>NaN</td>\n",
       "      <td>NaN</td>\n",
       "      <td>count real</td>\n",
       "      <td>50751.0</td>\n",
       "    </tr>\n",
       "    <tr>\n",
       "      <th>100965</th>\n",
       "      <td>NaN</td>\n",
       "      <td>NaN</td>\n",
       "      <td>NaN</td>\n",
       "      <td>NaN</td>\n",
       "      <td>NaN</td>\n",
       "      <td>NaN</td>\n",
       "      <td>total</td>\n",
       "      <td>100962.0</td>\n",
       "    </tr>\n",
       "  </tbody>\n",
       "</table>\n",
       "<p>100966 rows × 8 columns</p>\n",
       "</div>"
      ],
      "text/plain": [
       "                  ID                                               Text  \\\n",
       "0       3.005980e+15  ئەرشیف هاونیشتمانی بەیەکەوە پاسپۆرتەکانی عێراق...   \n",
       "1       7.808060e+14                       هێشتا هەرجوانە دڵێکی بۆدانێن   \n",
       "2       2.386810e+14  نەخۆشخانەی ڕانییە قەرەبالغیەکی یەکجار زۆر هەی،...   \n",
       "3       1.466020e+14                                        ئێستا ڕانیە   \n",
       "4       1.050170e+14  هاوڕی باشەکان گرنگی یەکتر دەدەن هاوڕێ نزیکەکان...   \n",
       "...              ...                                                ...   \n",
       "100961  1.348250e+05              فڕۆکەکانی تورکیا شنگالیان بۆردومانکرد   \n",
       "100962           NaN                                                NaN   \n",
       "100963           NaN                                                NaN   \n",
       "100964           NaN                                                NaN   \n",
       "100965           NaN                                                NaN   \n",
       "\n",
       "                                Text_Translate_to_English  \\\n",
       "0       Archive Citizens burn Iraqi passports together...   \n",
       "1               It's still beautiful to put a heart on it   \n",
       "2       Ranya hospital is very crowded. According to t...   \n",
       "3                                               Now Ranya   \n",
       "4       Good friends care about each other Close frien...   \n",
       "...                                                   ...   \n",
       "100961                   Turkish planes bombarded Shingal   \n",
       "100962                                                NaN   \n",
       "100963                                                NaN   \n",
       "100964                                                NaN   \n",
       "100965                                                NaN   \n",
       "\n",
       "                                                      URL       date  \\\n",
       "0       https://www.facebook.com/1504487946471802/post...   November   \n",
       "1       https://www.facebook.com/323725478582263/posts...      March   \n",
       "2       https://www.facebook.com/108272581409580/posts...   December   \n",
       "3       https://www.facebook.com/106305845075076/posts...   November   \n",
       "4       https://www.facebook.com/101680565609093/posts...  September   \n",
       "...                                                   ...        ...   \n",
       "100961  https://xendan.org/detailnews.aspx?jimare=1348...     August   \n",
       "100962                                                NaN        NaN   \n",
       "100963                                                NaN        NaN   \n",
       "100964                                                NaN        NaN   \n",
       "100965                                                NaN        NaN   \n",
       "\n",
       "                    Source       label  Unnamed: 7  \n",
       "0               موچە هات ؟        Fake         NaN  \n",
       "1               چاوی سێیەم        Fake         NaN  \n",
       "2                 AWR ئاوڕ        Fake         NaN  \n",
       "3                  تۆپخانە        Fake         NaN  \n",
       "4       Face Kurd فیس کورد        Fake         NaN  \n",
       "...                    ...         ...         ...  \n",
       "100961              Xendan        Real         NaN  \n",
       "100962                 NaN         NaN         NaN  \n",
       "100963                 NaN  count fake     50211.0  \n",
       "100964                 NaN  count real     50751.0  \n",
       "100965                 NaN       total    100962.0  \n",
       "\n",
       "[100966 rows x 8 columns]"
      ]
     },
     "execution_count": 7,
     "metadata": {},
     "output_type": "execute_result"
    }
   ],
   "source": [
    "dsk"
   ]
  },
  {
   "cell_type": "code",
   "execution_count": 8,
   "metadata": {
    "execution": {
     "iopub.execute_input": "2025-02-09T20:08:13.167495Z",
     "iopub.status.busy": "2025-02-09T20:08:13.167021Z",
     "iopub.status.idle": "2025-02-09T20:08:13.325557Z",
     "shell.execute_reply": "2025-02-09T20:08:13.323606Z",
     "shell.execute_reply.started": "2025-02-09T20:08:13.167444Z"
    },
    "trusted": true
   },
   "outputs": [
    {
     "data": {
      "text/plain": [
       "ID                            90905\n",
       "Text                         100961\n",
       "Text_Translate_to_English    100411\n",
       "URL                          100800\n",
       "date                             12\n",
       "Source                          103\n",
       "label                             5\n",
       "Unnamed: 7                        3\n",
       "dtype: int64"
      ]
     },
     "execution_count": 8,
     "metadata": {},
     "output_type": "execute_result"
    }
   ],
   "source": [
    "dsk.nunique()"
   ]
  },
  {
   "cell_type": "code",
   "execution_count": 9,
   "metadata": {
    "execution": {
     "iopub.execute_input": "2025-02-09T20:08:13.327656Z",
     "iopub.status.busy": "2025-02-09T20:08:13.327221Z",
     "iopub.status.idle": "2025-02-09T20:08:13.401870Z",
     "shell.execute_reply": "2025-02-09T20:08:13.400648Z",
     "shell.execute_reply.started": "2025-02-09T20:08:13.327620Z"
    },
    "trusted": true
   },
   "outputs": [
    {
     "name": "stdout",
     "output_type": "stream",
     "text": [
      "<class 'pandas.core.frame.DataFrame'>\n",
      "RangeIndex: 100966 entries, 0 to 100965\n",
      "Data columns (total 8 columns):\n",
      " #   Column                     Non-Null Count   Dtype  \n",
      "---  ------                     --------------   -----  \n",
      " 0   ID                         100962 non-null  float64\n",
      " 1   Text                       100962 non-null  object \n",
      " 2   Text_Translate_to_English  100961 non-null  object \n",
      " 3   URL                        100962 non-null  object \n",
      " 4   date                       100962 non-null  object \n",
      " 5   Source                     100962 non-null  object \n",
      " 6   label                      100965 non-null  object \n",
      " 7   Unnamed: 7                 3 non-null       float64\n",
      "dtypes: float64(2), object(6)\n",
      "memory usage: 6.2+ MB\n"
     ]
    }
   ],
   "source": [
    "dsk.info()"
   ]
  },
  {
   "cell_type": "code",
   "execution_count": 10,
   "metadata": {
    "execution": {
     "iopub.execute_input": "2025-02-09T20:08:13.404236Z",
     "iopub.status.busy": "2025-02-09T20:08:13.403860Z",
     "iopub.status.idle": "2025-02-09T20:08:13.448866Z",
     "shell.execute_reply": "2025-02-09T20:08:13.447373Z",
     "shell.execute_reply.started": "2025-02-09T20:08:13.404198Z"
    },
    "trusted": true
   },
   "outputs": [],
   "source": [
    "dsk = dsk.dropna(subset=['Text'])\n",
    "#dsk.info()"
   ]
  },
  {
   "cell_type": "code",
   "execution_count": 11,
   "metadata": {
    "execution": {
     "iopub.execute_input": "2025-02-09T20:08:13.450893Z",
     "iopub.status.busy": "2025-02-09T20:08:13.450371Z",
     "iopub.status.idle": "2025-02-09T20:08:13.587099Z",
     "shell.execute_reply": "2025-02-09T20:08:13.585816Z",
     "shell.execute_reply.started": "2025-02-09T20:08:13.450843Z"
    },
    "trusted": true
   },
   "outputs": [],
   "source": [
    "dsk[\"Source\"] = dsk[\"Source\"].astype(str)\n",
    "dsk[\"Text\"] = dsk[\"Text\"].astype(str)\n",
    "\n",
    "#dsk[\"Article\"] = dsk[\"Source\"]+' '+ dsk[\"Text\"]\n",
    "dsk[\"Article\"] =  dsk[\"Text\"]\n",
    "\n",
    "\n",
    "dsk.sample(frac = 1) #Shuffle 100% Text_Translate_to_English\n",
    "\n",
    "dsk.loc[dsk.label == 'Real', 'label'] = 0\n",
    "dsk.loc[dsk.label == 'Fake', 'label'] = 1\n",
    "\n",
    "dsk = dsk.loc[:,['Article', 'label']]\n",
    "dsk = dsk.dropna()"
   ]
  },
  {
   "cell_type": "code",
   "execution_count": 12,
   "metadata": {
    "execution": {
     "iopub.execute_input": "2025-02-09T20:08:13.588950Z",
     "iopub.status.busy": "2025-02-09T20:08:13.588501Z",
     "iopub.status.idle": "2025-02-09T20:08:13.621618Z",
     "shell.execute_reply": "2025-02-09T20:08:13.620054Z",
     "shell.execute_reply.started": "2025-02-09T20:08:13.588908Z"
    },
    "trusted": true
   },
   "outputs": [
    {
     "name": "stdout",
     "output_type": "stream",
     "text": [
      "<class 'pandas.core.frame.DataFrame'>\n",
      "Index: 100962 entries, 0 to 100961\n",
      "Data columns (total 2 columns):\n",
      " #   Column   Non-Null Count   Dtype \n",
      "---  ------   --------------   ----- \n",
      " 0   Article  100962 non-null  object\n",
      " 1   label    100962 non-null  object\n",
      "dtypes: object(2)\n",
      "memory usage: 2.3+ MB\n"
     ]
    }
   ],
   "source": [
    "dsk.info()"
   ]
  },
  {
   "cell_type": "code",
   "execution_count": 13,
   "metadata": {
    "execution": {
     "iopub.execute_input": "2025-02-09T20:08:13.623620Z",
     "iopub.status.busy": "2025-02-09T20:08:13.623127Z",
     "iopub.status.idle": "2025-02-09T20:08:13.636957Z",
     "shell.execute_reply": "2025-02-09T20:08:13.634997Z",
     "shell.execute_reply.started": "2025-02-09T20:08:13.623569Z"
    },
    "trusted": true
   },
   "outputs": [
    {
     "data": {
      "text/html": [
       "<div>\n",
       "<style scoped>\n",
       "    .dataframe tbody tr th:only-of-type {\n",
       "        vertical-align: middle;\n",
       "    }\n",
       "\n",
       "    .dataframe tbody tr th {\n",
       "        vertical-align: top;\n",
       "    }\n",
       "\n",
       "    .dataframe thead th {\n",
       "        text-align: right;\n",
       "    }\n",
       "</style>\n",
       "<table border=\"1\" class=\"dataframe\">\n",
       "  <thead>\n",
       "    <tr style=\"text-align: right;\">\n",
       "      <th></th>\n",
       "      <th>Article</th>\n",
       "      <th>label</th>\n",
       "    </tr>\n",
       "  </thead>\n",
       "  <tbody>\n",
       "    <tr>\n",
       "      <th>0</th>\n",
       "      <td>ئەرشیف هاونیشتمانی بەیەکەوە پاسپۆرتەکانی عێراق...</td>\n",
       "      <td>1</td>\n",
       "    </tr>\n",
       "    <tr>\n",
       "      <th>1</th>\n",
       "      <td>هێشتا هەرجوانە دڵێکی بۆدانێن</td>\n",
       "      <td>1</td>\n",
       "    </tr>\n",
       "    <tr>\n",
       "      <th>2</th>\n",
       "      <td>نەخۆشخانەی ڕانییە قەرەبالغیەکی یەکجار زۆر هەی،...</td>\n",
       "      <td>1</td>\n",
       "    </tr>\n",
       "    <tr>\n",
       "      <th>3</th>\n",
       "      <td>ئێستا ڕانیە</td>\n",
       "      <td>1</td>\n",
       "    </tr>\n",
       "    <tr>\n",
       "      <th>4</th>\n",
       "      <td>هاوڕی باشەکان گرنگی یەکتر دەدەن هاوڕێ نزیکەکان...</td>\n",
       "      <td>1</td>\n",
       "    </tr>\n",
       "    <tr>\n",
       "      <th>...</th>\n",
       "      <td>...</td>\n",
       "      <td>...</td>\n",
       "    </tr>\n",
       "    <tr>\n",
       "      <th>100957</th>\n",
       "      <td>کەرکووک؛ پیاوێکی 52 ساڵ گوشاری هاوژینەکەیدا ما...</td>\n",
       "      <td>0</td>\n",
       "    </tr>\n",
       "    <tr>\n",
       "      <th>100958</th>\n",
       "      <td>تەقینەوەیەک ناوچەی سەوزی بەغدا ڕوویدا</td>\n",
       "      <td>0</td>\n",
       "    </tr>\n",
       "    <tr>\n",
       "      <th>100959</th>\n",
       "      <td>باسیان لەچی کرد؟ زانیاری ورد بخوێنەوە پاپاوە س...</td>\n",
       "      <td>0</td>\n",
       "    </tr>\n",
       "    <tr>\n",
       "      <th>100960</th>\n",
       "      <td>ئێران گیانلەدەستدانی خۆپیشاندەرێکی ڕاگەیاند</td>\n",
       "      <td>0</td>\n",
       "    </tr>\n",
       "    <tr>\n",
       "      <th>100961</th>\n",
       "      <td>فڕۆکەکانی تورکیا شنگالیان بۆردومانکرد</td>\n",
       "      <td>0</td>\n",
       "    </tr>\n",
       "  </tbody>\n",
       "</table>\n",
       "<p>100962 rows × 2 columns</p>\n",
       "</div>"
      ],
      "text/plain": [
       "                                                  Article label\n",
       "0       ئەرشیف هاونیشتمانی بەیەکەوە پاسپۆرتەکانی عێراق...     1\n",
       "1                            هێشتا هەرجوانە دڵێکی بۆدانێن     1\n",
       "2       نەخۆشخانەی ڕانییە قەرەبالغیەکی یەکجار زۆر هەی،...     1\n",
       "3                                             ئێستا ڕانیە     1\n",
       "4       هاوڕی باشەکان گرنگی یەکتر دەدەن هاوڕێ نزیکەکان...     1\n",
       "...                                                   ...   ...\n",
       "100957  کەرکووک؛ پیاوێکی 52 ساڵ گوشاری هاوژینەکەیدا ما...     0\n",
       "100958              تەقینەوەیەک ناوچەی سەوزی بەغدا ڕوویدا     0\n",
       "100959  باسیان لەچی کرد؟ زانیاری ورد بخوێنەوە پاپاوە س...     0\n",
       "100960        ئێران گیانلەدەستدانی خۆپیشاندەرێکی ڕاگەیاند     0\n",
       "100961              فڕۆکەکانی تورکیا شنگالیان بۆردومانکرد     0\n",
       "\n",
       "[100962 rows x 2 columns]"
      ]
     },
     "execution_count": 13,
     "metadata": {},
     "output_type": "execute_result"
    }
   ],
   "source": [
    "dsk\n"
   ]
  },
  {
   "cell_type": "code",
   "execution_count": 14,
   "metadata": {
    "execution": {
     "iopub.execute_input": "2025-02-09T20:08:13.639179Z",
     "iopub.status.busy": "2025-02-09T20:08:13.638801Z",
     "iopub.status.idle": "2025-02-09T20:08:13.675760Z",
     "shell.execute_reply": "2025-02-09T20:08:13.674482Z",
     "shell.execute_reply.started": "2025-02-09T20:08:13.639145Z"
    },
    "trusted": true
   },
   "outputs": [
    {
     "data": {
      "text/html": [
       "<div>\n",
       "<style scoped>\n",
       "    .dataframe tbody tr th:only-of-type {\n",
       "        vertical-align: middle;\n",
       "    }\n",
       "\n",
       "    .dataframe tbody tr th {\n",
       "        vertical-align: top;\n",
       "    }\n",
       "\n",
       "    .dataframe thead th {\n",
       "        text-align: right;\n",
       "    }\n",
       "</style>\n",
       "<table border=\"1\" class=\"dataframe\">\n",
       "  <thead>\n",
       "    <tr style=\"text-align: right;\">\n",
       "      <th></th>\n",
       "      <th>Article</th>\n",
       "    </tr>\n",
       "    <tr>\n",
       "      <th>label</th>\n",
       "      <th></th>\n",
       "    </tr>\n",
       "  </thead>\n",
       "  <tbody>\n",
       "    <tr>\n",
       "      <th>0</th>\n",
       "      <td>50751</td>\n",
       "    </tr>\n",
       "    <tr>\n",
       "      <th>1</th>\n",
       "      <td>50211</td>\n",
       "    </tr>\n",
       "  </tbody>\n",
       "</table>\n",
       "</div>"
      ],
      "text/plain": [
       "       Article\n",
       "label         \n",
       "0        50751\n",
       "1        50211"
      ]
     },
     "execution_count": 14,
     "metadata": {},
     "output_type": "execute_result"
    }
   ],
   "source": [
    "grouped_by_class = dsk.groupby('label').count()\n",
    "grouped_by_class"
   ]
  },
  {
   "cell_type": "code",
   "execution_count": 15,
   "metadata": {
    "execution": {
     "iopub.execute_input": "2025-02-09T20:08:13.677621Z",
     "iopub.status.busy": "2025-02-09T20:08:13.677150Z",
     "iopub.status.idle": "2025-02-09T20:08:13.705224Z",
     "shell.execute_reply": "2025-02-09T20:08:13.703862Z",
     "shell.execute_reply.started": "2025-02-09T20:08:13.677570Z"
    },
    "trusted": true
   },
   "outputs": [
    {
     "data": {
      "text/plain": [
       "Article    0\n",
       "label      0\n",
       "dtype: int64"
      ]
     },
     "execution_count": 15,
     "metadata": {},
     "output_type": "execute_result"
    }
   ],
   "source": [
    "dsk.isnull().sum()"
   ]
  },
  {
   "cell_type": "code",
   "execution_count": 16,
   "metadata": {
    "execution": {
     "iopub.execute_input": "2025-02-09T20:08:13.707000Z",
     "iopub.status.busy": "2025-02-09T20:08:13.706616Z",
     "iopub.status.idle": "2025-02-09T20:08:13.746202Z",
     "shell.execute_reply": "2025-02-09T20:08:13.745022Z",
     "shell.execute_reply.started": "2025-02-09T20:08:13.706944Z"
    },
    "trusted": true
   },
   "outputs": [],
   "source": [
    "# Assuming dsk is your DataFrame\n",
    "# Separate the majority and minority classes\n",
    "df_majority = dsk[dsk['label'] == 0]\n",
    "df_minority = dsk[dsk['label'] == 1]\n",
    "\n",
    "# Oversample the minority class\n",
    "#df_minority_oversampled = df_minority.sample(len(df_majority), replace=True, random_state=2020)\n",
    "df_majority_undersampled = df_majority.sample(len(df_minority), replace=True, random_state=2020)\n",
    "\n",
    "# Combine the majority class with the oversampled minority class\n",
    "#dsk_balanced = pd.concat([df_majority, df_minority_oversampled])\n",
    "dsk_balanced = pd.concat([df_minority, df_majority_undersampled])\n",
    "\n",
    "# Shuffle the dataset\n",
    "#dsk = dsk_balanced.sample(frac=1, random_state=2020).reset_index(drop=True)\n",
    "\n",
    "# Check the new class distribution\n",
    "#grouped_by_class_balanced = dsk.groupby('label').count()\n",
    "#print(grouped_by_class_balanced)"
   ]
  },
  {
   "cell_type": "code",
   "execution_count": 17,
   "metadata": {
    "execution": {
     "iopub.execute_input": "2025-02-09T20:08:13.751711Z",
     "iopub.status.busy": "2025-02-09T20:08:13.751303Z",
     "iopub.status.idle": "2025-02-09T20:08:13.835474Z",
     "shell.execute_reply": "2025-02-09T20:08:13.834152Z",
     "shell.execute_reply.started": "2025-02-09T20:08:13.751677Z"
    },
    "trusted": true
   },
   "outputs": [
    {
     "name": "stdout",
     "output_type": "stream",
     "text": [
      "Class weights: {0: 0.9946799077850683, 1: 1.0053773077612476}\n"
     ]
    }
   ],
   "source": [
    "from sklearn.utils.class_weight import compute_class_weight\n",
    "import numpy as np\n",
    "\n",
    "# Compute class weights\n",
    "class_weights = compute_class_weight('balanced', classes=np.unique(dsk['label']), y=dsk['label'])\n",
    "class_weights_dict = {i: weight for i, weight in enumerate(class_weights)}\n",
    "print(\"Class weights:\", class_weights_dict)"
   ]
  },
  {
   "cell_type": "code",
   "execution_count": 18,
   "metadata": {
    "execution": {
     "iopub.execute_input": "2025-02-09T20:08:13.839002Z",
     "iopub.status.busy": "2025-02-09T20:08:13.837935Z",
     "iopub.status.idle": "2025-02-09T20:08:17.910276Z",
     "shell.execute_reply": "2025-02-09T20:08:17.909093Z",
     "shell.execute_reply.started": "2025-02-09T20:08:13.838777Z"
    },
    "trusted": true
   },
   "outputs": [
    {
     "data": {
      "text/html": [
       "<div>\n",
       "<style scoped>\n",
       "    .dataframe tbody tr th:only-of-type {\n",
       "        vertical-align: middle;\n",
       "    }\n",
       "\n",
       "    .dataframe tbody tr th {\n",
       "        vertical-align: top;\n",
       "    }\n",
       "\n",
       "    .dataframe thead th {\n",
       "        text-align: right;\n",
       "    }\n",
       "</style>\n",
       "<table border=\"1\" class=\"dataframe\">\n",
       "  <thead>\n",
       "    <tr style=\"text-align: right;\">\n",
       "      <th></th>\n",
       "      <th>Article</th>\n",
       "      <th>label</th>\n",
       "    </tr>\n",
       "  </thead>\n",
       "  <tbody>\n",
       "    <tr>\n",
       "      <th>0</th>\n",
       "      <td>ئەرشیف هاونیشتمانی بەیەکەوە پاسپۆرتەکانی عێراق...</td>\n",
       "      <td>1</td>\n",
       "    </tr>\n",
       "    <tr>\n",
       "      <th>1</th>\n",
       "      <td>هێشتا هەرجوانە دڵێکی بۆدانێن</td>\n",
       "      <td>1</td>\n",
       "    </tr>\n",
       "    <tr>\n",
       "      <th>2</th>\n",
       "      <td>نەخۆشخانەی ڕانییە قەرەبالغیەکی یەکجار زۆر هەی،...</td>\n",
       "      <td>1</td>\n",
       "    </tr>\n",
       "    <tr>\n",
       "      <th>3</th>\n",
       "      <td>ئێستا ڕانیە</td>\n",
       "      <td>1</td>\n",
       "    </tr>\n",
       "    <tr>\n",
       "      <th>4</th>\n",
       "      <td>هاوڕی باشەکان گرنگی یەکتر دەدەن هاوڕێ نزیکەکان...</td>\n",
       "      <td>1</td>\n",
       "    </tr>\n",
       "    <tr>\n",
       "      <th>...</th>\n",
       "      <td>...</td>\n",
       "      <td>...</td>\n",
       "    </tr>\n",
       "    <tr>\n",
       "      <th>100957</th>\n",
       "      <td>کەرکووک؛ پیاوێکی 52 ساڵ گوشاری هاوژینەکەیدا ما...</td>\n",
       "      <td>0</td>\n",
       "    </tr>\n",
       "    <tr>\n",
       "      <th>100958</th>\n",
       "      <td>تەقینەوەیەک ناوچەی سەوزی بەغدا ڕوویدا</td>\n",
       "      <td>0</td>\n",
       "    </tr>\n",
       "    <tr>\n",
       "      <th>100959</th>\n",
       "      <td>باسیان لەچی کرد؟ زانیاری ورد بخوێنەوە پاپاوە س...</td>\n",
       "      <td>0</td>\n",
       "    </tr>\n",
       "    <tr>\n",
       "      <th>100960</th>\n",
       "      <td>ئێران گیانلەدەستدانی خۆپیشاندەرێکی ڕاگەیاند</td>\n",
       "      <td>0</td>\n",
       "    </tr>\n",
       "    <tr>\n",
       "      <th>100961</th>\n",
       "      <td>فڕۆکەکانی تورکیا شنگالیان بۆردومانکرد</td>\n",
       "      <td>0</td>\n",
       "    </tr>\n",
       "  </tbody>\n",
       "</table>\n",
       "<p>100962 rows × 2 columns</p>\n",
       "</div>"
      ],
      "text/plain": [
       "                                                  Article label\n",
       "0       ئەرشیف هاونیشتمانی بەیەکەوە پاسپۆرتەکانی عێراق...     1\n",
       "1                            هێشتا هەرجوانە دڵێکی بۆدانێن     1\n",
       "2       نەخۆشخانەی ڕانییە قەرەبالغیەکی یەکجار زۆر هەی،...     1\n",
       "3                                             ئێستا ڕانیە     1\n",
       "4       هاوڕی باشەکان گرنگی یەکتر دەدەن هاوڕێ نزیکەکان...     1\n",
       "...                                                   ...   ...\n",
       "100957  کەرکووک؛ پیاوێکی 52 ساڵ گوشاری هاوژینەکەیدا ما...     0\n",
       "100958              تەقینەوەیەک ناوچەی سەوزی بەغدا ڕوویدا     0\n",
       "100959  باسیان لەچی کرد؟ زانیاری ورد بخوێنەوە پاپاوە س...     0\n",
       "100960        ئێران گیانلەدەستدانی خۆپیشاندەرێکی ڕاگەیاند     0\n",
       "100961              فڕۆکەکانی تورکیا شنگالیان بۆردومانکرد     0\n",
       "\n",
       "[100962 rows x 2 columns]"
      ]
     },
     "execution_count": 18,
     "metadata": {},
     "output_type": "execute_result"
    }
   ],
   "source": [
    "# Tokenize and count word frequencies\n",
    "all_words = ' '.join(dsk).split()\n",
    "word_freq = Counter(all_words)\n",
    "\n",
    "# Identify potential stopwords (e.g., words appearing very frequently)\n",
    "potential_stopwords = [word for word, freq in word_freq.items() if freq > 1]\n",
    "\n",
    "# Example stopwords list (refined manually)\n",
    "kurdish_stopwords = [\n",
    "     \"ئێمە\",\"ئێوە\",\"ئەم\",\"ئەو\"\n",
    "     ,\"ئەوان\",\"ئەوەی\",\"بۆ\",\"بێ\",\"بێجگە\",\"بە\",\"بەبێ\",\"بەدەم\",\"بەردەم\",\"بەرلە\",\"بەرەوی\",\"بەرەوە\",\"بەلای\",\"بەپێی\",\"تۆ\",\"تێ\",\"جگە\",\"دوای\",\"دوو\",\"دە\"\n",
    "     ,\"دەکات\",\"دەگەڵ\",\"سەر\",\"لێ\",\"لە\",\"لەبابەت\",\"لەباتی\",\"لەبارەی\",\"لەبرێتی\",\"لەبن\",\"لەبەر\",\"لەبەینی\",\"لەدەم\",\"لەرێ\",\"لەرێگا\",\"لەرەوی\",\"لەسەر\",\"لەلایەن\"\n",
    "     ,\"لەناو\",\"لەنێو\",\"لەو\",\"لەپێناوی\",\"لەژێر\",\"لەگەڵ\",\"من\",\"ناو\",\"نێوان\",\"هەر\",\"هەروەها\",\"و\",\"وەک\",\"پاش\",\"پێ\",\"پێش\",\"چەند\",\"کرد\",\"کە\",\"ی\"\n",
    "\n",
    "] + potential_stopwords\n",
    "\n",
    "\n",
    "#kurdish_stopwords = [\n",
    "#    \"ئەوە\",\"ئەوان\",\"ئەو\",\"ئەوا\",\"ئەم\",\"ئەنجام\",\"ئێوە\",\"ئێمە\",\"ئەگەر\",\"ئێستا\",\"ئەمساڵ\",\"ئەمە\",\"ئەمڕۆ\",\"ئەی\",\"ئەمان\",\n",
    "#\"بەو\",\"بەچەند\",\"بەهۆ\",\"بەهیچ\",\"بە\",\"چۆن\",\"بەڵکو\",\"بەرەو\",\"بەپێی\",\"بەم\",\"بەبێ\",\"بۆئەو\",\"بۆچی\",\"بۆیە\",\"بۆ\",\n",
    "#\"بەپێی\",'بوون',\"بوو\",\"بەڵام\",\"بارە\",\"بەسەر\",\"بەڵێ\",\"بەوە\",\"بکات\",\"بۆچی\",\n",
    "#\"باش\",\"بەباش\",\"بان\",\"بکەن\",\"بن\",\"بێ\",\"بووە\",\"بەوە\",\"بەوان\",\"بێت\",\n",
    "#\"بەدەست\",\"بەردەوام\",\"بڕی\",\"بدات\",\"بڵێ\",\n",
    "#\"پاشان\",\"پاش\",\"پاشی\",\"پێش\",\"پێنج\",\"پێشتر\",\"پێشوو\",\"پڵە\",\n",
    "#\"تا\",\"تاکو\",\"تاوەکو\",\"تۆ\",\"تایبەت\",\"تر\",\"تری\",\"تەنها\",\"تەنیا\",\"تەواو\",\"تۆن\",\"تیدا\",\"تێدا\",\n",
    "#\"جار\",\"جگە\",\"جا\",\"جۆر\",\"جۆری\",\n",
    "#\"چی\",\"چوار\",\"چونکە\",\"چونک\",\"چۆن\",\"چەند\",\"چوارەم\",\"چیە\",\n",
    "#\"حەوت\",\"حەوتەم\",\n",
    "#\"خۆ\",\"خۆی\",\"خۆمان\",\n",
    "#\"دواجار\",\"دا\",\"دوو\",'دووەم',\"دەیەم\",\"دووشەمم\",\"دوای\",'دەڵێت',\"دیکە\",\"دەبێت\",\"دەکات\",\"دوا\",\n",
    "#\"ڕۆژ\",\"ڕۆژان\",\n",
    "#\"ژێر\",\"زۆر\",\"زۆرە\",\"زوو\",\"زووی\",\"زۆردەبن\",\"زیاتر\",\"زۆرب\",\"زۆربە\",\n",
    "#\"سەد\",\"ساڵ\",\"ساڵە\",\"سەدا\",\"سێ\",\"سەر\",\"سەرەتا\",\"ساڵی\",'سبەی',\"سەرجەم\",\n",
    "#\"شوبات\",\"شەش\",\"شوێن\",\"شێوە\",\"شەشەم\",\n",
    "#\"قۆناغ\",\n",
    "#\"کەس\",\"کانون\",\"کەچی\",\"کەنەو\",\"کە\",\"کاتی\",\"کات\",\"کەبۆ\",\"کەوات\",\"کەم\",'کەمی',\"کەمە\",\n",
    "#\"گەر\",\"گەورە\",\n",
    "#\"لەسەر\",\"لەگەڵ\",\"لە\",\"لەم\",\"لەو\",\"لەوە\",\"لەبەر\",\"لەبن\",\"لەوان\",\"لەهەر\",\"لەوکات\",\"لەدوا\",\"لەنێو\",\"لەژێر\",\"لای\", \"لایەن\",\"لەناو\",\"لێ\",\"لەچی\",\n",
    "#\"مەبەست\",\"من\",\"ملیۆن\",\"مان\",\"مانگ\",\n",
    "#\"نەک\",\"نیە\",\"نۆ\",\"نابن\",\"نەکەن\",\"نەوەک\",\"نێو\",\"نێوان\",\"نا\",\"نەبێت\",\"نیشان\",\"نییە\",\"ناو\",\"ناوبراو\",\"ناوی\",\"نوێ\",'نەخێر',\"نە\",\"نەچێ\",\"نەبوو\",\n",
    "#\"وەی\",\"وە\",\"وەرز\",\"وا\",\"وەک\",\"وەکو\",\"وەکوو\",\"وەها\",\"وایە\",\n",
    "#\"هەینی\",\"هەبوو\",\"هەیە\",\"هەموو\",\"هەر\",\"هات\",\"هۆکار\",\"هۆ\",\"هەرچەند\",\"هەزار\",\"هەن\",\"هەند\",\"هۆی\",\"هیچ\",\"هێند\",\"هەفت\",\"هەریەک\",\"هەبێت\"\n",
    "#,\"هەروەها\",\"هەمان\",\"هێڵی\",\"هەردوو\",\"هەردوولا\",\"هەزارها\",\"هاوکات\",\"هەشت\",\"هەشتەم\",\"هەتا\",\"هتد\",\"هەردەم\",\"هەبێ\",\"هەمووکات\",\"هیچی\",\"هاتو\",\n",
    "#\"یان\",\"یەکەم\",\"یە\",\"یی\",\"یەک\",\"یەکەمجار\",\"یا\"\n",
    "#] + potential_stopwords\n",
    "\n",
    "kupunctuation = {'!', '\"', '#', '$', '%', '&', \"'\", '(', ')', '*', '+', ',', '-', '.', '/', ':', ';', '<', '=', '>', '?',\n",
    "                 '@', '[', '\\\\', ']', '^', '_', '`', '{', '|', '}', '~'}\n",
    "\n",
    "# Convert set to list before concatenation\n",
    "ku_stopwords = kurdish_stopwords + list(kupunctuation)\n",
    "\n",
    "def rremove_stopwords(text, stop_words):\n",
    "    words = text.split()\n",
    "    filtered_words = [word for word in words if word.lower() not in stop_words]\n",
    "    return ' '.join(filtered_words)\n",
    "    \n",
    "# Apply the function to each article\n",
    "dsk['Article'] = dsk['Article'].apply(lambda text: rremove_stopwords(text, ku_stopwords))\n",
    "dsk"
   ]
  },
  {
   "cell_type": "code",
   "execution_count": 19,
   "metadata": {
    "execution": {
     "iopub.execute_input": "2025-02-09T20:08:17.911931Z",
     "iopub.status.busy": "2025-02-09T20:08:17.911594Z",
     "iopub.status.idle": "2025-02-09T20:08:30.880718Z",
     "shell.execute_reply": "2025-02-09T20:08:30.878872Z",
     "shell.execute_reply.started": "2025-02-09T20:08:17.911899Z"
    },
    "trusted": true
   },
   "outputs": [
    {
     "name": "stdout",
     "output_type": "stream",
     "text": [
      "Collecting klpt\n",
      "  Downloading klpt-0.1.7-py3-none-any.whl.metadata (16 kB)\n",
      "Collecting chunspell==2.0.4 (from klpt)\n",
      "  Downloading chunspell-2.0.4-cp310-cp310-manylinux_2_17_x86_64.manylinux2014_x86_64.whl.metadata (4.8 kB)\n",
      "Downloading klpt-0.1.7-py3-none-any.whl (651 kB)\n",
      "\u001b[2K   \u001b[90m━━━━━━━━━━━━━━━━━━━━━━━━━━━━━━━━━━━━━━━━\u001b[0m \u001b[32m651.7/651.7 kB\u001b[0m \u001b[31m12.3 MB/s\u001b[0m eta \u001b[36m0:00:00\u001b[0m00:01\u001b[0m\n",
      "\u001b[?25hDownloading chunspell-2.0.4-cp310-cp310-manylinux_2_17_x86_64.manylinux2014_x86_64.whl (932 kB)\n",
      "\u001b[2K   \u001b[90m━━━━━━━━━━━━━━━━━━━━━━━━━━━━━━━━━━━━━━━━\u001b[0m \u001b[32m932.4/932.4 kB\u001b[0m \u001b[31m24.9 MB/s\u001b[0m eta \u001b[36m0:00:00\u001b[0m00:01\u001b[0m\n",
      "\u001b[?25hInstalling collected packages: chunspell, klpt\n",
      "Successfully installed chunspell-2.0.4 klpt-0.1.7\n",
      "Note: you may need to restart the kernel to use updated packages.\n"
     ]
    }
   ],
   "source": [
    "pip install klpt"
   ]
  },
  {
   "cell_type": "code",
   "execution_count": 20,
   "metadata": {
    "execution": {
     "iopub.execute_input": "2025-02-09T20:08:30.883179Z",
     "iopub.status.busy": "2025-02-09T20:08:30.882784Z",
     "iopub.status.idle": "2025-02-09T20:08:30.900291Z",
     "shell.execute_reply": "2025-02-09T20:08:30.898497Z",
     "shell.execute_reply.started": "2025-02-09T20:08:30.883141Z"
    },
    "trusted": true
   },
   "outputs": [],
   "source": [
    "from klpt.preprocess import Preprocess\n",
    "from klpt.tokenize import Tokenize\n",
    "\n",
    "preprocessor_ckb = Preprocess(\"Sorani\", \"Arabic\")\n",
    "\n",
    "dskbb = pd.DataFrame(dsk)\n",
    "#dsk['Article'] = dsk['Article'].apply(lambda x: \" \".join(x) if isinstance(x, list) else x)\n",
    "\n",
    "# Apply preprocessing methods\n",
    "#dsk['Article'] = dsk['Article'].apply(preprocessor_ckb.normalize)\n",
    "#dsk['Article'] = dsk['Article'].apply(preprocessor_ckb.standardize)\n",
    "#dsk['Article'] = dsk['Article'].apply(preprocessor_ckb.unify_numerals)\n",
    "#dsk['Article'] = dsk['Article'].apply(preprocessor_ckb.preprocess)\n",
    "#dsk"
   ]
  },
  {
   "cell_type": "code",
   "execution_count": 21,
   "metadata": {
    "execution": {
     "iopub.execute_input": "2025-02-09T20:08:30.903067Z",
     "iopub.status.busy": "2025-02-09T20:08:30.902586Z",
     "iopub.status.idle": "2025-02-09T20:08:30.922204Z",
     "shell.execute_reply": "2025-02-09T20:08:30.920471Z",
     "shell.execute_reply.started": "2025-02-09T20:08:30.903019Z"
    },
    "trusted": true
   },
   "outputs": [],
   "source": [
    "\n",
    "#def remove_stopwords(text, dialect, script):\n",
    "#    p = Preprocess(dialect, script)\n",
    "#    return [token for token in text.split() if token not in p.stopwords]\n",
    "    # Apply the function to each article\n",
    "#dsk['Article'] = dsk['Article'].apply(lambda text: remove_stopwords(text, \"Sorani\", \"Arabic\"))\n"
   ]
  },
  {
   "cell_type": "code",
   "execution_count": 22,
   "metadata": {
    "execution": {
     "iopub.execute_input": "2025-02-09T20:08:30.925247Z",
     "iopub.status.busy": "2025-02-09T20:08:30.924724Z",
     "iopub.status.idle": "2025-02-09T20:08:33.969674Z",
     "shell.execute_reply": "2025-02-09T20:08:33.968402Z",
     "shell.execute_reply.started": "2025-02-09T20:08:30.925195Z"
    },
    "trusted": true
   },
   "outputs": [
    {
     "data": {
      "text/html": [
       "<div>\n",
       "<style scoped>\n",
       "    .dataframe tbody tr th:only-of-type {\n",
       "        vertical-align: middle;\n",
       "    }\n",
       "\n",
       "    .dataframe tbody tr th {\n",
       "        vertical-align: top;\n",
       "    }\n",
       "\n",
       "    .dataframe thead th {\n",
       "        text-align: right;\n",
       "    }\n",
       "</style>\n",
       "<table border=\"1\" class=\"dataframe\">\n",
       "  <thead>\n",
       "    <tr style=\"text-align: right;\">\n",
       "      <th></th>\n",
       "      <th>Article</th>\n",
       "      <th>label</th>\n",
       "    </tr>\n",
       "  </thead>\n",
       "  <tbody>\n",
       "    <tr>\n",
       "      <th>0</th>\n",
       "      <td>ئەرشیف هاونیشتمانی بەیەکەوە پاسپۆرتەکانی عێراق...</td>\n",
       "      <td>1</td>\n",
       "    </tr>\n",
       "    <tr>\n",
       "      <th>1</th>\n",
       "      <td>هێشتا هەرجوانە دڵێکی بۆدانێن</td>\n",
       "      <td>1</td>\n",
       "    </tr>\n",
       "    <tr>\n",
       "      <th>2</th>\n",
       "      <td>نەخۆشخانەی ڕانییە قەرەبالغیەکی یەکجار زۆر هەی،...</td>\n",
       "      <td>1</td>\n",
       "    </tr>\n",
       "    <tr>\n",
       "      <th>3</th>\n",
       "      <td>ئێستا ڕانیە</td>\n",
       "      <td>1</td>\n",
       "    </tr>\n",
       "    <tr>\n",
       "      <th>4</th>\n",
       "      <td>هاوڕی باشەکان گرنگی یەکتر دەدەن هاوڕێ نزیکەکان...</td>\n",
       "      <td>1</td>\n",
       "    </tr>\n",
       "    <tr>\n",
       "      <th>...</th>\n",
       "      <td>...</td>\n",
       "      <td>...</td>\n",
       "    </tr>\n",
       "    <tr>\n",
       "      <th>100957</th>\n",
       "      <td>کەرکووک؛ پیاوێکی  ساڵ گوشاری هاوژینەکەیدا ماڵ ...</td>\n",
       "      <td>0</td>\n",
       "    </tr>\n",
       "    <tr>\n",
       "      <th>100958</th>\n",
       "      <td>تەقینەوەیەک ناوچەی سەوزی بەغدا ڕوویدا</td>\n",
       "      <td>0</td>\n",
       "    </tr>\n",
       "    <tr>\n",
       "      <th>100959</th>\n",
       "      <td>باسیان لەچی کرد؟ زانیاری ورد بخوێنەوە پاپاوە س...</td>\n",
       "      <td>0</td>\n",
       "    </tr>\n",
       "    <tr>\n",
       "      <th>100960</th>\n",
       "      <td>ئێران گیانلەدەستدانی خۆپیشاندەرێکی ڕاگەیاند</td>\n",
       "      <td>0</td>\n",
       "    </tr>\n",
       "    <tr>\n",
       "      <th>100961</th>\n",
       "      <td>فڕۆکەکانی تورکیا شنگالیان بۆردومانکرد</td>\n",
       "      <td>0</td>\n",
       "    </tr>\n",
       "  </tbody>\n",
       "</table>\n",
       "<p>100962 rows × 2 columns</p>\n",
       "</div>"
      ],
      "text/plain": [
       "                                                  Article label\n",
       "0       ئەرشیف هاونیشتمانی بەیەکەوە پاسپۆرتەکانی عێراق...     1\n",
       "1                            هێشتا هەرجوانە دڵێکی بۆدانێن     1\n",
       "2       نەخۆشخانەی ڕانییە قەرەبالغیەکی یەکجار زۆر هەی،...     1\n",
       "3                                             ئێستا ڕانیە     1\n",
       "4       هاوڕی باشەکان گرنگی یەکتر دەدەن هاوڕێ نزیکەکان...     1\n",
       "...                                                   ...   ...\n",
       "100957  کەرکووک؛ پیاوێکی  ساڵ گوشاری هاوژینەکەیدا ماڵ ...     0\n",
       "100958              تەقینەوەیەک ناوچەی سەوزی بەغدا ڕوویدا     0\n",
       "100959  باسیان لەچی کرد؟ زانیاری ورد بخوێنەوە پاپاوە س...     0\n",
       "100960        ئێران گیانلەدەستدانی خۆپیشاندەرێکی ڕاگەیاند     0\n",
       "100961              فڕۆکەکانی تورکیا شنگالیان بۆردومانکرد     0\n",
       "\n",
       "[100962 rows x 2 columns]"
      ]
     },
     "execution_count": 22,
     "metadata": {},
     "output_type": "execute_result"
    }
   ],
   "source": [
    "#def wordopt(text):\n",
    "#    text = text.lower()\n",
    "#    text = re.sub('\\[.*?\\]', '', text)\n",
    "#    text = re.sub(\"\\\\W\", \" \", text)\n",
    "#    text = re.sub('https?://\\S+|www\\.\\S+', '', text)\n",
    "#    text = re.sub('<.*?>+', '', text)\n",
    "#    text = re.sub('[%s]' % re.escape(string.punctuation), '', text)\n",
    "#    text = re.sub('\\n', '', text)\n",
    "#    text = re.sub('\\w*\\d\\w*', '', text)\n",
    "#    return text\n",
    "\n",
    "\n",
    "def wordpre(text):\n",
    "    if not isinstance(text, str):\n",
    "        return \"\"  # Return empty string for non-string inputs\n",
    "    # Normalize Kurdish characters\n",
    "    #text = text.replace(\"ك\", \"ک\").replace(\"ە\", \"ه\")\n",
    "    \n",
    "    # Remove URLs, special characters, and numbers\n",
    "    text = re.sub(r\"http\\S+|www\\S+|https\\S+\", '', text, flags=re.MULTILINE)\n",
    "    text = re.sub(r'\\@\\w+|\\#', '', text)\n",
    "    #text = re.sub(r'[^\\w\\s]', '', text)  # Remove punctuation\n",
    "    text = text.translate(str.maketrans('', '', string.punctuation))\n",
    "    text = re.sub(r'\\d+', '', text)      # Remove numbers\n",
    "    \n",
    "    # Remove extra spaces\n",
    "    text = text.strip()\n",
    "   \n",
    "    return text\n",
    "\n",
    "##  Applying the wordpre method to the dataset\n",
    "dsk['Article']=dsk['Article'].apply(wordpre)\n",
    "dsk"
   ]
  },
  {
   "cell_type": "code",
   "execution_count": 23,
   "metadata": {
    "execution": {
     "iopub.execute_input": "2025-02-09T20:08:33.971801Z",
     "iopub.status.busy": "2025-02-09T20:08:33.971412Z",
     "iopub.status.idle": "2025-02-09T20:08:34.294951Z",
     "shell.execute_reply": "2025-02-09T20:08:34.293731Z",
     "shell.execute_reply.started": "2025-02-09T20:08:33.971766Z"
    },
    "trusted": true
   },
   "outputs": [],
   "source": [
    "from klpt.preprocess import Preprocess\n",
    "from klpt.tokenize import Tokenize\n",
    "from klpt.stem import Stem\n",
    "\n",
    "# Initialize the Stemmer for Sorani Kurdish in Arabic script\n",
    "stemmer = Stem(\"Sorani\", \"Arabic\")\n",
    "\n",
    "\n",
    "# Handle subword prefixes\n",
    "#dsk['Tokenized_Article'] = dsk['Tokenized_Article'].apply(lambda tokens: [token.lstrip('▁') for token in tokens])\n",
    "# Apply stemming\n",
    "#dsk['Stemmed_Article'] = dsk['Article'].apply(lambda tokens: \" \".join([stemmer.stem(token)[0] for token in tokens]))\n",
    "#dsk['Lem_Article'] = dsk['Article'].apply(\n",
    "#    lambda text: \" \".join([\" \".join(stemmer.lemmatize(token)) if isinstance(stemmer.lemmatize(token), list) else stemmer.lemmatize(token) for token in text.split()])\n",
    "#)\n",
    "# Display the result\n",
    "#print(dsk[['Article', 'Lem_Article']])"
   ]
  },
  {
   "cell_type": "code",
   "execution_count": 24,
   "metadata": {
    "execution": {
     "iopub.execute_input": "2025-02-09T20:08:34.296934Z",
     "iopub.status.busy": "2025-02-09T20:08:34.296557Z",
     "iopub.status.idle": "2025-02-09T20:08:34.625949Z",
     "shell.execute_reply": "2025-02-09T20:08:34.624736Z",
     "shell.execute_reply.started": "2025-02-09T20:08:34.296898Z"
    },
    "trusted": true
   },
   "outputs": [
    {
     "data": {
      "text/html": [
       "<div>\n",
       "<style scoped>\n",
       "    .dataframe tbody tr th:only-of-type {\n",
       "        vertical-align: middle;\n",
       "    }\n",
       "\n",
       "    .dataframe tbody tr th {\n",
       "        vertical-align: top;\n",
       "    }\n",
       "\n",
       "    .dataframe thead th {\n",
       "        text-align: right;\n",
       "    }\n",
       "</style>\n",
       "<table border=\"1\" class=\"dataframe\">\n",
       "  <thead>\n",
       "    <tr style=\"text-align: right;\">\n",
       "      <th></th>\n",
       "      <th>Article</th>\n",
       "      <th>label</th>\n",
       "    </tr>\n",
       "  </thead>\n",
       "  <tbody>\n",
       "    <tr>\n",
       "      <th>0</th>\n",
       "      <td>ئەرشیف هاونیشتمانی بەیەکەوە پاسپۆرتەکانی عێراق...</td>\n",
       "      <td>1</td>\n",
       "    </tr>\n",
       "    <tr>\n",
       "      <th>1</th>\n",
       "      <td>هێشتا هەرجوانە دڵێکی بۆدانێن</td>\n",
       "      <td>1</td>\n",
       "    </tr>\n",
       "    <tr>\n",
       "      <th>2</th>\n",
       "      <td>نەخۆشخانەی ڕانییە قەرەبالغیەکی یەکجار زۆر هەی،...</td>\n",
       "      <td>1</td>\n",
       "    </tr>\n",
       "    <tr>\n",
       "      <th>3</th>\n",
       "      <td>ئێستا ڕانیە</td>\n",
       "      <td>1</td>\n",
       "    </tr>\n",
       "    <tr>\n",
       "      <th>4</th>\n",
       "      <td>هاوڕی باشەکان گرنگی یەکتر دەدەن هاوڕێ نزیکەکان...</td>\n",
       "      <td>1</td>\n",
       "    </tr>\n",
       "    <tr>\n",
       "      <th>...</th>\n",
       "      <td>...</td>\n",
       "      <td>...</td>\n",
       "    </tr>\n",
       "    <tr>\n",
       "      <th>100957</th>\n",
       "      <td>کەرکووک؛ پیاوێکی  ساڵ گوشاری هاوژینەکەیدا ماڵ ...</td>\n",
       "      <td>0</td>\n",
       "    </tr>\n",
       "    <tr>\n",
       "      <th>100958</th>\n",
       "      <td>تەقینەوەیەک ناوچەی سەوزی بەغدا ڕوویدا</td>\n",
       "      <td>0</td>\n",
       "    </tr>\n",
       "    <tr>\n",
       "      <th>100959</th>\n",
       "      <td>باسیان لەچی کرد؟ زانیاری ورد بخوێنەوە پاپاوە س...</td>\n",
       "      <td>0</td>\n",
       "    </tr>\n",
       "    <tr>\n",
       "      <th>100960</th>\n",
       "      <td>ئێران گیانلەدەستدانی خۆپیشاندەرێکی ڕاگەیاند</td>\n",
       "      <td>0</td>\n",
       "    </tr>\n",
       "    <tr>\n",
       "      <th>100961</th>\n",
       "      <td>فڕۆکەکانی تورکیا شنگالیان بۆردومانکرد</td>\n",
       "      <td>0</td>\n",
       "    </tr>\n",
       "  </tbody>\n",
       "</table>\n",
       "<p>100962 rows × 2 columns</p>\n",
       "</div>"
      ],
      "text/plain": [
       "                                                  Article label\n",
       "0       ئەرشیف هاونیشتمانی بەیەکەوە پاسپۆرتەکانی عێراق...     1\n",
       "1                            هێشتا هەرجوانە دڵێکی بۆدانێن     1\n",
       "2       نەخۆشخانەی ڕانییە قەرەبالغیەکی یەکجار زۆر هەی،...     1\n",
       "3                                             ئێستا ڕانیە     1\n",
       "4       هاوڕی باشەکان گرنگی یەکتر دەدەن هاوڕێ نزیکەکان...     1\n",
       "...                                                   ...   ...\n",
       "100957  کەرکووک؛ پیاوێکی  ساڵ گوشاری هاوژینەکەیدا ماڵ ...     0\n",
       "100958              تەقینەوەیەک ناوچەی سەوزی بەغدا ڕوویدا     0\n",
       "100959  باسیان لەچی کرد؟ زانیاری ورد بخوێنەوە پاپاوە س...     0\n",
       "100960        ئێران گیانلەدەستدانی خۆپیشاندەرێکی ڕاگەیاند     0\n",
       "100961              فڕۆکەکانی تورکیا شنگالیان بۆردومانکرد     0\n",
       "\n",
       "[100962 rows x 2 columns]"
      ]
     },
     "execution_count": 24,
     "metadata": {},
     "output_type": "execute_result"
    }
   ],
   "source": [
    "from klpt.stem import Stem\n",
    "\n",
    "stemmer = Stem(\"Sorani\", \"Arabic\")\n",
    "#dsk['Article'] = dsk['Article'].apply(lambda x: \" \".join(x) if isinstance(x, list) else x)\n",
    "#dsk['Article'] = dsk['Article'].apply(stemmer.stem)\n",
    "#dsk['Article'] = dsk['Article'].apply(stemmer.lemmatize)\n",
    "dsk"
   ]
  },
  {
   "cell_type": "code",
   "execution_count": 25,
   "metadata": {
    "execution": {
     "iopub.execute_input": "2025-02-09T20:08:34.627772Z",
     "iopub.status.busy": "2025-02-09T20:08:34.627288Z",
     "iopub.status.idle": "2025-02-09T20:08:34.635058Z",
     "shell.execute_reply": "2025-02-09T20:08:34.633464Z",
     "shell.execute_reply.started": "2025-02-09T20:08:34.627723Z"
    },
    "trusted": true
   },
   "outputs": [
    {
     "name": "stdout",
     "output_type": "stream",
     "text": [
      "(100962, 2)\n"
     ]
    }
   ],
   "source": [
    "#dsk = dsk.drop_duplicates(subset=['Article'])\n",
    "\n",
    "# Check the shape of the DataFrame\n",
    "print(dsk.shape)"
   ]
  },
  {
   "cell_type": "code",
   "execution_count": 26,
   "metadata": {
    "execution": {
     "iopub.execute_input": "2025-02-09T20:08:34.637145Z",
     "iopub.status.busy": "2025-02-09T20:08:34.636780Z",
     "iopub.status.idle": "2025-02-09T20:08:34.843972Z",
     "shell.execute_reply": "2025-02-09T20:08:34.842729Z",
     "shell.execute_reply.started": "2025-02-09T20:08:34.637112Z"
    },
    "trusted": true
   },
   "outputs": [
    {
     "name": "stdout",
     "output_type": "stream",
     "text": [
      "0\n",
      "6\n",
      "0\n",
      "0\n"
     ]
    }
   ],
   "source": [
    "# Check for null/empty rows\n",
    "print(dsk['Article'].isna().sum())  # Count NaN entries\n",
    "print((dsk['Article'].str.strip() == '').sum())  # Count empty strings\n",
    "\n",
    "# Remove rows where 'Article' is an empty string after stripping whitespace\n",
    "dsk = dsk[dsk['Article'].str.strip() != '']\n",
    "\n",
    "# Check for null/empty rows\n",
    "print(dsk['Article'].isna().sum())  # Count NaN entries\n",
    "print((dsk['Article'].str.strip() == '').sum())  # Count empty strings"
   ]
  },
  {
   "cell_type": "code",
   "execution_count": 27,
   "metadata": {
    "execution": {
     "iopub.execute_input": "2025-02-09T20:08:34.845589Z",
     "iopub.status.busy": "2025-02-09T20:08:34.845236Z",
     "iopub.status.idle": "2025-02-09T20:08:34.862228Z",
     "shell.execute_reply": "2025-02-09T20:08:34.861040Z",
     "shell.execute_reply.started": "2025-02-09T20:08:34.845521Z"
    },
    "trusted": true
   },
   "outputs": [
    {
     "data": {
      "text/plain": [
       "label\n",
       "0    50751\n",
       "1    50205\n",
       "Name: count, dtype: int64"
      ]
     },
     "execution_count": 27,
     "metadata": {},
     "output_type": "execute_result"
    }
   ],
   "source": [
    "xx = dsk['label'].value_counts()\n",
    "xx"
   ]
  },
  {
   "cell_type": "code",
   "execution_count": 28,
   "metadata": {
    "execution": {
     "iopub.execute_input": "2025-02-09T20:08:34.864761Z",
     "iopub.status.busy": "2025-02-09T20:08:34.864249Z",
     "iopub.status.idle": "2025-02-09T20:08:35.206928Z",
     "shell.execute_reply": "2025-02-09T20:08:35.205544Z",
     "shell.execute_reply.started": "2025-02-09T20:08:34.864723Z"
    },
    "trusted": true
   },
   "outputs": [
    {
     "data": {
      "text/plain": [
       "[Text(0.5, 1.0, 'Class Freq')]"
      ]
     },
     "execution_count": 28,
     "metadata": {},
     "output_type": "execute_result"
    },
    {
     "data": {
      "image/png": "[encoded data removed]",
      "text/plain": [
       "<Figure size 800x600 with 1 Axes>"
      ]
     },
     "metadata": {},
     "output_type": "display_data"
    }
   ],
   "source": [
    "plt.figure(figsize= [ 8, 6] , clear = True, facecolor = 'white' )\n",
    "\n",
    "sns.barplot(x = dsk['label'].value_counts().index,\n",
    "            y = dsk['label'].value_counts(),\n",
    "            saturation = 1).set(title  = 'Class Freq')\n",
    "            "
   ]
  },
  {
   "cell_type": "code",
   "execution_count": 29,
   "metadata": {
    "execution": {
     "iopub.execute_input": "2025-02-09T20:08:35.209333Z",
     "iopub.status.busy": "2025-02-09T20:08:35.208958Z",
     "iopub.status.idle": "2025-02-09T20:08:35.312626Z",
     "shell.execute_reply": "2025-02-09T20:08:35.310805Z",
     "shell.execute_reply.started": "2025-02-09T20:08:35.209298Z"
    },
    "trusted": true
   },
   "outputs": [
    {
     "data": {
      "text/html": [
       "<style type=\"text/css\">\n",
       "</style>\n",
       "<table id=\"T_c1533\">\n",
       "  <thead>\n",
       "    <tr>\n",
       "      <th class=\"blank level0\" >&nbsp;</th>\n",
       "      <th id=\"T_c1533_level0_col0\" class=\"col_heading level0 col0\" >Article</th>\n",
       "      <th id=\"T_c1533_level0_col1\" class=\"col_heading level0 col1\" >label</th>\n",
       "    </tr>\n",
       "  </thead>\n",
       "  <tbody>\n",
       "    <tr>\n",
       "      <th id=\"T_c1533_level0_row0\" class=\"row_heading level0 row0\" >0</th>\n",
       "      <td id=\"T_c1533_row0_col0\" class=\"data row0 col0\" >ئەرشیف هاونیشتمانی بەیەکەوە پاسپۆرتەکانی عێراقیان دەسووتێنن دەڵێن تاوەکو پاسپۆرتی دەوڵەتی وەرنەگرین، بڕیارمان داوە گەشت نەکەین</td>\n",
       "      <td id=\"T_c1533_row0_col1\" class=\"data row0 col1\" >1</td>\n",
       "    </tr>\n",
       "    <tr>\n",
       "      <th id=\"T_c1533_level0_row1\" class=\"row_heading level0 row1\" >1</th>\n",
       "      <td id=\"T_c1533_row1_col0\" class=\"data row1 col0\" >هێشتا هەرجوانە دڵێکی بۆدانێن</td>\n",
       "      <td id=\"T_c1533_row1_col1\" class=\"data row1 col1\" >1</td>\n",
       "    </tr>\n",
       "    <tr>\n",
       "      <th id=\"T_c1533_level0_row2\" class=\"row_heading level0 row2\" >2</th>\n",
       "      <td id=\"T_c1533_row2_col0\" class=\"data row2 col0\" >نەخۆشخانەی ڕانییە قەرەبالغیەکی یەکجار زۆر هەی،بەپێی زانیارییەکان پزیشکی دادی ڕانییە تەرمی لێییە باس کوشتنی تریش دەکرێ بەڵام پشت ڕاستنەکراوەتەوە</td>\n",
       "      <td id=\"T_c1533_row2_col1\" class=\"data row2 col1\" >1</td>\n",
       "    </tr>\n",
       "    <tr>\n",
       "      <th id=\"T_c1533_level0_row3\" class=\"row_heading level0 row3\" >3</th>\n",
       "      <td id=\"T_c1533_row3_col0\" class=\"data row3 col0\" >ئێستا ڕانیە</td>\n",
       "      <td id=\"T_c1533_row3_col1\" class=\"data row3 col1\" >1</td>\n",
       "    </tr>\n",
       "    <tr>\n",
       "      <th id=\"T_c1533_level0_row4\" class=\"row_heading level0 row4\" >4</th>\n",
       "      <td id=\"T_c1533_row4_col0\" class=\"data row4 col0\" >هاوڕی باشەکان گرنگی یەکتر دەدەن هاوڕێ نزیکەکان یەکتر تێدەگەن بەڵام هاوڕێ ڕاستەقینەکان هەمیشە دەمێننەوە، گرنگیدان کات دوری کێ هاوڕێی ڕاستەقینەت دەزانیت؟</td>\n",
       "      <td id=\"T_c1533_row4_col1\" class=\"data row4 col1\" >1</td>\n",
       "    </tr>\n",
       "    <tr>\n",
       "      <th id=\"T_c1533_level0_row5\" class=\"row_heading level0 row5\" >5</th>\n",
       "      <td id=\"T_c1533_row5_col0\" class=\"data row5 col0\" >خشتەی دابەشکردنی مووچەی سەرجەم وەزارەتەکان بزانە مووچەی وەزارەتەکەی کەی دابەشدەکرێت؟</td>\n",
       "      <td id=\"T_c1533_row5_col1\" class=\"data row5 col1\" >1</td>\n",
       "    </tr>\n",
       "    <tr>\n",
       "      <th id=\"T_c1533_level0_row6\" class=\"row_heading level0 row6\" >6</th>\n",
       "      <td id=\"T_c1533_row6_col0\" class=\"data row6 col0\" >بەپەلە ڕێگەی سەرەکی کەرکوک بەغدا بەهۆی هێرشی، چەکدارانی داعش داخرا</td>\n",
       "      <td id=\"T_c1533_row6_col1\" class=\"data row6 col1\" >1</td>\n",
       "    </tr>\n",
       "    <tr>\n",
       "      <th id=\"T_c1533_level0_row7\" class=\"row_heading level0 row7\" >7</th>\n",
       "      <td id=\"T_c1533_row7_col0\" class=\"data row7 col0\" >عەمیدی کۆلیژیکی عیراق چی نامۆ ئەبینن ؟</td>\n",
       "      <td id=\"T_c1533_row7_col1\" class=\"data row7 col1\" >1</td>\n",
       "    </tr>\n",
       "    <tr>\n",
       "      <th id=\"T_c1533_level0_row8\" class=\"row_heading level0 row8\" >8</th>\n",
       "      <td id=\"T_c1533_row8_col0\" class=\"data row8 col0\" >گەڕەکی پەنجا عەلی شاری کەرکووک بەهۆی کێشەی کۆمەڵایەتییەوە خەزوورێک زاواکەی خۆی دەکوژێت، دواتر هێزەکانی پۆلیسەوە دەستگیر دەکرێت</td>\n",
       "      <td id=\"T_c1533_row8_col1\" class=\"data row8 col1\" >1</td>\n",
       "    </tr>\n",
       "    <tr>\n",
       "      <th id=\"T_c1533_level0_row9\" class=\"row_heading level0 row9\" >9</th>\n",
       "      <td id=\"T_c1533_row9_col0\" class=\"data row9 col0\" >بەپەلەهەواڵی خۆش مووچەوە خشتەی مووچە ڕادەگەیەندرێت کاتی دابەشکردنی مووچە بزانە کۆمێنتی یەکەم زانیاری وەرگره</td>\n",
       "      <td id=\"T_c1533_row9_col1\" class=\"data row9 col1\" >1</td>\n",
       "    </tr>\n",
       "  </tbody>\n",
       "</table>\n"
      ],
      "text/plain": [
       "<pandas.io.formats.style.Styler at 0x7e6447236290>"
      ]
     },
     "execution_count": 29,
     "metadata": {},
     "output_type": "execute_result"
    }
   ],
   "source": [
    "#dsk['Article'] = dsk['Article'].apply(lambda x : \" \".join([Word(word).lemmatize() for word in x.split()]) )\n",
    "#dsk['Article'] = dsk['Article'].apply(lambda x : \" \".join(re.sub(r'http\\S+', '', x ) for x in x.split() ) )\n",
    "dsk.head(n = 10).style.background_gradient(cmap = 'summer')"
   ]
  },
  {
   "cell_type": "code",
   "execution_count": 30,
   "metadata": {
    "execution": {
     "iopub.execute_input": "2025-02-09T20:08:35.315216Z",
     "iopub.status.busy": "2025-02-09T20:08:35.314493Z",
     "iopub.status.idle": "2025-02-09T20:08:35.324925Z",
     "shell.execute_reply": "2025-02-09T20:08:35.323628Z",
     "shell.execute_reply.started": "2025-02-09T20:08:35.315176Z"
    },
    "trusted": true
   },
   "outputs": [],
   "source": [
    "dsk['label'] = dsk['label'].astype(int)  # Or use .astype('category') if necessary"
   ]
  },
  {
   "cell_type": "code",
   "execution_count": 31,
   "metadata": {
    "execution": {
     "iopub.execute_input": "2025-02-09T20:08:35.327281Z",
     "iopub.status.busy": "2025-02-09T20:08:35.326887Z",
     "iopub.status.idle": "2025-02-09T20:08:37.289111Z",
     "shell.execute_reply": "2025-02-09T20:08:37.287927Z",
     "shell.execute_reply.started": "2025-02-09T20:08:35.327248Z"
    },
    "trusted": true
   },
   "outputs": [
    {
     "data": {
      "text/plain": [
       "Text(0.5, 1.0, 'Distribution of Text length for True News')"
      ]
     },
     "execution_count": 31,
     "metadata": {},
     "output_type": "execute_result"
    },
    {
     "data": {
      "image/png": "[encoded data removed]",
      "text/plain": [
       "<Figure size 1000x600 with 1 Axes>"
      ]
     },
     "metadata": {},
     "output_type": "display_data"
    }
   ],
   "source": [
    "fix, ax = plt.subplots(figsize = (10, 6))\n",
    "\n",
    "text_words = dsk[dsk['label'] == 0 ]['Article'].str.split().apply(lambda x : [len(i) for i in x])\n",
    "\n",
    "sns.distplot(text_words.map(lambda x : np.mean(x)), color = 'blue', ax = ax ).set_title('Distribution of Text length for True News')"
   ]
  },
  {
   "cell_type": "code",
   "execution_count": 32,
   "metadata": {
    "execution": {
     "iopub.execute_input": "2025-02-09T20:08:37.291109Z",
     "iopub.status.busy": "2025-02-09T20:08:37.290577Z",
     "iopub.status.idle": "2025-02-09T20:08:39.477352Z",
     "shell.execute_reply": "2025-02-09T20:08:39.476110Z",
     "shell.execute_reply.started": "2025-02-09T20:08:37.291066Z"
    },
    "trusted": true
   },
   "outputs": [
    {
     "data": {
      "image/png": "[encoded data removed]",
      "text/plain": [
       "<Figure size 1000x600 with 1 Axes>"
      ]
     },
     "metadata": {},
     "output_type": "display_data"
    }
   ],
   "source": [
    "fix, ax = plt.subplots(figsize = (10, 6))\n",
    "\n",
    "text_words = dsk[dsk['label'] == 1 ]['Article'].str.split().apply(lambda x : [len(i) for i in x])\n",
    "\n",
    "sns.distplot(text_words.map(lambda x : np.mean(x)), color = 'red', ax = ax ).set_title('Distribution of Text length for Fake News')\n",
    "\n",
    "plt.show()"
   ]
  },
  {
   "cell_type": "code",
   "execution_count": 33,
   "metadata": {
    "execution": {
     "iopub.execute_input": "2025-02-09T20:08:39.479318Z",
     "iopub.status.busy": "2025-02-09T20:08:39.478930Z",
     "iopub.status.idle": "2025-02-09T20:08:40.188637Z",
     "shell.execute_reply": "2025-02-09T20:08:40.187485Z",
     "shell.execute_reply.started": "2025-02-09T20:08:39.479286Z"
    },
    "trusted": true
   },
   "outputs": [],
   "source": [
    "# Save to a new CSV file\n",
    "dsk.to_csv('cleaned_fake_news_dataset.csv', index=False)"
   ]
  },
  {
   "cell_type": "code",
   "execution_count": 34,
   "metadata": {
    "execution": {
     "iopub.execute_input": "2025-02-09T20:08:40.190520Z",
     "iopub.status.busy": "2025-02-09T20:08:40.190160Z",
     "iopub.status.idle": "2025-02-09T20:08:40.213037Z",
     "shell.execute_reply": "2025-02-09T20:08:40.211622Z",
     "shell.execute_reply.started": "2025-02-09T20:08:40.190483Z"
    },
    "trusted": true
   },
   "outputs": [],
   "source": [
    "x = dsk['Article']\n",
    "\n",
    "y = dsk['label']\n",
    "x_train,x_test,y_train,y_test = train_test_split(x,y, test_size=0.2, random_state=42)\n"
   ]
  },
  {
   "cell_type": "code",
   "execution_count": 35,
   "metadata": {
    "execution": {
     "iopub.execute_input": "2025-02-09T20:08:40.215139Z",
     "iopub.status.busy": "2025-02-09T20:08:40.214729Z",
     "iopub.status.idle": "2025-02-09T20:08:40.224081Z",
     "shell.execute_reply": "2025-02-09T20:08:40.221633Z",
     "shell.execute_reply.started": "2025-02-09T20:08:40.215103Z"
    },
    "trusted": true
   },
   "outputs": [
    {
     "name": "stdout",
     "output_type": "stream",
     "text": [
      "(80764,) (20192,)\n",
      "(80764,) (20192,)\n"
     ]
    }
   ],
   "source": [
    "print(x_train.shape, x_test.shape)\n",
    "print(y_train.shape, y_test.shape)"
   ]
  },
  {
   "cell_type": "code",
   "execution_count": 36,
   "metadata": {
    "execution": {
     "iopub.execute_input": "2025-02-09T20:08:40.227104Z",
     "iopub.status.busy": "2025-02-09T20:08:40.226647Z",
     "iopub.status.idle": "2025-02-09T20:08:40.242943Z",
     "shell.execute_reply": "2025-02-09T20:08:40.241131Z",
     "shell.execute_reply.started": "2025-02-09T20:08:40.227068Z"
    },
    "trusted": true
   },
   "outputs": [],
   "source": [
    "y_train=y_train.astype('int')\n",
    "y_test=y_test.astype('int')\n"
   ]
  },
  {
   "cell_type": "code",
   "execution_count": 37,
   "metadata": {
    "execution": {
     "iopub.execute_input": "2025-02-09T20:08:40.246869Z",
     "iopub.status.busy": "2025-02-09T20:08:40.245833Z",
     "iopub.status.idle": "2025-02-09T20:08:49.542182Z",
     "shell.execute_reply": "2025-02-09T20:08:49.540676Z",
     "shell.execute_reply.started": "2025-02-09T20:08:40.246787Z"
    },
    "trusted": true
   },
   "outputs": [],
   "source": [
    "# Tokenization and padding\n",
    "tokenizer = Tokenizer(num_words=10000)\n",
    "tokenizer.fit_on_texts(x_train)\n",
    "\n",
    "X_train_seq = tokenizer.texts_to_sequences(x_train)\n",
    "X_test_seq = tokenizer.texts_to_sequences(x_test)\n",
    "\n",
    "maxlen = 100\n",
    "X_train_pad = pad_sequences(X_train_seq, maxlen=maxlen)\n",
    "X_test_pad = pad_sequences(X_test_seq, maxlen=maxlen)"
   ]
  },
  {
   "cell_type": "code",
   "execution_count": 38,
   "metadata": {
    "execution": {
     "iopub.execute_input": "2025-02-09T20:08:49.544285Z",
     "iopub.status.busy": "2025-02-09T20:08:49.543819Z",
     "iopub.status.idle": "2025-02-09T20:09:09.770465Z",
     "shell.execute_reply": "2025-02-09T20:09:09.768121Z",
     "shell.execute_reply.started": "2025-02-09T20:08:49.544226Z"
    },
    "trusted": true
   },
   "outputs": [
    {
     "name": "stdout",
     "output_type": "stream",
     "text": [
      "Logistic Regression  Time: 19.42 seconds\n",
      "Classification Report:\n",
      "              precision    recall  f1-score   support\n",
      "\n",
      "           0       0.80      0.83      0.81     10095\n",
      "           1       0.82      0.80      0.81     10097\n",
      "\n",
      "    accuracy                           0.81     20192\n",
      "   macro avg       0.81      0.81      0.81     20192\n",
      "weighted avg       0.81      0.81      0.81     20192\n",
      "\n",
      "Accuracy: 81.2%\n"
     ]
    }
   ],
   "source": [
    "#Logistic Regression Model\n",
    "pipelr = Pipeline([\n",
    "    ('vect', CountVectorizer()),\n",
    "    ('tfidf', TfidfTransformer()),      \n",
    "    ('model', LogisticRegression(class_weight=class_weights_dict,max_iter=2000))     \n",
    "])\n",
    "# Measure time for Logistic Regression grid search\n",
    "start_time = time.time()\n",
    "# Fit and predict\n",
    "lr_model = pipelr.fit(x_train, y_train)\n",
    "end_time = time.time()\n",
    "LR_Time= round(end_time - start_time, 2)\n",
    "print(f\"Logistic Regression  Time: {LR_Time} seconds\")\n",
    "\n",
    "\n",
    "lrr_prediction = lr_model.predict(x_test)\n",
    "# Metrics\n",
    "print(\"Classification Report:\")\n",
    "print(classification_report(y_test, lrr_prediction, zero_division=1))\n",
    "\n",
    "# Accuracy\n",
    "accuracy = round(accuracy_score(y_test, lrr_prediction) * 100, 2)\n",
    "print(f\"Accuracy: {accuracy}%\")\n",
    "LR_Normal = accuracy"
   ]
  },
  {
   "cell_type": "code",
   "execution_count": 35,
   "metadata": {
    "execution": {
     "iopub.execute_input": "2025-01-20T23:35:58.015730Z",
     "iopub.status.busy": "2025-01-20T23:35:58.015295Z",
     "iopub.status.idle": "2025-01-20T23:45:52.014483Z",
     "shell.execute_reply": "2025-01-20T23:45:52.013102Z",
     "shell.execute_reply.started": "2025-01-20T23:35:58.015692Z"
    },
    "trusted": true
   },
   "outputs": [
    {
     "name": "stdout",
     "output_type": "stream",
     "text": [
      "Fitting 3 folds for each of 36 candidates, totalling 108 fits\n",
      "Logistic Regression Grid Search Time: 592.70 seconds\n",
      "Classification Report:\n",
      "              precision    recall  f1-score   support\n",
      "\n",
      "           0       0.87      0.89      0.88     10051\n",
      "           1       0.89      0.86      0.88     10033\n",
      "\n",
      "    accuracy                           0.88     20084\n",
      "   macro avg       0.88      0.88      0.88     20084\n",
      "weighted avg       0.88      0.88      0.88     20084\n",
      "\n",
      "Accuracy: 87.73%\n"
     ]
    }
   ],
   "source": [
    "# LogisticRegression\n",
    "pipelr = Pipeline([\n",
    "    ('vect', CountVectorizer()),\n",
    "    ('tfidf', TfidfTransformer()),\n",
    "    ('model', LogisticRegression(class_weight=class_weights_dict,max_iter=2000))\n",
    "])\n",
    "\n",
    "# Hyperparameter grid\n",
    "lr_grid = {\n",
    "    'model__C': [0.1, 1, 10],  # Regularization strength\n",
    "    'model__solver': ['liblinear', 'lbfgs'],  # Solver options\n",
    "    'model__max_iter': [500, 1000, 2000],  # Iterations\n",
    "    #'logreg__penalty': ['l2'],  # Regularization type\n",
    "    'vect__ngram_range': [(1, 1), (1, 2)],  # Unigrams and Bigrams\n",
    "}\n",
    "\n",
    "# Grid Search\n",
    "gridlr = GridSearchCV(pipelr, lr_grid, cv=3, scoring='accuracy', verbose=1, n_jobs=-1)\n",
    "\n",
    "# Measure time for Logistic Regression grid search\n",
    "start_time = time.time()\n",
    "gridlr.fit(x_train, y_train)\n",
    "end_time = time.time()\n",
    "print(f\"Logistic Regression Grid Search Time: {end_time - start_time:.2f} seconds\")\n",
    "\n",
    "# Evaluate the best model\n",
    "best_model = gridlr.best_estimator_\n",
    "#print(\"Best Parameters:\", gridlr.best_params_)\n",
    "lr_prediction = best_model.predict(x_test)\n",
    "\n",
    "# Metrics\n",
    "print(\"Classification Report:\")\n",
    "print(classification_report(y_test, lr_prediction, zero_division=1))\n",
    "\n",
    "# Accuracy\n",
    "accuracy = round(accuracy_score(y_test, lr_prediction) * 100, 2)\n",
    "print(f\"Accuracy: {accuracy}%\")\n",
    "LR_SearchCV = accuracy"
   ]
  },
  {
   "cell_type": "code",
   "execution_count": 39,
   "metadata": {
    "execution": {
     "iopub.execute_input": "2025-02-09T20:09:09.779365Z",
     "iopub.status.busy": "2025-02-09T20:09:09.778964Z",
     "iopub.status.idle": "2025-02-09T20:09:14.038601Z",
     "shell.execute_reply": "2025-02-09T20:09:14.036715Z",
     "shell.execute_reply.started": "2025-02-09T20:09:09.779329Z"
    },
    "trusted": true
   },
   "outputs": [
    {
     "name": "stdout",
     "output_type": "stream",
     "text": [
      "Multinomial Naive Bayes Time: 3.57 seconds\n",
      "Classification Report:\n",
      "              precision    recall  f1-score   support\n",
      "\n",
      "           0       0.81      0.78      0.79     10095\n",
      "           1       0.79      0.81      0.80     10097\n",
      "\n",
      "    accuracy                           0.80     20192\n",
      "   macro avg       0.80      0.80      0.80     20192\n",
      "weighted avg       0.80      0.80      0.80     20192\n",
      "\n",
      "Accuracy: 79.66%\n"
     ]
    }
   ],
   "source": [
    "#Multinomial Naive Bayes Classifier\n",
    "pipemnb = Pipeline([('vect', CountVectorizer()),\n",
    "                 ('tfidf', TfidfTransformer()),\n",
    "                 ('model', MultinomialNB())\n",
    "                ])\n",
    "\n",
    "# Measure time for Multinomial Naive Bayes\n",
    "start_time = time.time()\n",
    "# Fit and predict\n",
    "MNBCmodel = pipemnb.fit(x_train, y_train)\n",
    "end_time = time.time()\n",
    "MNB_Time= round(end_time - start_time, 2)\n",
    "print(f\"Multinomial Naive Bayes Time: {MNB_Time} seconds\")\n",
    "\n",
    "MNBprediction = MNBCmodel.predict(x_test)\n",
    "# Metrics\n",
    "print(\"Classification Report:\")\n",
    "print(classification_report(y_test, MNBprediction, zero_division=1))\n",
    "\n",
    "# Accuracy\n",
    "accuracy = round(accuracy_score(y_test, MNBprediction) * 100, 2)\n",
    "print(f\"Accuracy: {accuracy}%\")\n",
    "MNB_Normal = accuracy"
   ]
  },
  {
   "cell_type": "code",
   "execution_count": 38,
   "metadata": {
    "execution": {
     "iopub.execute_input": "2025-02-09T18:39:36.208235Z",
     "iopub.status.busy": "2025-02-09T18:39:36.207966Z",
     "iopub.status.idle": "2025-02-09T18:40:15.005084Z",
     "shell.execute_reply": "2025-02-09T18:40:15.004294Z",
     "shell.execute_reply.started": "2025-02-09T18:39:36.208213Z"
    },
    "trusted": true
   },
   "outputs": [
    {
     "name": "stdout",
     "output_type": "stream",
     "text": [
      "Fitting 3 folds for each of 6 candidates, totalling 18 fits\n",
      "GridSearchCV Time: 37.96 seconds\n",
      "Classification Report:\n",
      "              precision    recall  f1-score   support\n",
      "\n",
      "           0       0.85      0.89      0.87     10051\n",
      "           1       0.88      0.84      0.86     10033\n",
      "\n",
      "    accuracy                           0.87     20084\n",
      "   macro avg       0.87      0.87      0.87     20084\n",
      "weighted avg       0.87      0.87      0.87     20084\n",
      "\n",
      "Accuracy: 86.54%\n"
     ]
    }
   ],
   "source": [
    "# Create a pipeline for Multinomial Naive Bayes\n",
    "pipemnb = Pipeline([\n",
    "    ('vect', CountVectorizer()),\n",
    "    ('tfidf', TfidfTransformer()),\n",
    "    ('model', MultinomialNB())\n",
    "])\n",
    "\n",
    "# Define a parameter grid for GridSearchCV\n",
    "param_grid = {\n",
    "    'vect__ngram_range': [(1, 1), (1, 2)],  # Unigrams and Bigrams\n",
    "    'model__alpha': [0.1, 1.0, 10.0],        # Smoothing parameter\n",
    "}\n",
    "\n",
    "# Setup GridSearchCV\n",
    "grid_search = GridSearchCV(pipemnb, param_grid, cv=3, scoring='accuracy', verbose=1, n_jobs=-1)\n",
    "\n",
    "# Measure time for GridSearchCV\n",
    "start_time = time.time()\n",
    "# Fit the model using GridSearchCV\n",
    "grid_search.fit(x_train, y_train)\n",
    "end_time = time.time()\n",
    "grid_search_time = round(end_time - start_time, 2)\n",
    "print(f\"GridSearchCV Time: {grid_search_time} seconds\")\n",
    "\n",
    "# Get the best model from GridSearchCV\n",
    "best_model = grid_search.best_estimator_\n",
    "\n",
    "# Make predictions with the best model\n",
    "MNBprediction = best_model.predict(x_test)\n",
    "\n",
    "# Metrics\n",
    "print(\"Classification Report:\")\n",
    "print(classification_report(y_test, MNBprediction, zero_division=1))\n",
    "\n",
    "# Accuracy\n",
    "accuracy = round(accuracy_score(y_test, MNBprediction) * 100, 2)\n",
    "print(f\"Accuracy: {accuracy}%\")\n",
    "MNB_GridSearch_Accuracy = accuracy"
   ]
  },
  {
   "cell_type": "code",
   "execution_count": 40,
   "metadata": {
    "execution": {
     "iopub.execute_input": "2025-02-09T20:09:14.041440Z",
     "iopub.status.busy": "2025-02-09T20:09:14.040388Z",
     "iopub.status.idle": "2025-02-09T20:09:18.536968Z",
     "shell.execute_reply": "2025-02-09T20:09:18.534750Z",
     "shell.execute_reply.started": "2025-02-09T20:09:14.041396Z"
    },
    "trusted": true
   },
   "outputs": [
    {
     "name": "stdout",
     "output_type": "stream",
     "text": [
      "Stochastic Gradient Descent Time: 3.75 seconds\n",
      "Classification Report:\n",
      "              precision    recall  f1-score   support\n",
      "\n",
      "           0       0.77      0.84      0.81     10095\n",
      "           1       0.83      0.75      0.79     10097\n",
      "\n",
      "    accuracy                           0.80     20192\n",
      "   macro avg       0.80      0.80      0.80     20192\n",
      "weighted avg       0.80      0.80      0.80     20192\n",
      "\n",
      "Accuracy: 79.67%\n"
     ]
    }
   ],
   "source": [
    "#Stochastic Gradient Descent\n",
    "pipe_st = Pipeline([('vect', CountVectorizer()),\n",
    "                 ('tfidf', TfidfTransformer()),\n",
    "                 ('model', SGDClassifier())\n",
    "                ])\n",
    "# Measure time for Stochastic Gradient Descent\n",
    "start_time = time.time()\n",
    "# Fit and predict\n",
    "SGDmodel = pipe_st.fit(x_train, y_train)\n",
    "end_time = time.time()\n",
    "SGD_Time= round(end_time - start_time, 2)\n",
    "print(f\"Stochastic Gradient Descent Time: {SGD_Time} seconds\")\n",
    "\n",
    "SGD_prediction = SGDmodel.predict(x_test)\n",
    "# Metrics\n",
    "print(\"Classification Report:\")\n",
    "print(classification_report(y_test, SGD_prediction, zero_division=1))\n",
    "\n",
    "# Accuracy\n",
    "accuracy = round(accuracy_score(y_test, SGD_prediction) * 100, 2)\n",
    "print(f\"Accuracy: {accuracy}%\")\n",
    "SGD_Normal = accuracy"
   ]
  },
  {
   "cell_type": "code",
   "execution_count": 39,
   "metadata": {
    "execution": {
     "iopub.execute_input": "2025-02-09T19:14:58.580210Z",
     "iopub.status.busy": "2025-02-09T19:14:58.579184Z",
     "iopub.status.idle": "2025-02-09T19:15:39.649438Z",
     "shell.execute_reply": "2025-02-09T19:15:39.648245Z",
     "shell.execute_reply.started": "2025-02-09T19:14:58.580160Z"
    },
    "trusted": true
   },
   "outputs": [
    {
     "name": "stdout",
     "output_type": "stream",
     "text": [
      "Fitting 3 folds for each of 6 candidates, totalling 18 fits\n",
      "Stochastic Gradient Descent: 40.16 seconds\n",
      "Classification Report:\n",
      "              precision    recall  f1-score   support\n",
      "\n",
      "           0       0.80      0.85      0.83     10051\n",
      "           1       0.84      0.79      0.81     10033\n",
      "\n",
      "    accuracy                           0.82     20084\n",
      "   macro avg       0.82      0.82      0.82     20084\n",
      "weighted avg       0.82      0.82      0.82     20084\n",
      "\n",
      "Accuracy: 82.02%\n"
     ]
    }
   ],
   "source": [
    "#Stochastic Gradient Descent\n",
    "pipe_sgd = Pipeline([('vect', CountVectorizer()),\n",
    "                 ('tfidf', TfidfTransformer()),\n",
    "                 ('model', SGDClassifier())\n",
    "                ])\n",
    "# Example parameters for GridSearchCV\n",
    "sgd_grid = {\n",
    "    'model__alpha': [0.0001, 0.001, 0.01], # Regularization parameter\n",
    "    'vect__ngram_range': [(1, 1), (1, 2)],  # Unigrams and Bigrams\n",
    "}\n",
    "\n",
    "# Grid Search\n",
    "gridsgd = GridSearchCV(pipe_sgd, sgd_grid, cv=3, scoring='accuracy', verbose=1, n_jobs=-1)\n",
    "\n",
    "# Measure time for RandomForestClassifier\n",
    "start_time = time.time()\n",
    "# Fit and predict\n",
    "SGDmodel = gridsgd.fit(x_train, y_train) \n",
    "end_time = time.time()\n",
    "SGD_TimeG= round(end_time - start_time, 2)\n",
    "print(f\"Stochastic Gradient Descent: {SGD_TimeG} seconds\")\n",
    "best_model = SGDmodel.best_estimator_\n",
    "\n",
    "sgd_prediction = best_model.predict(x_test)\n",
    "# Metrics\n",
    "print(\"Classification Report:\")\n",
    "print(classification_report(y_test, sgd_prediction, zero_division=1))\n",
    "\n",
    "# Accuracy\n",
    "accuracy = round(accuracy_score(y_test, sgd_prediction) * 100, 2)\n",
    "print(f\"Accuracy: {accuracy}%\")\n",
    "SGD_SearchCV = accuracy"
   ]
  },
  {
   "cell_type": "code",
   "execution_count": 41,
   "metadata": {
    "execution": {
     "iopub.execute_input": "2025-02-09T20:09:18.539691Z",
     "iopub.status.busy": "2025-02-09T20:09:18.539155Z",
     "iopub.status.idle": "2025-02-09T20:18:14.239197Z",
     "shell.execute_reply": "2025-02-09T20:18:14.237724Z",
     "shell.execute_reply.started": "2025-02-09T20:09:18.539648Z"
    },
    "trusted": true
   },
   "outputs": [
    {
     "name": "stdout",
     "output_type": "stream",
     "text": [
      "Random Forest Classifier Time: 533.09 seconds\n",
      "Classification Report:\n",
      "              precision    recall  f1-score   support\n",
      "\n",
      "           0       0.82      0.80      0.81     10095\n",
      "           1       0.80      0.82      0.81     10097\n",
      "\n",
      "    accuracy                           0.81     20192\n",
      "   macro avg       0.81      0.81      0.81     20192\n",
      "weighted avg       0.81      0.81      0.81     20192\n",
      "\n",
      "Accuracy: 81.11%\n"
     ]
    }
   ],
   "source": [
    "#RandomForestClassifier\n",
    "pipe_rf = Pipeline([\n",
    "    ('vect', CountVectorizer()),\n",
    "    ('tfidf', TfidfTransformer()),\n",
    "    #('svd', TruncatedSVD(n_components=300)),  # Dimensionality reduction\n",
    "    ('model', RandomForestClassifier(n_jobs=-1))\n",
    "])\n",
    "# Measure time for RandomForestClassifier\n",
    "start_time = time.time()\n",
    "# Fit and predict\n",
    "RF_model = pipe_rf.fit(x_train, y_train) \n",
    "end_time = time.time()\n",
    "RF_Time= round(end_time - start_time, 2)\n",
    "print(f\"Random Forest Classifier Time: {RF_Time} seconds\")\n",
    "\n",
    "rf_prediction = RF_model.predict(x_test)\n",
    "# Metrics\n",
    "print(\"Classification Report:\")\n",
    "print(classification_report(y_test, rf_prediction, zero_division=1))\n",
    "\n",
    "# Accuracy\n",
    "accuracy = round(accuracy_score(y_test, rf_prediction) * 100, 2)\n",
    "print(f\"Accuracy: {accuracy}%\")\n",
    "RF_Normal = accuracy\n"
   ]
  },
  {
   "cell_type": "code",
   "execution_count": 45,
   "metadata": {
    "execution": {
     "iopub.execute_input": "2025-01-30T14:39:39.980675Z",
     "iopub.status.busy": "2025-01-30T14:39:39.980203Z",
     "iopub.status.idle": "2025-01-30T15:14:21.292119Z",
     "shell.execute_reply": "2025-01-30T15:14:21.289952Z",
     "shell.execute_reply.started": "2025-01-30T14:39:39.980629Z"
    },
    "trusted": true
   },
   "outputs": [
    {
     "name": "stdout",
     "output_type": "stream",
     "text": [
      "Fitting 3 folds for each of 4 candidates, totalling 12 fits\n",
      "RandomForestClassifier Time: 2077.73 seconds\n",
      "Classification Report:\n",
      "              precision    recall  f1-score   support\n",
      "\n",
      "           0       0.84      0.85      0.84     10051\n",
      "           1       0.85      0.84      0.84     10033\n",
      "\n",
      "    accuracy                           0.84     20084\n",
      "   macro avg       0.84      0.84      0.84     20084\n",
      "weighted avg       0.84      0.84      0.84     20084\n",
      "\n",
      "Accuracy: 84.37%\n"
     ]
    }
   ],
   "source": [
    "# RandomForestClassifier Pipeline\n",
    "pipe_rf = Pipeline([\n",
    "    ('vect', CountVectorizer()),\n",
    "    ('tfidf', TfidfTransformer()),\n",
    "    ('svd', TruncatedSVD(n_components=300)),  # Dimensionality reduction\n",
    "    ('model', RandomForestClassifier(n_jobs=-1)) \n",
    "])\n",
    "\n",
    "# Hyperparameter grid\n",
    "param_grid = {\n",
    "    'model__n_estimators': [100, 200],\n",
    "    'model__max_depth': [10, 20],\n",
    "    'model__bootstrap': [True],\n",
    "    'vect__ngram_range': [(1, 2)],  \n",
    "}\n",
    "# Grid Search\n",
    "gridrf = GridSearchCV(pipe_rf, param_grid, cv=3, scoring='accuracy', verbose=1, n_jobs=-1)\n",
    "\n",
    "# Measure time for RandomForestClassifier\n",
    "start_time = time.time()\n",
    "# Fit and predict\n",
    "RFmodel = gridrf.fit(x_train, y_train) \n",
    "end_time = time.time()\n",
    "RF_TimeG = round(end_time - start_time, 2)\n",
    "print(f\"RandomForestClassifier Time: {RF_TimeG} seconds\")\n",
    "\n",
    "# Best model from GridSearchCV\n",
    "best_model = gridrf.best_estimator_\n",
    "\n",
    "# Predictions\n",
    "rf_prediction = best_model.predict(x_test)\n",
    "\n",
    "# Metrics\n",
    "print(\"Classification Report:\")\n",
    "print(classification_report(y_test, rf_prediction, zero_division=1))\n",
    "\n",
    "# Accuracy\n",
    "accuracy = round(accuracy_score(y_test, rf_prediction) * 100, 2)\n",
    "print(f\"Accuracy: {accuracy}%\")\n",
    "RF_SearchCV = accuracy\n"
   ]
  },
  {
   "cell_type": "code",
   "execution_count": 42,
   "metadata": {
    "execution": {
     "iopub.execute_input": "2025-02-09T20:18:14.247760Z",
     "iopub.status.busy": "2025-02-09T20:18:14.247303Z",
     "iopub.status.idle": "2025-02-09T20:18:38.266347Z",
     "shell.execute_reply": "2025-02-09T20:18:38.264772Z",
     "shell.execute_reply.started": "2025-02-09T20:18:14.247722Z"
    },
    "trusted": true
   },
   "outputs": [
    {
     "name": "stdout",
     "output_type": "stream",
     "text": [
      "Support Vector Classifier (SVC) Time: 23.02 seconds\n",
      "Classification Report:\n",
      "              precision    recall  f1-score   support\n",
      "\n",
      "           0       0.73      0.81      0.77     10095\n",
      "           1       0.79      0.69      0.74     10097\n",
      "\n",
      "    accuracy                           0.75     20192\n",
      "   macro avg       0.76      0.75      0.75     20192\n",
      "weighted avg       0.76      0.75      0.75     20192\n",
      "\n",
      "Accuracy: 75.2%\n"
     ]
    }
   ],
   "source": [
    "#Support Vector Classifier (SVC) Model   ## max_features=5000, ngram_range=(1, 2)\n",
    "#pipe_svc = Pipeline([\n",
    "#    ('vect', CountVectorizer()),\n",
    "#    ('tfidf', TfidfTransformer()),\n",
    "#    ('model', SVC(probability=True, kernel='linear')) #\n",
    "#])\n",
    "#faster\n",
    "pipe_svc = Pipeline([\n",
    "    ('vect', CountVectorizer()),  # Parallelized vectorization\n",
    "    ('tfidf', TfidfTransformer()),\n",
    "    ('select', SelectKBest(chi2, k=1000)),\n",
    "    ('reduce_dim', TruncatedSVD(n_components=300)),  # Dimensionality reduction\n",
    "    ('model', LinearSVC())  # Faster solver\n",
    "])\n",
    "\n",
    "# Measure time for Support Vector Classifier (SVC)\n",
    "start_time = time.time()\n",
    "# Fit and predict\n",
    "svc_model = pipe_svc.fit(x_train, y_train)\n",
    "end_time = time.time()\n",
    "SVC_Time= round(end_time - start_time, 2)\n",
    "print(f\"Support Vector Classifier (SVC) Time: {SVC_Time} seconds\")\n",
    "\n",
    "svc_prediction = svc_model.predict(x_test)\n",
    "# Metrics\n",
    "print(\"Classification Report:\")\n",
    "print(classification_report(y_test, svc_prediction, zero_division=1))\n",
    "# Accuracy\n",
    "\n",
    "accuracy = round(accuracy_score(y_test, svc_prediction) * 100, 2)\n",
    "print(f\"Accuracy: {accuracy}%\")\n",
    "SVC_Normal = accuracy\n"
   ]
  },
  {
   "cell_type": "code",
   "execution_count": 43,
   "metadata": {
    "execution": {
     "iopub.execute_input": "2025-02-09T20:18:38.269456Z",
     "iopub.status.busy": "2025-02-09T20:18:38.268207Z",
     "iopub.status.idle": "2025-02-09T20:18:38.551138Z",
     "shell.execute_reply": "2025-02-09T20:18:38.549644Z",
     "shell.execute_reply.started": "2025-02-09T20:18:38.269363Z"
    },
    "trusted": true
   },
   "outputs": [
    {
     "data": {
      "image/png": "[encoded data removed]",
      "text/plain": [
       "<Figure size 640x480 with 1 Axes>"
      ]
     },
     "metadata": {},
     "output_type": "display_data"
    }
   ],
   "source": [
    "x = [\"LR_Normal\",\"MNB_Normal\", \"SDG_Normal\",\n",
    "     \"RF_Normal\",\"SVM_Normal\"] #\n",
    "y =  [LR_Normal, MNB_Normal, SGD_Normal,\n",
    "     RF_Normal, SVC_Normal]\n",
    "plt.barh(x, y)\n",
    "\n",
    "for index, value in enumerate(y):\n",
    "    plt.text(value, index, str(value))"
   ]
  },
  {
   "cell_type": "code",
   "execution_count": 44,
   "metadata": {
    "execution": {
     "iopub.execute_input": "2025-02-09T20:18:38.553316Z",
     "iopub.status.busy": "2025-02-09T20:18:38.552685Z",
     "iopub.status.idle": "2025-02-09T20:18:38.569004Z",
     "shell.execute_reply": "2025-02-09T20:18:38.567212Z",
     "shell.execute_reply.started": "2025-02-09T20:18:38.553253Z"
    },
    "trusted": true
   },
   "outputs": [
    {
     "data": {
      "text/html": [
       "<div>\n",
       "<style scoped>\n",
       "    .dataframe tbody tr th:only-of-type {\n",
       "        vertical-align: middle;\n",
       "    }\n",
       "\n",
       "    .dataframe tbody tr th {\n",
       "        vertical-align: top;\n",
       "    }\n",
       "\n",
       "    .dataframe thead th {\n",
       "        text-align: right;\n",
       "    }\n",
       "</style>\n",
       "<table border=\"1\" class=\"dataframe\">\n",
       "  <thead>\n",
       "    <tr style=\"text-align: right;\">\n",
       "      <th></th>\n",
       "      <th>Algorithm Name</th>\n",
       "      <th>Accuracy</th>\n",
       "      <th>Time</th>\n",
       "    </tr>\n",
       "  </thead>\n",
       "  <tbody>\n",
       "    <tr>\n",
       "      <th>0</th>\n",
       "      <td>LR</td>\n",
       "      <td>81.20</td>\n",
       "      <td>19.42</td>\n",
       "    </tr>\n",
       "    <tr>\n",
       "      <th>1</th>\n",
       "      <td>MNB</td>\n",
       "      <td>79.66</td>\n",
       "      <td>3.57</td>\n",
       "    </tr>\n",
       "    <tr>\n",
       "      <th>2</th>\n",
       "      <td>SGD</td>\n",
       "      <td>79.67</td>\n",
       "      <td>3.75</td>\n",
       "    </tr>\n",
       "    <tr>\n",
       "      <th>3</th>\n",
       "      <td>RF</td>\n",
       "      <td>81.11</td>\n",
       "      <td>533.09</td>\n",
       "    </tr>\n",
       "    <tr>\n",
       "      <th>4</th>\n",
       "      <td>SVM</td>\n",
       "      <td>75.20</td>\n",
       "      <td>23.02</td>\n",
       "    </tr>\n",
       "  </tbody>\n",
       "</table>\n",
       "</div>"
      ],
      "text/plain": [
       "  Algorithm Name  Accuracy    Time\n",
       "0             LR     81.20   19.42\n",
       "1            MNB     79.66    3.57\n",
       "2            SGD     79.67    3.75\n",
       "3             RF     81.11  533.09\n",
       "4            SVM     75.20   23.02"
      ]
     },
     "execution_count": 44,
     "metadata": {},
     "output_type": "execute_result"
    }
   ],
   "source": [
    "single_data = {\n",
    "    \"Algorithm Name\": [\"LR\", \"MNB\", \"SGD\", \"RF\", \"SVM\"],\n",
    "    \"Accuracy\": [LR_Normal, MNB_Normal, SGD_Normal, RF_Normal, SVC_Normal],\n",
    "    \"Time\": [LR_Time, MNB_Time, SGD_Time,RF_Time, SVC_Time]\n",
    "}\n",
    "\n",
    "# Create DataFrame\n",
    "sd_sn_Ku = pd.DataFrame(single_data)\n",
    "\n",
    "# Display the table\n",
    "sd_sn_Ku"
   ]
  },
  {
   "cell_type": "code",
   "execution_count": null,
   "metadata": {
    "trusted": true
   },
   "outputs": [],
   "source": [
    "from sklearn.ensemble import RandomForestClassifier\n",
    "from sklearn.linear_model import LogisticRegression\n",
    "from sklearn.model_selection import train_test_split\n",
    "from sklearn.metrics import accuracy_score\n",
    "import numpy as np\n",
    "from sklearn.feature_extraction.text import CountVectorizer, TfidfTransformer\n",
    "\n",
    "# Train Random Forest and Logistic Regression models\n",
    "rf = RandomForestClassifier()\n",
    "lr = LogisticRegression()\n",
    "\n",
    "# Convert text data to numerical features\n",
    "count_vect = CountVectorizer()\n",
    "X_train_counts = count_vect.fit_transform(x_train)\n",
    "tfidf_transformer = TfidfTransformer()\n",
    "X_train_tfidf = tfidf_transformer.fit_transform(X_train_counts)\n",
    "\n",
    "# Repeat the preprocessing steps for the test data\n",
    "X_test_counts = count_vect.transform(x_test)\n",
    "X_test_tfidf = tfidf_transformer.transform(X_test_counts)\n",
    "\n",
    "# Now, you can train your models on the preprocessed data\n",
    "rf.fit(X_train_tfidf, y_train)\n",
    "lr.fit(X_train_tfidf, y_train)\n",
    "\n",
    "# Get predictions from the models and proceed with the hybrid model creation\n",
    "rf_predictions = rf.predict(X_test_tfidf)\n",
    "lr_predictions = lr.predict(X_test_tfidf)\n",
    "\n",
    "# Combine predictions for meta-model training\n",
    "meta_features = np.column_stack((rf_predictions, lr_predictions))\n",
    "\n",
    "# Train a meta-model (e.g., Logistic Regression) on combined predictions\n",
    "meta_model = LogisticRegression()\n",
    "meta_model.fit(meta_features, y_test)\n",
    "\n",
    "# Get new predictions using the hybrid model\n",
    "hybrid_predictions = meta_model.predict(meta_features)\n",
    "\n",
    "# Evaluate the hybrid model\n",
    "hybrid_accuracy = accuracy_score(y_test, hybrid_predictions)\n",
    "print(f\"Hybrid Model Accuracy: {hybrid_accuracy}\")"
   ]
  },
  {
   "cell_type": "code",
   "execution_count": 34,
   "metadata": {
    "execution": {
     "iopub.execute_input": "2025-01-16T20:24:28.316661Z",
     "iopub.status.busy": "2025-01-16T20:24:28.316263Z",
     "iopub.status.idle": "2025-01-16T20:24:31.283450Z",
     "shell.execute_reply": "2025-01-16T20:24:31.282246Z",
     "shell.execute_reply.started": "2025-01-16T20:24:28.316629Z"
    },
    "trusted": true
   },
   "outputs": [
    {
     "data": {
      "text/plain": [
       "161275"
      ]
     },
     "execution_count": 34,
     "metadata": {},
     "output_type": "execute_result"
    }
   ],
   "source": [
    "# Prepare text data\n",
    "x_train = [str(doc) for doc in x_train]\n",
    "x_test = [str(doc) for doc in x_test]\n",
    "\n",
    "# Vocabulary size (based on CountVectorizer)\n",
    "vectorizer = CountVectorizer()\n",
    "vectorizer.fit(x_train)\n",
    "vocab_size = len(vectorizer.vocabulary_)\n",
    "vocab_size"
   ]
  },
  {
   "cell_type": "code",
   "execution_count": 35,
   "metadata": {
    "execution": {
     "iopub.execute_input": "2025-01-16T20:24:38.636932Z",
     "iopub.status.busy": "2025-01-16T20:24:38.636506Z",
     "iopub.status.idle": "2025-01-16T20:24:47.338414Z",
     "shell.execute_reply": "2025-01-16T20:24:47.337196Z",
     "shell.execute_reply.started": "2025-01-16T20:24:38.636895Z"
    },
    "trusted": true
   },
   "outputs": [],
   "source": [
    "# Select relevant columns\n",
    "#texts = df['Text'].astype(str).values  # Kurdish text\n",
    "labels = dsk['label'].astype(str).values  # Labels\n",
    "\n",
    "# Encode labels\n",
    "label_encoder = LabelEncoder()\n",
    "encoded_labels = label_encoder.fit_transform(labels)\n",
    "\n",
    "# Tokenize the text\n",
    "tokenizer = Tokenizer(num_words=10000)  # Limit vocabulary to 10,000 words\n",
    "tokenizer.fit_on_texts(x_train)\n",
    "\n",
    "X_train_seq = tokenizer.texts_to_sequences(x_train)\n",
    "X_test_seq = tokenizer.texts_to_sequences(x_test)\n",
    "\n",
    "# Pad sequences\n",
    "max_length = 100  # Set a maximum sequence length\n",
    "X_train_padded = pad_sequences(X_train_seq, maxlen=max_length, padding='post')\n",
    "X_test_padded = pad_sequences(X_test_seq, maxlen=max_length, padding='post')\n"
   ]
  },
  {
   "cell_type": "code",
   "execution_count": 36,
   "metadata": {
    "execution": {
     "iopub.execute_input": "2025-01-16T20:25:08.183097Z",
     "iopub.status.busy": "2025-01-16T20:25:08.182614Z",
     "iopub.status.idle": "2025-01-16T20:25:08.262352Z",
     "shell.execute_reply": "2025-01-16T20:25:08.261188Z",
     "shell.execute_reply.started": "2025-01-16T20:25:08.183057Z"
    },
    "trusted": true
   },
   "outputs": [],
   "source": [
    "import pandas as pd\n",
    "from sklearn.model_selection import train_test_split\n",
    "from sklearn.preprocessing import LabelEncoder\n",
    "from tensorflow.keras.preprocessing.text import Tokenizer\n",
    "from tensorflow.keras.preprocessing.sequence import pad_sequences\n",
    "from tensorflow.keras.models import Sequential\n",
    "from tensorflow.keras.layers import Embedding, Conv1D, GlobalMaxPooling1D, Dense, Dropout, BatchNormalization, MaxPooling1D\n",
    "\n",
    "\n",
    "\n",
    "# Build the CNN model\n",
    "model = Sequential([\n",
    "    Embedding(input_dim=10000, output_dim=100, input_length=max_length,trainable=True),\n",
    "    Conv1D(filters=128, kernel_size=5, activation='relu'),\n",
    "    GlobalMaxPooling1D(),\n",
    "    Dropout(0.5),\n",
    "    Dense(64, activation='relu'),\n",
    "    Dropout(0.5),\n",
    "    Dense(1, activation='sigmoid')  # Use sigmoid for binary classification\n",
    "   \n",
    "])\n",
    "\n",
    "model.compile(optimizer='adam', loss='binary_crossentropy', metrics=['accuracy'])\n",
    "\n"
   ]
  },
  {
   "cell_type": "code",
   "execution_count": 37,
   "metadata": {
    "execution": {
     "iopub.execute_input": "2025-01-16T20:25:28.265829Z",
     "iopub.status.busy": "2025-01-16T20:25:28.265404Z",
     "iopub.status.idle": "2025-01-16T20:33:47.859545Z",
     "shell.execute_reply": "2025-01-16T20:33:47.858286Z",
     "shell.execute_reply.started": "2025-01-16T20:25:28.265795Z"
    },
    "trusted": true
   },
   "outputs": [
    {
     "name": "stdout",
     "output_type": "stream",
     "text": [
      "Epoch 1/10\n",
      "\u001b[1m2511/2511\u001b[0m \u001b[32m━━━━━━━━━━━━━━━━━━━━\u001b[0m\u001b[37m\u001b[0m \u001b[1m51s\u001b[0m 20ms/step - accuracy: 0.7492 - loss: 0.5088 - val_accuracy: 0.8353 - val_loss: 0.3731\n",
      "Epoch 2/10\n",
      "\u001b[1m2511/2511\u001b[0m \u001b[32m━━━━━━━━━━━━━━━━━━━━\u001b[0m\u001b[37m\u001b[0m \u001b[1m50s\u001b[0m 20ms/step - accuracy: 0.8698 - loss: 0.3181 - val_accuracy: 0.8500 - val_loss: 0.3564\n",
      "Epoch 3/10\n",
      "\u001b[1m2511/2511\u001b[0m \u001b[32m━━━━━━━━━━━━━━━━━━━━\u001b[0m\u001b[37m\u001b[0m \u001b[1m49s\u001b[0m 20ms/step - accuracy: 0.9085 - loss: 0.2301 - val_accuracy: 0.8531 - val_loss: 0.3799\n",
      "Epoch 4/10\n",
      "\u001b[1m2511/2511\u001b[0m \u001b[32m━━━━━━━━━━━━━━━━━━━━\u001b[0m\u001b[37m\u001b[0m \u001b[1m50s\u001b[0m 20ms/step - accuracy: 0.9382 - loss: 0.1624 - val_accuracy: 0.8570 - val_loss: 0.4257\n",
      "Epoch 5/10\n",
      "\u001b[1m2511/2511\u001b[0m \u001b[32m━━━━━━━━━━━━━━━━━━━━\u001b[0m\u001b[37m\u001b[0m \u001b[1m49s\u001b[0m 20ms/step - accuracy: 0.9528 - loss: 0.1201 - val_accuracy: 0.8548 - val_loss: 0.4983\n",
      "Epoch 6/10\n",
      "\u001b[1m2511/2511\u001b[0m \u001b[32m━━━━━━━━━━━━━━━━━━━━\u001b[0m\u001b[37m\u001b[0m \u001b[1m50s\u001b[0m 20ms/step - accuracy: 0.9641 - loss: 0.0945 - val_accuracy: 0.8601 - val_loss: 0.6182\n",
      "Epoch 7/10\n",
      "\u001b[1m2511/2511\u001b[0m \u001b[32m━━━━━━━━━━━━━━━━━━━━\u001b[0m\u001b[37m\u001b[0m \u001b[1m49s\u001b[0m 20ms/step - accuracy: 0.9711 - loss: 0.0759 - val_accuracy: 0.8561 - val_loss: 0.7323\n",
      "Epoch 8/10\n",
      "\u001b[1m2511/2511\u001b[0m \u001b[32m━━━━━━━━━━━━━━━━━━━━\u001b[0m\u001b[37m\u001b[0m \u001b[1m50s\u001b[0m 20ms/step - accuracy: 0.9750 - loss: 0.0643 - val_accuracy: 0.8559 - val_loss: 0.7718\n",
      "Epoch 9/10\n",
      "\u001b[1m2511/2511\u001b[0m \u001b[32m━━━━━━━━━━━━━━━━━━━━\u001b[0m\u001b[37m\u001b[0m \u001b[1m49s\u001b[0m 19ms/step - accuracy: 0.9779 - loss: 0.0600 - val_accuracy: 0.8561 - val_loss: 0.8474\n",
      "Epoch 10/10\n",
      "\u001b[1m2511/2511\u001b[0m \u001b[32m━━━━━━━━━━━━━━━━━━━━\u001b[0m\u001b[37m\u001b[0m \u001b[1m49s\u001b[0m 20ms/step - accuracy: 0.9805 - loss: 0.0510 - val_accuracy: 0.8564 - val_loss: 0.9738\n",
      "\u001b[1m628/628\u001b[0m \u001b[32m━━━━━━━━━━━━━━━━━━━━\u001b[0m\u001b[37m\u001b[0m \u001b[1m3s\u001b[0m 5ms/step - accuracy: 0.8564 - loss: 0.9624\n",
      "Test Accuracy: 0.8564\n"
     ]
    }
   ],
   "source": [
    "# Train the model\n",
    "history = model.fit(\n",
    "    X_train_padded, y_train,\n",
    "    epochs=10,\n",
    "    batch_size=32,\n",
    "    validation_data=(X_test_padded, y_test)\n",
    ")\n",
    "\n",
    "# Evaluate the model\n",
    "loss, accuracy = model.evaluate(X_test_padded, y_test)\n",
    "print(f'Test Accuracy: {accuracy:.4f}')"
   ]
  },
  {
   "cell_type": "code",
   "execution_count": 38,
   "metadata": {
    "execution": {
     "iopub.execute_input": "2025-01-16T20:44:42.797484Z",
     "iopub.status.busy": "2025-01-16T20:44:42.796664Z",
     "iopub.status.idle": "2025-01-16T20:44:43.362078Z",
     "shell.execute_reply": "2025-01-16T20:44:43.360964Z",
     "shell.execute_reply.started": "2025-01-16T20:44:42.797441Z"
    },
    "trusted": true
   },
   "outputs": [
    {
     "data": {
      "text/plain": [
       "Text(0, 0.5, 'Accuracy Scores')"
      ]
     },
     "execution_count": 38,
     "metadata": {},
     "output_type": "execute_result"
    },
    {
     "data": {
      "image/png": "[encoded data removed]",
      "text/plain": [
       "<Figure size 2000x1000 with 2 Axes>"
      ]
     },
     "metadata": {},
     "output_type": "display_data"
    }
   ],
   "source": [
    "epochs = [i for i in range(10)]\n",
    "\n",
    "fig, ax = plt.subplots(1, 2)\n",
    "\n",
    "train_acc = history.history['accuracy']\n",
    "train_loss = history.history['loss']\n",
    "\n",
    "val_acc = history.history['val_accuracy']\n",
    "val_loss = history.history['val_loss']\n",
    "fig.set_size_inches(20, 10)\n",
    "\n",
    "ax[0].plot(epochs, train_acc, 'go-', label = 'Training Accuracy' )\n",
    "ax[0].plot(epochs, val_acc, 'go-', label = 'Test Accuracy' )\n",
    "ax[0].set_title('Train and Test Accuracy across Epochs')\n",
    "ax[0].legend()\n",
    "ax[0].set_xlabel('Epochs')\n",
    "ax[0].set_ylabel('Accuracy Scores')"
   ]
  },
  {
   "cell_type": "code",
   "execution_count": 55,
   "metadata": {
    "execution": {
     "iopub.execute_input": "2025-01-13T15:58:24.235246Z",
     "iopub.status.busy": "2025-01-13T15:58:24.234856Z",
     "iopub.status.idle": "2025-01-13T15:58:24.249848Z",
     "shell.execute_reply": "2025-01-13T15:58:24.248855Z",
     "shell.execute_reply.started": "2025-01-13T15:58:24.235214Z"
    },
    "trusted": true
   },
   "outputs": [
    {
     "data": {
      "text/plain": [
       "Text(878.3295454545454, 0.5, 'Losses')"
      ]
     },
     "execution_count": 55,
     "metadata": {},
     "output_type": "execute_result"
    }
   ],
   "source": [
    "ax[1].plot(epochs, train_loss, 'go-', label = 'Training Loss' )\n",
    "ax[1].plot(epochs, val_loss, 'go-', label = 'Test Loss' )\n",
    "ax[1].set_title('Train and Test Loss across Epochs')\n",
    "ax[1].legend()\n",
    "ax[1].set_xlabel('Epochs')\n",
    "ax[1].set_ylabel('Losses')"
   ]
  },
  {
   "cell_type": "code",
   "execution_count": 56,
   "metadata": {
    "execution": {
     "iopub.execute_input": "2025-01-13T16:00:34.285258Z",
     "iopub.status.busy": "2025-01-13T16:00:34.283080Z",
     "iopub.status.idle": "2025-01-13T16:13:52.559036Z",
     "shell.execute_reply": "2025-01-13T16:13:52.557928Z",
     "shell.execute_reply.started": "2025-01-13T16:00:34.285209Z"
    },
    "trusted": true
   },
   "outputs": [
    {
     "name": "stdout",
     "output_type": "stream",
     "text": [
      "Epoch 1/10\n",
      "\u001b[1m1263/1263\u001b[0m \u001b[32m━━━━━━━━━━━━━━━━━━━━\u001b[0m\u001b[37m\u001b[0m \u001b[1m121s\u001b[0m 94ms/step - accuracy: 0.6767 - loss: 0.5839 - val_accuracy: 0.9968 - val_loss: 0.0103\n",
      "Epoch 2/10\n",
      "\u001b[1m1263/1263\u001b[0m \u001b[32m━━━━━━━━━━━━━━━━━━━━\u001b[0m\u001b[37m\u001b[0m \u001b[1m118s\u001b[0m 94ms/step - accuracy: 0.9962 - loss: 0.0145 - val_accuracy: 0.9976 - val_loss: 0.0083\n",
      "Epoch 3/10\n",
      "\u001b[1m1263/1263\u001b[0m \u001b[32m━━━━━━━━━━━━━━━━━━━━\u001b[0m\u001b[37m\u001b[0m \u001b[1m141s\u001b[0m 93ms/step - accuracy: 0.9977 - loss: 0.0078 - val_accuracy: 0.9977 - val_loss: 0.0081\n",
      "Epoch 4/10\n",
      "\u001b[1m1263/1263\u001b[0m \u001b[32m━━━━━━━━━━━━━━━━━━━━\u001b[0m\u001b[37m\u001b[0m \u001b[1m142s\u001b[0m 94ms/step - accuracy: 0.9985 - loss: 0.0048 - val_accuracy: 0.9976 - val_loss: 0.0094\n",
      "Epoch 5/10\n",
      "\u001b[1m1263/1263\u001b[0m \u001b[32m━━━━━━━━━━━━━━━━━━━━\u001b[0m\u001b[37m\u001b[0m \u001b[1m146s\u001b[0m 96ms/step - accuracy: 0.9989 - loss: 0.0038 - val_accuracy: 0.9976 - val_loss: 0.0097\n",
      "Epoch 6/10\n",
      "\u001b[1m1263/1263\u001b[0m \u001b[32m━━━━━━━━━━━━━━━━━━━━\u001b[0m\u001b[37m\u001b[0m \u001b[1m121s\u001b[0m 96ms/step - accuracy: 0.9994 - loss: 0.0023 - val_accuracy: 0.9977 - val_loss: 0.0103\n",
      "\u001b[1m632/632\u001b[0m \u001b[32m━━━━━━━━━━━━━━━━━━━━\u001b[0m\u001b[37m\u001b[0m \u001b[1m8s\u001b[0m 13ms/step - accuracy: 0.9980 - loss: 0.0081\n",
      "Test Accuracy: 1.00\n"
     ]
    }
   ],
   "source": [
    "from tensorflow.keras.layers import Embedding, Conv1D, GlobalMaxPooling1D, Dense, Dropout, BatchNormalization\n",
    "from tensorflow.keras.callbacks import EarlyStopping\n",
    "from tensorflow.keras.optimizers import Adam\n",
    "\n",
    "# Build the enhanced CNN model\n",
    "embedding_dim = 100  # Use larger embedding size\n",
    "model = Sequential([\n",
    "    Embedding(input_dim=10000, output_dim=embedding_dim, input_length=max_length),\n",
    "    Conv1D(filters=128, kernel_size=3, activation='relu'),\n",
    "    BatchNormalization(),\n",
    "    Conv1D(filters=128, kernel_size=5, activation='relu'),\n",
    "    GlobalMaxPooling1D(),\n",
    "    Dropout(0.5),\n",
    "    Dense(64, activation='relu'),\n",
    "    Dropout(0.5),\n",
    "    Dense(1, activation='sigmoid')  # Binary classification\n",
    "])\n",
    "\n",
    "# Compile the model with improved optimizer\n",
    "model.compile(optimizer=Adam(learning_rate=1e-4), loss='binary_crossentropy', metrics=['accuracy'])\n",
    "\n",
    "# Early stopping to prevent overfitting\n",
    "early_stopping = EarlyStopping(monitor='val_loss', patience=3, restore_best_weights=True)\n",
    "\n",
    "# Train the model\n",
    "history = model.fit(\n",
    "    X_train_padded, y_train,\n",
    "    epochs=10,\n",
    "    batch_size=64,\n",
    "    validation_data=(X_test_padded, y_test),\n",
    "    callbacks=[early_stopping]\n",
    ")\n",
    "\n",
    "# Evaluate the model\n",
    "loss, accuracy = model.evaluate(X_test_padded, y_test)\n",
    "print(f'Test Accuracy: {accuracy:.6f}')\n",
    "\n",
    "# Save tokenizer and model for deployment\n",
    "model.save('kurdish_fake_news_cnn.h5')\n",
    "import pickle\n",
    "with open('tokenizer.pkl', 'wb') as handle:\n",
    "    pickle.dump(tokenizer, handle)\n"
   ]
  },
  {
   "cell_type": "code",
   "execution_count": null,
   "metadata": {
    "trusted": true
   },
   "outputs": [],
   "source": []
  },
  {
   "cell_type": "code",
   "execution_count": 40,
   "metadata": {
    "execution": {
     "iopub.execute_input": "2025-01-16T20:45:38.586122Z",
     "iopub.status.busy": "2025-01-16T20:45:38.585676Z",
     "iopub.status.idle": "2025-01-16T20:45:38.628230Z",
     "shell.execute_reply": "2025-01-16T20:45:38.626843Z",
     "shell.execute_reply.started": "2025-01-16T20:45:38.586081Z"
    },
    "trusted": true
   },
   "outputs": [
    {
     "data": {
      "text/html": [
       "<pre style=\"white-space:pre;overflow-x:auto;line-height:normal;font-family:Menlo,'DejaVu Sans Mono',consolas,'Courier New',monospace\"><span style=\"font-weight: bold\">Model: \"sequential_2\"</span>\n",
       "</pre>\n"
      ],
      "text/plain": [
       "\u001b[1mModel: \"sequential_2\"\u001b[0m\n"
      ]
     },
     "metadata": {},
     "output_type": "display_data"
    },
    {
     "data": {
      "text/html": [
       "<pre style=\"white-space:pre;overflow-x:auto;line-height:normal;font-family:Menlo,'DejaVu Sans Mono',consolas,'Courier New',monospace\">┏━━━━━━━━━━━━━━━━━━━━━━━━━━━━━━━━━┳━━━━━━━━━━━━━━━━━━━━━━━━┳━━━━━━━━━━━━━━━┓\n",
       "┃<span style=\"font-weight: bold\"> Layer (type)                    </span>┃<span style=\"font-weight: bold\"> Output Shape           </span>┃<span style=\"font-weight: bold\">       Param # </span>┃\n",
       "┡━━━━━━━━━━━━━━━━━━━━━━━━━━━━━━━━━╇━━━━━━━━━━━━━━━━━━━━━━━━╇━━━━━━━━━━━━━━━┩\n",
       "│ embedding_2 (<span style=\"color: #0087ff; text-decoration-color: #0087ff\">Embedding</span>)         │ ?                      │   <span style=\"color: #00af00; text-decoration-color: #00af00\">0</span> (unbuilt) │\n",
       "├─────────────────────────────────┼────────────────────────┼───────────────┤\n",
       "│ dropout_4 (<span style=\"color: #0087ff; text-decoration-color: #0087ff\">Dropout</span>)             │ ?                      │   <span style=\"color: #00af00; text-decoration-color: #00af00\">0</span> (unbuilt) │\n",
       "├─────────────────────────────────┼────────────────────────┼───────────────┤\n",
       "│ lstm_1 (<span style=\"color: #0087ff; text-decoration-color: #0087ff\">LSTM</span>)                   │ ?                      │   <span style=\"color: #00af00; text-decoration-color: #00af00\">0</span> (unbuilt) │\n",
       "├─────────────────────────────────┼────────────────────────┼───────────────┤\n",
       "│ dropout_5 (<span style=\"color: #0087ff; text-decoration-color: #0087ff\">Dropout</span>)             │ ?                      │   <span style=\"color: #00af00; text-decoration-color: #00af00\">0</span> (unbuilt) │\n",
       "├─────────────────────────────────┼────────────────────────┼───────────────┤\n",
       "│ dense_4 (<span style=\"color: #0087ff; text-decoration-color: #0087ff\">Dense</span>)                 │ ?                      │   <span style=\"color: #00af00; text-decoration-color: #00af00\">0</span> (unbuilt) │\n",
       "├─────────────────────────────────┼────────────────────────┼───────────────┤\n",
       "│ dense_5 (<span style=\"color: #0087ff; text-decoration-color: #0087ff\">Dense</span>)                 │ ?                      │   <span style=\"color: #00af00; text-decoration-color: #00af00\">0</span> (unbuilt) │\n",
       "└─────────────────────────────────┴────────────────────────┴───────────────┘\n",
       "</pre>\n"
      ],
      "text/plain": [
       "┏━━━━━━━━━━━━━━━━━━━━━━━━━━━━━━━━━┳━━━━━━━━━━━━━━━━━━━━━━━━┳━━━━━━━━━━━━━━━┓\n",
       "┃\u001b[1m \u001b[0m\u001b[1mLayer (type)                   \u001b[0m\u001b[1m \u001b[0m┃\u001b[1m \u001b[0m\u001b[1mOutput Shape          \u001b[0m\u001b[1m \u001b[0m┃\u001b[1m \u001b[0m\u001b[1m      Param #\u001b[0m\u001b[1m \u001b[0m┃\n",
       "┡━━━━━━━━━━━━━━━━━━━━━━━━━━━━━━━━━╇━━━━━━━━━━━━━━━━━━━━━━━━╇━━━━━━━━━━━━━━━┩\n",
       "│ embedding_2 (\u001b[38;5;33mEmbedding\u001b[0m)         │ ?                      │   \u001b[38;5;34m0\u001b[0m (unbuilt) │\n",
       "├─────────────────────────────────┼────────────────────────┼───────────────┤\n",
       "│ dropout_4 (\u001b[38;5;33mDropout\u001b[0m)             │ ?                      │   \u001b[38;5;34m0\u001b[0m (unbuilt) │\n",
       "├─────────────────────────────────┼────────────────────────┼───────────────┤\n",
       "│ lstm_1 (\u001b[38;5;33mLSTM\u001b[0m)                   │ ?                      │   \u001b[38;5;34m0\u001b[0m (unbuilt) │\n",
       "├─────────────────────────────────┼────────────────────────┼───────────────┤\n",
       "│ dropout_5 (\u001b[38;5;33mDropout\u001b[0m)             │ ?                      │   \u001b[38;5;34m0\u001b[0m (unbuilt) │\n",
       "├─────────────────────────────────┼────────────────────────┼───────────────┤\n",
       "│ dense_4 (\u001b[38;5;33mDense\u001b[0m)                 │ ?                      │   \u001b[38;5;34m0\u001b[0m (unbuilt) │\n",
       "├─────────────────────────────────┼────────────────────────┼───────────────┤\n",
       "│ dense_5 (\u001b[38;5;33mDense\u001b[0m)                 │ ?                      │   \u001b[38;5;34m0\u001b[0m (unbuilt) │\n",
       "└─────────────────────────────────┴────────────────────────┴───────────────┘\n"
      ]
     },
     "metadata": {},
     "output_type": "display_data"
    },
    {
     "data": {
      "text/html": [
       "<pre style=\"white-space:pre;overflow-x:auto;line-height:normal;font-family:Menlo,'DejaVu Sans Mono',consolas,'Courier New',monospace\"><span style=\"font-weight: bold\"> Total params: </span><span style=\"color: #00af00; text-decoration-color: #00af00\">0</span> (0.00 B)\n",
       "</pre>\n"
      ],
      "text/plain": [
       "\u001b[1m Total params: \u001b[0m\u001b[38;5;34m0\u001b[0m (0.00 B)\n"
      ]
     },
     "metadata": {},
     "output_type": "display_data"
    },
    {
     "data": {
      "text/html": [
       "<pre style=\"white-space:pre;overflow-x:auto;line-height:normal;font-family:Menlo,'DejaVu Sans Mono',consolas,'Courier New',monospace\"><span style=\"font-weight: bold\"> Trainable params: </span><span style=\"color: #00af00; text-decoration-color: #00af00\">0</span> (0.00 B)\n",
       "</pre>\n"
      ],
      "text/plain": [
       "\u001b[1m Trainable params: \u001b[0m\u001b[38;5;34m0\u001b[0m (0.00 B)\n"
      ]
     },
     "metadata": {},
     "output_type": "display_data"
    },
    {
     "data": {
      "text/html": [
       "<pre style=\"white-space:pre;overflow-x:auto;line-height:normal;font-family:Menlo,'DejaVu Sans Mono',consolas,'Courier New',monospace\"><span style=\"font-weight: bold\"> Non-trainable params: </span><span style=\"color: #00af00; text-decoration-color: #00af00\">0</span> (0.00 B)\n",
       "</pre>\n"
      ],
      "text/plain": [
       "\u001b[1m Non-trainable params: \u001b[0m\u001b[38;5;34m0\u001b[0m (0.00 B)\n"
      ]
     },
     "metadata": {},
     "output_type": "display_data"
    }
   ],
   "source": [
    "# Model definition\n",
    "model = Sequential([\n",
    "    Embedding(input_dim=vocab_size + 1, output_dim=100, trainable=True),\n",
    "    Dropout(0.2),\n",
    "    LSTM(64),\n",
    "    Dropout(0.2),\n",
    "    Dense(16),\n",
    "    Dense(1, activation='sigmoid')\n",
    "])\n",
    "model.compile(optimizer='adam', loss='binary_crossentropy', metrics=['accuracy'])\n",
    "# Model summary\n",
    "model.summary()\n"
   ]
  },
  {
   "cell_type": "code",
   "execution_count": null,
   "metadata": {
    "execution": {
     "iopub.execute_input": "2025-01-16T20:45:44.207810Z",
     "iopub.status.busy": "2025-01-16T20:45:44.207400Z"
    },
    "trusted": true
   },
   "outputs": [
    {
     "name": "stdout",
     "output_type": "stream",
     "text": [
      "Epoch 1/10\n",
      "\u001b[1m1256/1256\u001b[0m \u001b[32m━━━━━━━━━━━━━━━━━━━━\u001b[0m\u001b[37m\u001b[0m \u001b[1m81s\u001b[0m 62ms/step - accuracy: 0.5460 - loss: 0.6827 - val_accuracy: 0.6869 - val_loss: 0.6152\n",
      "Epoch 2/10\n",
      "\u001b[1m1256/1256\u001b[0m \u001b[32m━━━━━━━━━━━━━━━━━━━━\u001b[0m\u001b[37m\u001b[0m \u001b[1m77s\u001b[0m 62ms/step - accuracy: 0.5858 - loss: 0.6624 - val_accuracy: 0.5028 - val_loss: 0.6944\n",
      "Epoch 3/10\n",
      "\u001b[1m1256/1256\u001b[0m \u001b[32m━━━━━━━━━━━━━━━━━━━━\u001b[0m\u001b[37m\u001b[0m \u001b[1m78s\u001b[0m 62ms/step - accuracy: 0.5265 - loss: 0.6875 - val_accuracy: 0.5028 - val_loss: 0.6924\n",
      "Epoch 4/10\n",
      "\u001b[1m 301/1256\u001b[0m \u001b[32m━━━━\u001b[0m\u001b[37m━━━━━━━━━━━━━━━━\u001b[0m \u001b[1m52s\u001b[0m 55ms/step - accuracy: 0.5032 - loss: 0.6942"
     ]
    }
   ],
   "source": [
    "# train the model\n",
    "history=model.fit(\n",
    "    X_train_padded, y_train,\n",
    "    epochs=10,\n",
    "    batch_size=64,\n",
    "    validation_data=(X_test_padded, y_test)\n",
    ")\n",
    "#x_test_ls = np.array(x_test, dtype='float32')\n",
    "predictions = model.predict(X_test_padded)\n",
    "\n",
    "predicted_classes = (predictions > 0.5).astype(\"int32\")\n",
    "#lr_reduce = ReduceLROnPlateau(monitor = 'val_accuracy', patience = 2, factor = 0.5, min_lr = 0.00001 )\n",
    "\n",
    "print(\"Accuracy: {}%\".format(round(accuracy_score(y_test, predicted_classes) * 100, 2)))\n"
   ]
  },
  {
   "cell_type": "code",
   "execution_count": 59,
   "metadata": {
    "execution": {
     "iopub.execute_input": "2025-01-13T16:40:03.137236Z",
     "iopub.status.busy": "2025-01-13T16:40:03.136811Z",
     "iopub.status.idle": "2025-01-13T16:40:03.741636Z",
     "shell.execute_reply": "2025-01-13T16:40:03.740453Z",
     "shell.execute_reply.started": "2025-01-13T16:40:03.137193Z"
    },
    "trusted": true
   },
   "outputs": [
    {
     "data": {
      "text/plain": [
       "Text(0, 0.5, 'Losses')"
      ]
     },
     "execution_count": 59,
     "metadata": {},
     "output_type": "execute_result"
    },
    {
     "data": {
      "image/png": "[encoded data removed]",
      "text/plain": [
       "<Figure size 2000x1000 with 2 Axes>"
      ]
     },
     "metadata": {},
     "output_type": "display_data"
    }
   ],
   "source": [
    "epochs = [i for i in range(10)]\n",
    "\n",
    "fig, ax = plt.subplots(1, 2)\n",
    "\n",
    "train_acc = history.history['accuracy']\n",
    "train_loss = history.history['loss']\n",
    "\n",
    "val_acc = history.history['val_accuracy']\n",
    "val_loss = history.history['val_loss']\n",
    "fig.set_size_inches(20, 10)\n",
    "\n",
    "ax[0].plot(epochs, train_acc, 'go-', label = 'Training Accuracy' )\n",
    "ax[0].plot(epochs, val_acc, 'go-', label = 'Test Accuracy' )\n",
    "ax[0].set_title('Train and Test Accuracy across Epochs')\n",
    "ax[0].legend()\n",
    "ax[0].set_xlabel('Epochs')\n",
    "ax[0].set_ylabel('Accuracy Scores')\n",
    "\n",
    "\n",
    "ax[1].plot(epochs, train_loss, 'go-', label = 'Training Loss' )\n",
    "ax[1].plot(epochs, val_loss, 'go-', label = 'Test Loss' )\n",
    "ax[1].set_title('Train and Test Loss across Epochs')\n",
    "ax[1].legend()\n",
    "ax[1].set_xlabel('Epochs')\n",
    "ax[1].set_ylabel('Losses')"
   ]
  },
  {
   "cell_type": "code",
   "execution_count": null,
   "metadata": {
    "execution": {
     "iopub.execute_input": "2025-01-13T19:13:59.294871Z",
     "iopub.status.busy": "2025-01-13T19:13:59.293794Z"
    },
    "trusted": true
   },
   "outputs": [
    {
     "name": "stdout",
     "output_type": "stream",
     "text": [
      "Epoch 1/10\n",
      "\u001b[1m2525/2525\u001b[0m \u001b[32m━━━━━━━━━━━━━━━━━━━━\u001b[0m\u001b[37m\u001b[0m \u001b[1m158s\u001b[0m 62ms/step - accuracy: 0.6068 - loss: 0.6086 - val_accuracy: 0.9962 - val_loss: 0.0159\n",
      "Epoch 2/10\n",
      "\u001b[1m2525/2525\u001b[0m \u001b[32m━━━━━━━━━━━━━━━━━━━━\u001b[0m\u001b[37m\u001b[0m \u001b[1m154s\u001b[0m 61ms/step - accuracy: 0.9960 - loss: 0.0181 - val_accuracy: 0.9962 - val_loss: 0.0205\n",
      "Epoch 3/10\n",
      "\u001b[1m2525/2525\u001b[0m \u001b[32m━━━━━━━━━━━━━━━━━━━━\u001b[0m\u001b[37m\u001b[0m \u001b[1m157s\u001b[0m 62ms/step - accuracy: 0.9953 - loss: 0.0272 - val_accuracy: 0.9968 - val_loss: 0.0166\n",
      "Epoch 4/10\n",
      "\u001b[1m2525/2525\u001b[0m \u001b[32m━━━━━━━━━━━━━━━━━━━━\u001b[0m\u001b[37m\u001b[0m \u001b[1m156s\u001b[0m 62ms/step - accuracy: 0.9278 - loss: 0.1450 - val_accuracy: 0.9940 - val_loss: 0.0327\n",
      "Epoch 5/10\n",
      "\u001b[1m2525/2525\u001b[0m \u001b[32m━━━━━━━━━━━━━━━━━━━━\u001b[0m\u001b[37m\u001b[0m \u001b[1m155s\u001b[0m 61ms/step - accuracy: 0.9949 - loss: 0.0336 - val_accuracy: 0.9968 - val_loss: 0.0188\n",
      "Epoch 6/10\n",
      "\u001b[1m2525/2525\u001b[0m \u001b[32m━━━━━━━━━━━━━━━━━━━━\u001b[0m\u001b[37m\u001b[0m \u001b[1m154s\u001b[0m 61ms/step - accuracy: 0.9965 - loss: 0.0187 - val_accuracy: 0.9956 - val_loss: 0.0219\n",
      "Epoch 7/10\n",
      "\u001b[1m2525/2525\u001b[0m \u001b[32m━━━━━━━━━━━━━━━━━━━━\u001b[0m\u001b[37m\u001b[0m \u001b[1m160s\u001b[0m 63ms/step - accuracy: 0.9945 - loss: 0.0291 - val_accuracy: 0.9976 - val_loss: 0.0096\n",
      "Epoch 8/10\n",
      "\u001b[1m2525/2525\u001b[0m \u001b[32m━━━━━━━━━━━━━━━━━━━━\u001b[0m\u001b[37m\u001b[0m \u001b[1m154s\u001b[0m 61ms/step - accuracy: 0.9972 - loss: 0.0103 - val_accuracy: 0.9971 - val_loss: 0.0099\n",
      "Epoch 9/10\n",
      "\u001b[1m2525/2525\u001b[0m \u001b[32m━━━━━━━━━━━━━━━━━━━━\u001b[0m\u001b[37m\u001b[0m \u001b[1m152s\u001b[0m 60ms/step - accuracy: 0.9977 - loss: 0.0086 - val_accuracy: 0.9978 - val_loss: 0.0091\n",
      "Epoch 10/10\n",
      "\u001b[1m2525/2525\u001b[0m \u001b[32m━━━━━━━━━━━━━━━━━━━━\u001b[0m\u001b[37m\u001b[0m \u001b[1m152s\u001b[0m 60ms/step - accuracy: 0.9978 - loss: 0.0082 - val_accuracy: 0.9973 - val_loss: 0.0129\n"
     ]
    }
   ],
   "source": [
    "\n",
    "\n",
    "# Model\n",
    "input_layer = Input(shape=(100,))\n",
    "\n",
    "# Embedding Layer\n",
    "embedding = Embedding(input_dim=vocab_size, output_dim=128, trainable=False)(input_layer)\n",
    "\n",
    "# CNN Layer\n",
    "conv = Conv1D(filters=128, \n",
    "              kernel_size=2, \n",
    "              activation='relu')(embedding)\n",
    "pooling = MaxPooling1D(pool_size=2)(conv)\n",
    "\n",
    "# LSTM Layer\n",
    "lstm = LSTM(128, return_sequences=False)(pooling)\n",
    "\n",
    "# Dense Layers\n",
    "dense = Dense(128, activation='relu')(lstm)\n",
    "dropout = Dropout(0.5)(dense)\n",
    "output_layer = Dense(1, activation='sigmoid')(dropout)  # Use softmax for multi-class\n",
    "\n",
    "# Compile Model\n",
    "model = Model(inputs=input_layer, outputs=output_layer)\n",
    "model.compile(optimizer='adam', loss='binary_crossentropy', metrics=['accuracy'])\n",
    " \n",
    "# Train the Model\n",
    "history=model.fit(\n",
    "    X_train_padded, y_train,\n",
    "    epochs=10,\n",
    "    batch_size=32,\n",
    "    validation_data=(X_test_padded, y_test)\n",
    ")\n",
    "\n",
    "# Evaluate the Model\n",
    "\n",
    "predictions = model.predict(X_test_seq)\n",
    "\n",
    "classes_pred = np.argmax(predictions, axis = 1)\n",
    "\n",
    "predicted_classes = (predictions > 0.5).astype(\"int32\")\n",
    "# Ensure y_test matches the length of x_test\n",
    "#print(f\"y_train shape: {y_train.shape}, predicted_classes shape: {predicted_classes.shape}\")\n",
    "\n",
    "# Metrics\n",
    "print(\"Classification Report:\")\n",
    "print(classification_report(y_test, predicted_classes, zero_division=1))\n",
    "print(\"Accuracy: {}%\".format(round(accuracy_score(y_test, predicted_classes) * 100, 2)))\n",
    "\n",
    "# Model summary\n",
    "model.summary()"
   ]
  },
  {
   "cell_type": "code",
   "execution_count": null,
   "metadata": {
    "trusted": true
   },
   "outputs": [],
   "source": [
    "epochs = [i for i in range(10)]\n",
    "\n",
    "fig, ax = plt.subplots(1, 2)\n",
    "\n",
    "train_acc = history.history['accuracy']\n",
    "train_loss = history.history['loss']\n",
    "\n",
    "val_acc = history.history['val_accuracy']\n",
    "val_loss = history.history['val_loss']\n",
    "fig.set_size_inches(20, 10)\n",
    "\n",
    "ax[0].plot(epochs, train_acc, 'go-', label = 'Training Accuracy' )\n",
    "ax[0].plot(epochs, val_acc, 'go-', label = 'Test Accuracy' )\n",
    "ax[0].set_title('Train and Test Accuracy across Epochs')\n",
    "ax[0].legend()\n",
    "ax[0].set_xlabel('Epochs')\n",
    "ax[0].set_ylabel('Accuracy Scores')\n",
    "\n",
    "\n",
    "ax[1].plot(epochs, train_loss, 'go-', label = 'Training Loss' )\n",
    "ax[1].plot(epochs, val_loss, 'go-', label = 'Test Loss' )\n",
    "ax[1].set_title('Train and Test Loss across Epochs')\n",
    "ax[1].legend()\n",
    "ax[1].set_xlabel('Epochs')\n",
    "ax[1].set_ylabel('Losses')"
   ]
  },
  {
   "cell_type": "code",
   "execution_count": null,
   "metadata": {
    "trusted": true
   },
   "outputs": [],
   "source": [
    "# Model Parameters\n",
    "#vocab_size = 10000\n",
    "#embedding_dim = 100\n",
    "\n",
    "# Model Architecture\n",
    "input_layer = Input(shape=(100,))\n",
    "embedding = Embedding(input_dim=vocab_size, output_dim=128)(input_layer)\n",
    "bilstm = Bidirectional(LSTM(128, return_sequences=False))(embedding)\n",
    "dense = Dense(128, activation='relu')(bilstm)\n",
    "dropout = Dropout(0.5)(dense)\n",
    "output_layer = Dense(1, activation='sigmoid')(dropout)  # Binary classification\n",
    "\n",
    "model = Model(inputs=input_layer, outputs=output_layer)\n",
    "\n",
    "# Compile Model\n",
    "model.compile(optimizer='adam', loss='binary_crossentropy', metrics=['accuracy'])\n",
    "\n",
    "# Train the Model\n",
    "#history = model.fit(padded_seq, labels_encoded, epochs=10, batch_size=32, validation_split=0.2, verbose=1)\n",
    "\n",
    "# Evaluate the Model\n",
    "predictions = model.predict(X_test_seq)\n",
    "predicted_classes = (predictions > 0.5).astype(\"int32\")\n",
    "\n",
    "# Metrics\n",
    "print(\"Classification Report:\")\n",
    "print(classification_report(y_test, predicted_classes, zero_division=1))\n",
    "print(\"Accuracy: {}%\".format(round(accuracy_score(y_test, predicted_classes) * 100, 2)))\n",
    "\n",
    "# Model Summary\n",
    "model.summary()"
   ]
  },
  {
   "cell_type": "code",
   "execution_count": null,
   "metadata": {
    "trusted": true
   },
   "outputs": [],
   "source": [
    "epochs = [i for i in range(10)]\n",
    "\n",
    "fig, ax = plt.subplots(1, 2)\n",
    "\n",
    "train_acc = history.history['accuracy']\n",
    "train_loss = history.history['loss']\n",
    "\n",
    "val_acc = history.history['val_accuracy']\n",
    "val_loss = history.history['val_loss']\n",
    "fig.set_size_inches(20, 10)\n",
    "\n",
    "ax[0].plot(epochs, train_acc, 'go-', label = 'Training Accuracy' )\n",
    "ax[0].plot(epochs, val_acc, 'go-', label = 'Test Accuracy' )\n",
    "ax[0].set_title('Train and Test Accuracy across Epochs')\n",
    "ax[0].legend()\n",
    "ax[0].set_xlabel('Epochs')\n",
    "ax[0].set_ylabel('Accuracy Scores')\n",
    "\n",
    "\n",
    "ax[1].plot(epochs, train_loss, 'go-', label = 'Training Loss' )\n",
    "ax[1].plot(epochs, val_loss, 'go-', label = 'Test Loss' )\n",
    "ax[1].set_title('Train and Test Loss across Epochs')\n",
    "ax[1].legend()\n",
    "ax[1].set_xlabel('Epochs')\n",
    "ax[1].set_ylabel('Losses')"
   ]
  },
  {
   "cell_type": "code",
   "execution_count": null,
   "metadata": {
    "execution": {
     "iopub.execute_input": "2025-01-17T10:23:36.054331Z",
     "iopub.status.busy": "2025-01-17T10:23:36.053836Z"
    },
    "trusted": true
   },
   "outputs": [
    {
     "name": "stdout",
     "output_type": "stream",
     "text": [
      "Epoch 1/5\n",
      "\u001b[1m2511/2511\u001b[0m \u001b[32m━━━━━━━━━━━━━━━━━━━━\u001b[0m\u001b[37m\u001b[0m \u001b[1m423s\u001b[0m 167ms/step - accuracy: 0.7663 - loss: 0.4766 - val_accuracy: 0.8578 - val_loss: 0.3354\n",
      "Epoch 2/5\n",
      "\u001b[1m2511/2511\u001b[0m \u001b[32m━━━━━━━━━━━━━━━━━━━━\u001b[0m\u001b[37m\u001b[0m \u001b[1m396s\u001b[0m 149ms/step - accuracy: 0.9247 - loss: 0.1961 - val_accuracy: 0.8708 - val_loss: 0.3149\n",
      "Epoch 3/5\n",
      "\u001b[1m2511/2511\u001b[0m \u001b[32m━━━━━━━━━━━━━━━━━━━━\u001b[0m\u001b[37m\u001b[0m \u001b[1m395s\u001b[0m 157ms/step - accuracy: 0.9752 - loss: 0.0749 - val_accuracy: 0.8628 - val_loss: 0.3953\n",
      "Epoch 4/5\n",
      "\u001b[1m2511/2511\u001b[0m \u001b[32m━━━━━━━━━━━━━━━━━━━━\u001b[0m\u001b[37m\u001b[0m \u001b[1m388s\u001b[0m 155ms/step - accuracy: 0.9894 - loss: 0.0352 - val_accuracy: 0.8660 - val_loss: 0.4578\n",
      "Epoch 5/5\n",
      "\u001b[1m1423/2511\u001b[0m \u001b[32m━━━━━━━━━━━\u001b[0m\u001b[37m━━━━━━━━━\u001b[0m \u001b[1m2:44\u001b[0m 151ms/step - accuracy: 0.9950 - loss: 0.0179"
     ]
    }
   ],
   "source": [
    "# Prepare the data\n",
    "texts = dsk['Article'].values\n",
    "labels = dsk['label'].values\n",
    "\n",
    "# Convert text data to sequences\n",
    "tokenizer = Tokenizer()\n",
    "tokenizer.fit_on_texts(texts)\n",
    "sequences = tokenizer.texts_to_sequences(texts)\n",
    "\n",
    "# Pad sequences to ensure uniform length\n",
    "max_length = max(len(seq) for seq in sequences)  # Find the maximum length\n",
    "padded_sequences = pad_sequences(sequences, padding='post', maxlen=max_length)\n",
    "\n",
    "# Split into training and test sets\n",
    "X_train, X_test, y_train, y_test = train_test_split(padded_sequences, labels, test_size=0.2, random_state=42)\n",
    "\n",
    "# Define the CNN model\n",
    "model = Sequential([\n",
    "    Embedding(input_dim=len(tokenizer.word_index) + 1, output_dim=50, input_length=max_length),\n",
    "    Conv1D(filters=100, kernel_size=2, activation='relu'),\n",
    "    GlobalMaxPooling1D(),\n",
    "    Dense(260, activation='relu'),\n",
    "    Dense(1, activation='sigmoid')  # Output layer for binary classification\n",
    "])\n",
    "\n",
    "# Compile the model\n",
    "model.compile(optimizer='adam', loss='binary_crossentropy', metrics=['accuracy'])\n",
    "\n",
    "# Train the model\n",
    "model.fit(X_train, y_train, epochs=5, batch_size=32, validation_data=(X_test, y_test))\n",
    "\n",
    "# Evaluate the model\n",
    "loss, accuracy = model.evaluate(X_test, y_test)\n",
    "print(f'Test Accuracy: {accuracy:.2f}')"
   ]
  }
 ],
 "metadata": {
  "kaggle": {
   "accelerator": "none",
   "dataSources": [
    {
     "datasetId": 6135721,
     "sourceId": 9972841,
     "sourceType": "datasetVersion"
    },
    {
     "datasetId": 6151322,
     "sourceId": 9994367,
     "sourceType": "datasetVersion"
    },
    {
     "datasetId": 6164949,
     "sourceId": 10013496,
     "sourceType": "datasetVersion"
    },
    {
     "datasetId": 6214643,
     "sourceId": 10080704,
     "sourceType": "datasetVersion"
    }
   ],
   "dockerImageVersionId": 30786,
   "isGpuEnabled": false,
   "isInternetEnabled": true,
   "language": "python",
   "sourceType": "notebook"
  },
  "kernelspec": {
   "display_name": "Python 3",
   "language": "python",
   "name": "python3"
  },
  "language_info": {
   "codemirror_mode": {
    "name": "ipython",
    "version": 3
   },
   "file_extension": ".py",
   "mimetype": "text/x-python",
   "name": "python",
   "nbconvert_exporter": "python",
   "pygments_lexer": "ipython3",
   "version": "3.10.14"
  }
 },
 "nbformat": 4,
 "nbformat_minor": 4
}
