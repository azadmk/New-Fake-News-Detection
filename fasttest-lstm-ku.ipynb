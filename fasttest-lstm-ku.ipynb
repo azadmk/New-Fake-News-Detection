{
 "cells": [
  {
   "cell_type": "code",
   "execution_count": 1,
   "metadata": {
    "_cell_guid": "b1076dfc-b9ad-4769-8c92-a6c4dae69d19",
    "_uuid": "8f2839f25d086af736a60e9eeb907d3b93b6e0e5",
    "execution": {
     "iopub.execute_input": "2025-02-10T17:00:34.042384Z",
     "iopub.status.busy": "2025-02-10T17:00:34.042029Z",
     "iopub.status.idle": "2025-02-10T17:00:53.764349Z",
     "shell.execute_reply": "2025-02-10T17:00:53.763371Z",
     "shell.execute_reply.started": "2025-02-10T17:00:34.042345Z"
    },
    "trusted": true
   },
   "outputs": [],
   "source": [
    "import fasttext\n",
    "import pandas as pd\n",
    "import numpy as np\n",
    "import re\n",
    "import nltk\n",
    "from nltk.corpus import stopwords\n",
    "from nltk.stem import WordNetLemmatizer\n",
    "from sklearn.model_selection import train_test_split\n",
    "from tensorflow.keras.models import Sequential\n",
    "from tensorflow.keras.layers import LSTM, Dense, Embedding, Dropout, Bidirectional\n",
    "from tensorflow.keras.preprocessing.text import Tokenizer\n",
    "from tensorflow.keras.preprocessing.sequence import pad_sequences\n",
    "from sklearn.metrics import accuracy_score, precision_score, recall_score, f1_score\n",
    "import string\n",
    "from collections import Counter"
   ]
  },
  {
   "cell_type": "code",
   "execution_count": 2,
   "metadata": {
    "execution": {
     "iopub.execute_input": "2025-02-10T17:00:53.765839Z",
     "iopub.status.busy": "2025-02-10T17:00:53.765308Z",
     "iopub.status.idle": "2025-02-10T17:00:53.971050Z",
     "shell.execute_reply": "2025-02-10T17:00:53.970193Z",
     "shell.execute_reply.started": "2025-02-10T17:00:53.765813Z"
    },
    "trusted": true
   },
   "outputs": [
    {
     "name": "stdout",
     "output_type": "stream",
     "text": [
      "[nltk_data] Downloading package stopwords to /usr/share/nltk_data...\n",
      "[nltk_data]   Package stopwords is already up-to-date!\n",
      "[nltk_data] Downloading package wordnet to /usr/share/nltk_data...\n",
      "[nltk_data]   Package wordnet is already up-to-date!\n"
     ]
    },
    {
     "data": {
      "text/plain": [
       "True"
      ]
     },
     "execution_count": 2,
     "metadata": {},
     "output_type": "execute_result"
    }
   ],
   "source": [
    "nltk.download('stopwords')\n",
    "nltk.download('wordnet')\n"
   ]
  },
  {
   "cell_type": "code",
   "execution_count": 3,
   "metadata": {
    "execution": {
     "iopub.execute_input": "2025-02-10T17:00:53.973469Z",
     "iopub.status.busy": "2025-02-10T17:00:53.973183Z",
     "iopub.status.idle": "2025-02-10T17:01:11.979501Z",
     "shell.execute_reply": "2025-02-10T17:01:11.978428Z",
     "shell.execute_reply.started": "2025-02-10T17:00:53.973445Z"
    },
    "trusted": true
   },
   "outputs": [],
   "source": [
    "# Load dataset\n",
    "dsk = pd.read_excel('/kaggle/input/kurdishkdfnd/KDFND_Anlyzed_Cleaned_Filtered_Labeld.xlsx')\n"
   ]
  },
  {
   "cell_type": "code",
   "execution_count": 4,
   "metadata": {
    "execution": {
     "iopub.execute_input": "2025-02-10T17:01:11.981904Z",
     "iopub.status.busy": "2025-02-10T17:01:11.981392Z",
     "iopub.status.idle": "2025-02-10T17:01:12.084542Z",
     "shell.execute_reply": "2025-02-10T17:01:12.083505Z",
     "shell.execute_reply.started": "2025-02-10T17:01:11.981878Z"
    },
    "trusted": true
   },
   "outputs": [],
   "source": [
    "dsk = dsk.dropna(subset=['Text'])\n",
    "dsk[\"Article\"] = dsk[\"Text\"]\n",
    "dsk['label'] = dsk['label'].map({'Real': 0, 'Fake': 1})  # Convert labels to 0 and 1\n",
    "dsk = dsk[['Article', 'label']].dropna()\n"
   ]
  },
  {
   "cell_type": "code",
   "execution_count": 5,
   "metadata": {
    "execution": {
     "iopub.execute_input": "2025-02-10T17:01:12.085755Z",
     "iopub.status.busy": "2025-02-10T17:01:12.085470Z",
     "iopub.status.idle": "2025-02-10T17:01:12.128212Z",
     "shell.execute_reply": "2025-02-10T17:01:12.127154Z",
     "shell.execute_reply.started": "2025-02-10T17:01:12.085732Z"
    },
    "trusted": true
   },
   "outputs": [
    {
     "name": "stdout",
     "output_type": "stream",
     "text": [
      "Balanced class distribution:\n",
      "label\n",
      "0    50211\n",
      "1    50211\n",
      "Name: count, dtype: int64\n"
     ]
    }
   ],
   "source": [
    "from sklearn.utils import resample\n",
    "# Assuming 'dsk' is your DataFrame and you have a binary label column called 'label'\n",
    "# Split the dataset into majority and minority classes\n",
    "majority_class = dsk[dsk['label'] == 0]\n",
    "minority_class = dsk[dsk['label'] == 1]\n",
    "\n",
    "# Perform oversampling on the minority class # Sample with replacement  # Match majority size\n",
    "###minority_oversampled = resample(minority_class,replace=True, n_samples=len(majority_class), random_state=42)  # For reproducibility\n",
    "# Perform undersampling on the minority class\n",
    "majority_undersampled = resample(majority_class,replace=True, n_samples=len(minority_class), random_state=42)  # For reproducibility\n",
    "\n",
    "# Combine majority class with the oversampled minority class\n",
    "###dskb = pd.concat([majority_class, minority_oversampled])\n",
    "# Combine majority class with the undersampled minority class\n",
    "dskb = pd.concat([minority_class, majority_undersampled])\n",
    "\n",
    "# Shuffle the dataset\n",
    "dskb = dskb.sample(frac=1, random_state=42).reset_index(drop=True)\n",
    "print(\"Balanced class distribution:\")\n",
    "print(dskb['label'].value_counts())"
   ]
  },
  {
   "cell_type": "code",
   "execution_count": 6,
   "metadata": {
    "execution": {
     "iopub.execute_input": "2025-02-10T17:01:12.129440Z",
     "iopub.status.busy": "2025-02-10T17:01:12.129168Z",
     "iopub.status.idle": "2025-02-10T17:01:15.330432Z",
     "shell.execute_reply": "2025-02-10T17:01:15.329203Z",
     "shell.execute_reply.started": "2025-02-10T17:01:12.129418Z"
    },
    "trusted": true
   },
   "outputs": [
    {
     "data": {
      "text/html": [
       "<div>\n",
       "<style scoped>\n",
       "    .dataframe tbody tr th:only-of-type {\n",
       "        vertical-align: middle;\n",
       "    }\n",
       "\n",
       "    .dataframe tbody tr th {\n",
       "        vertical-align: top;\n",
       "    }\n",
       "\n",
       "    .dataframe thead th {\n",
       "        text-align: right;\n",
       "    }\n",
       "</style>\n",
       "<table border=\"1\" class=\"dataframe\">\n",
       "  <thead>\n",
       "    <tr style=\"text-align: right;\">\n",
       "      <th></th>\n",
       "      <th>Article</th>\n",
       "      <th>label</th>\n",
       "    </tr>\n",
       "  </thead>\n",
       "  <tbody>\n",
       "    <tr>\n",
       "      <th>0</th>\n",
       "      <td>شکستی ڕاهێنەرە یان پێکهاتە؟ ئارسیناڵ لەم وەرزە...</td>\n",
       "      <td>0</td>\n",
       "    </tr>\n",
       "    <tr>\n",
       "      <th>1</th>\n",
       "      <td>پۆلیسی دهۆک جادوگەرێکی دەستگیرکرد بزانن چی کرد...</td>\n",
       "      <td>1</td>\n",
       "    </tr>\n",
       "    <tr>\n",
       "      <th>2</th>\n",
       "      <td>سەرکەوت شەمسەدین نەوەی نوێ ئێستا هێزێکی ناڕەسە...</td>\n",
       "      <td>1</td>\n",
       "    </tr>\n",
       "    <tr>\n",
       "      <th>3</th>\n",
       "      <td>وریابە تێنەکویت درۆی حیزب وسکیولارەکان</td>\n",
       "      <td>1</td>\n",
       "    </tr>\n",
       "    <tr>\n",
       "      <th>4</th>\n",
       "      <td>قبوڵە بەرای تۆ؟ جەعفەر شێخ مستەفا نزا دەکەم یە...</td>\n",
       "      <td>1</td>\n",
       "    </tr>\n",
       "    <tr>\n",
       "      <th>...</th>\n",
       "      <td>...</td>\n",
       "      <td>...</td>\n",
       "    </tr>\n",
       "    <tr>\n",
       "      <th>100417</th>\n",
       "      <td>گەنجێک هەڵەبجە کۆتایی ژیانی خۆی هێنا نیوەڕوی ئ...</td>\n",
       "      <td>1</td>\n",
       "    </tr>\n",
       "    <tr>\n",
       "      <th>100418</th>\n",
       "      <td>فراکسیۆنەکانی گۆڕان پەرلەمانی کوردستان ئەنجومە...</td>\n",
       "      <td>0</td>\n",
       "    </tr>\n",
       "    <tr>\n",
       "      <th>100419</th>\n",
       "      <td>دەیان هاوڵاتی ئێرانی لیستی موچەی شەهیداندان</td>\n",
       "      <td>0</td>\n",
       "    </tr>\n",
       "    <tr>\n",
       "      <th>100420</th>\n",
       "      <td>باشترین ڕێزلێنان پەرلەمانی کوردستان ڕێزلێنان ئ...</td>\n",
       "      <td>1</td>\n",
       "    </tr>\n",
       "    <tr>\n",
       "      <th>100421</th>\n",
       "      <td>بەبێی زانیاریانەی دەستمان کەوتوون ناکۆکیەی دان...</td>\n",
       "      <td>1</td>\n",
       "    </tr>\n",
       "  </tbody>\n",
       "</table>\n",
       "<p>100422 rows × 2 columns</p>\n",
       "</div>"
      ],
      "text/plain": [
       "                                                  Article  label\n",
       "0       شکستی ڕاهێنەرە یان پێکهاتە؟ ئارسیناڵ لەم وەرزە...      0\n",
       "1       پۆلیسی دهۆک جادوگەرێکی دەستگیرکرد بزانن چی کرد...      1\n",
       "2       سەرکەوت شەمسەدین نەوەی نوێ ئێستا هێزێکی ناڕەسە...      1\n",
       "3                  وریابە تێنەکویت درۆی حیزب وسکیولارەکان      1\n",
       "4       قبوڵە بەرای تۆ؟ جەعفەر شێخ مستەفا نزا دەکەم یە...      1\n",
       "...                                                   ...    ...\n",
       "100417  گەنجێک هەڵەبجە کۆتایی ژیانی خۆی هێنا نیوەڕوی ئ...      1\n",
       "100418  فراکسیۆنەکانی گۆڕان پەرلەمانی کوردستان ئەنجومە...      0\n",
       "100419        دەیان هاوڵاتی ئێرانی لیستی موچەی شەهیداندان      0\n",
       "100420  باشترین ڕێزلێنان پەرلەمانی کوردستان ڕێزلێنان ئ...      1\n",
       "100421  بەبێی زانیاریانەی دەستمان کەوتوون ناکۆکیەی دان...      1\n",
       "\n",
       "[100422 rows x 2 columns]"
      ]
     },
     "execution_count": 6,
     "metadata": {},
     "output_type": "execute_result"
    }
   ],
   "source": [
    "# Tokenize and count word frequencies\n",
    "all_words = ' '.join(dskb).split()\n",
    "word_freq = Counter(all_words)\n",
    "\n",
    "# Identify potential stopwords (e.g., words appearing very frequently)\n",
    "potential_stopwords = [word for word, freq in word_freq.items() if freq > 1]\n",
    "\n",
    "# Example stopwords list (refined manually)\n",
    "kurdish_stopwords = [\n",
    "     \"ئێمە\",\"ئێوە\",\"ئەم\",\"ئەو\"\n",
    "     ,\"ئەوان\",\"ئەوەی\",\"بۆ\",\"بێ\",\"بێجگە\",\"بە\",\"بەبێ\",\"بەدەم\",\"بەردەم\",\"بەرلە\",\"بەرەوی\",\"بەرەوە\",\"بەلای\",\"بەپێی\",\"تۆ\",\"تێ\",\"جگە\",\"دوای\",\"دوو\",\"دە\"\n",
    "     ,\"دەکات\",\"دەگەڵ\",\"سەر\",\"لێ\",\"لە\",\"لەبابەت\",\"لەباتی\",\"لەبارەی\",\"لەبرێتی\",\"لەبن\",\"لەبەر\",\"لەبەینی\",\"لەدەم\",\"لەرێ\",\"لەرێگا\",\"لەرەوی\",\"لەسەر\",\"لەلایەن\"\n",
    "     ,\"لەناو\",\"لەنێو\",\"لەو\",\"لەپێناوی\",\"لەژێر\",\"لەگەڵ\",\"من\",\"ناو\",\"نێوان\",\"هەر\",\"هەروەها\",\"و\",\"وەک\",\"پاش\",\"پێ\",\"پێش\",\"چەند\",\"کرد\",\"کە\",\"ی\"\n",
    "\n",
    "] + potential_stopwords\n",
    "\n",
    "kupunctuation = {'!', '\"', '#', '$', '%', '&', \"'\", '(', ')', '*', '+', ',', '-', '.', '/', ':', ';', '<', '=', '>', '?',\n",
    "                 '@', '[', '\\\\', ']', '^', '_', '`', '{', '|', '}', '~'}\n",
    "\n",
    "# Convert set to list before concatenation\n",
    "ku_stopwords = kurdish_stopwords + list(kupunctuation)\n",
    "\n",
    "def rremove_stopwords(text, stop_words):\n",
    "    words = text.split()\n",
    "    filtered_words = [word for word in words if word.lower() not in stop_words]\n",
    "    return ' '.join(filtered_words)\n",
    "    \n",
    "# Apply the function to each article\n",
    "dskb['Article'] = dskb['Article'].apply(lambda text: rremove_stopwords(text, ku_stopwords))\n",
    "dskb"
   ]
  },
  {
   "cell_type": "code",
   "execution_count": 7,
   "metadata": {
    "execution": {
     "iopub.execute_input": "2025-02-10T17:01:15.331783Z",
     "iopub.status.busy": "2025-02-10T17:01:15.331470Z",
     "iopub.status.idle": "2025-02-10T17:01:18.841466Z",
     "shell.execute_reply": "2025-02-10T17:01:18.840230Z",
     "shell.execute_reply.started": "2025-02-10T17:01:15.331758Z"
    },
    "trusted": true
   },
   "outputs": [
    {
     "data": {
      "text/html": [
       "<div>\n",
       "<style scoped>\n",
       "    .dataframe tbody tr th:only-of-type {\n",
       "        vertical-align: middle;\n",
       "    }\n",
       "\n",
       "    .dataframe tbody tr th {\n",
       "        vertical-align: top;\n",
       "    }\n",
       "\n",
       "    .dataframe thead th {\n",
       "        text-align: right;\n",
       "    }\n",
       "</style>\n",
       "<table border=\"1\" class=\"dataframe\">\n",
       "  <thead>\n",
       "    <tr style=\"text-align: right;\">\n",
       "      <th></th>\n",
       "      <th>Article</th>\n",
       "      <th>label</th>\n",
       "    </tr>\n",
       "  </thead>\n",
       "  <tbody>\n",
       "    <tr>\n",
       "      <th>0</th>\n",
       "      <td>شکستی ڕاهێنەرە یان پێکهاتە ئارسیناڵ لەم وەرزەد...</td>\n",
       "      <td>0</td>\n",
       "    </tr>\n",
       "    <tr>\n",
       "      <th>1</th>\n",
       "      <td>پۆلیسی دهۆک جادوگەرێکی دەستگیرکرد بزانن چی کردووە</td>\n",
       "      <td>1</td>\n",
       "    </tr>\n",
       "    <tr>\n",
       "      <th>2</th>\n",
       "      <td>سەرکەوت شەمسەدین نەوەی نوێ ئێستا هێزێکی ناڕەسە...</td>\n",
       "      <td>1</td>\n",
       "    </tr>\n",
       "    <tr>\n",
       "      <th>3</th>\n",
       "      <td>وریابە تێنەکویت درۆی حیزب وسکیولارەکان</td>\n",
       "      <td>1</td>\n",
       "    </tr>\n",
       "    <tr>\n",
       "      <th>4</th>\n",
       "      <td>قبوڵە بەرای تۆ جەعفەر شێخ مستەفا نزا دەکەم یەز...</td>\n",
       "      <td>1</td>\n",
       "    </tr>\n",
       "    <tr>\n",
       "      <th>...</th>\n",
       "      <td>...</td>\n",
       "      <td>...</td>\n",
       "    </tr>\n",
       "    <tr>\n",
       "      <th>100417</th>\n",
       "      <td>گەنجێک هەڵەبجە کۆتایی ژیانی خۆی هێنا نیوەڕوی ئ...</td>\n",
       "      <td>1</td>\n",
       "    </tr>\n",
       "    <tr>\n",
       "      <th>100418</th>\n",
       "      <td>فراکسیۆنەکانی گۆڕان پەرلەمانی کوردستان ئەنجومە...</td>\n",
       "      <td>0</td>\n",
       "    </tr>\n",
       "    <tr>\n",
       "      <th>100419</th>\n",
       "      <td>دەیان هاوڵاتی ئێرانی لیستی موچەی شەهیداندان</td>\n",
       "      <td>0</td>\n",
       "    </tr>\n",
       "    <tr>\n",
       "      <th>100420</th>\n",
       "      <td>باشترین ڕێزلێنان پەرلەمانی کوردستان ڕێزلێنان ئ...</td>\n",
       "      <td>1</td>\n",
       "    </tr>\n",
       "    <tr>\n",
       "      <th>100421</th>\n",
       "      <td>بەبێی زانیاریانەی دەستمان کەوتوون ناکۆکیەی دان...</td>\n",
       "      <td>1</td>\n",
       "    </tr>\n",
       "  </tbody>\n",
       "</table>\n",
       "<p>100422 rows × 2 columns</p>\n",
       "</div>"
      ],
      "text/plain": [
       "                                                  Article  label\n",
       "0       شکستی ڕاهێنەرە یان پێکهاتە ئارسیناڵ لەم وەرزەد...      0\n",
       "1       پۆلیسی دهۆک جادوگەرێکی دەستگیرکرد بزانن چی کردووە      1\n",
       "2       سەرکەوت شەمسەدین نەوەی نوێ ئێستا هێزێکی ناڕەسە...      1\n",
       "3                  وریابە تێنەکویت درۆی حیزب وسکیولارەکان      1\n",
       "4       قبوڵە بەرای تۆ جەعفەر شێخ مستەفا نزا دەکەم یەز...      1\n",
       "...                                                   ...    ...\n",
       "100417  گەنجێک هەڵەبجە کۆتایی ژیانی خۆی هێنا نیوەڕوی ئ...      1\n",
       "100418  فراکسیۆنەکانی گۆڕان پەرلەمانی کوردستان ئەنجومە...      0\n",
       "100419        دەیان هاوڵاتی ئێرانی لیستی موچەی شەهیداندان      0\n",
       "100420  باشترین ڕێزلێنان پەرلەمانی کوردستان ڕێزلێنان ئ...      1\n",
       "100421  بەبێی زانیاریانەی دەستمان کەوتوون ناکۆکیەی دان...      1\n",
       "\n",
       "[100422 rows x 2 columns]"
      ]
     },
     "execution_count": 7,
     "metadata": {},
     "output_type": "execute_result"
    }
   ],
   "source": [
    "def wordpre(text):\n",
    "    if not isinstance(text, str):\n",
    "        return \"\"  # Return empty string for non-string inputs\n",
    "    # Remove URLs, special characters, and numbers\n",
    "    text = re.sub(r\"http\\S+|www\\S+|https\\S+\", '', text, flags=re.MULTILINE)\n",
    "    text = re.sub(r'\\@\\w+|\\#', '', text)\n",
    "    text = re.sub(r'[^\\w\\s]', '', text)  # Remove punctuation\n",
    "    text = text.translate(str.maketrans('', '', string.punctuation))\n",
    "    text = re.sub(r'\\d+', '', text)      # Remove numbers\n",
    "    \n",
    "    # Remove extra spaces\n",
    "    text = text.strip()\n",
    "   \n",
    "    return text\n",
    "\n",
    "##  Applying the wordpre method to the dataset\n",
    "dskb['Article']=dskb['Article'].apply(wordpre)\n",
    "dskb"
   ]
  },
  {
   "cell_type": "code",
   "execution_count": 8,
   "metadata": {
    "execution": {
     "iopub.execute_input": "2025-02-10T17:01:18.842739Z",
     "iopub.status.busy": "2025-02-10T17:01:18.842459Z",
     "iopub.status.idle": "2025-02-10T17:01:18.876316Z",
     "shell.execute_reply": "2025-02-10T17:01:18.875241Z",
     "shell.execute_reply.started": "2025-02-10T17:01:18.842716Z"
    },
    "trusted": true
   },
   "outputs": [],
   "source": [
    "dskb['label1'] = \"__label__\" + dskb['label'].astype(str)"
   ]
  },
  {
   "cell_type": "code",
   "execution_count": 9,
   "metadata": {
    "execution": {
     "iopub.execute_input": "2025-02-10T17:01:18.877650Z",
     "iopub.status.busy": "2025-02-10T17:01:18.877277Z",
     "iopub.status.idle": "2025-02-10T17:01:18.939724Z",
     "shell.execute_reply": "2025-02-10T17:01:18.938625Z",
     "shell.execute_reply.started": "2025-02-10T17:01:18.877615Z"
    },
    "trusted": true
   },
   "outputs": [
    {
     "data": {
      "text/html": [
       "<div>\n",
       "<style scoped>\n",
       "    .dataframe tbody tr th:only-of-type {\n",
       "        vertical-align: middle;\n",
       "    }\n",
       "\n",
       "    .dataframe tbody tr th {\n",
       "        vertical-align: top;\n",
       "    }\n",
       "\n",
       "    .dataframe thead th {\n",
       "        text-align: right;\n",
       "    }\n",
       "</style>\n",
       "<table border=\"1\" class=\"dataframe\">\n",
       "  <thead>\n",
       "    <tr style=\"text-align: right;\">\n",
       "      <th></th>\n",
       "      <th>Article</th>\n",
       "      <th>label</th>\n",
       "      <th>label1</th>\n",
       "      <th>label_description</th>\n",
       "    </tr>\n",
       "  </thead>\n",
       "  <tbody>\n",
       "    <tr>\n",
       "      <th>0</th>\n",
       "      <td>شکستی ڕاهێنەرە یان پێکهاتە ئارسیناڵ لەم وەرزەد...</td>\n",
       "      <td>0</td>\n",
       "      <td>__label__0</td>\n",
       "      <td>__label__0 شکستی ڕاهێنەرە یان پێکهاتە ئارسیناڵ...</td>\n",
       "    </tr>\n",
       "    <tr>\n",
       "      <th>1</th>\n",
       "      <td>پۆلیسی دهۆک جادوگەرێکی دەستگیرکرد بزانن چی کردووە</td>\n",
       "      <td>1</td>\n",
       "      <td>__label__1</td>\n",
       "      <td>__label__1 پۆلیسی دهۆک جادوگەرێکی دەستگیرکرد ب...</td>\n",
       "    </tr>\n",
       "    <tr>\n",
       "      <th>2</th>\n",
       "      <td>سەرکەوت شەمسەدین نەوەی نوێ ئێستا هێزێکی ناڕەسە...</td>\n",
       "      <td>1</td>\n",
       "      <td>__label__1</td>\n",
       "      <td>__label__1 سەرکەوت شەمسەدین نەوەی نوێ ئێستا هێ...</td>\n",
       "    </tr>\n",
       "    <tr>\n",
       "      <th>3</th>\n",
       "      <td>وریابە تێنەکویت درۆی حیزب وسکیولارەکان</td>\n",
       "      <td>1</td>\n",
       "      <td>__label__1</td>\n",
       "      <td>__label__1 وریابە تێنەکویت درۆی حیزب وسکیولارەکان</td>\n",
       "    </tr>\n",
       "    <tr>\n",
       "      <th>4</th>\n",
       "      <td>قبوڵە بەرای تۆ جەعفەر شێخ مستەفا نزا دەکەم یەز...</td>\n",
       "      <td>1</td>\n",
       "      <td>__label__1</td>\n",
       "      <td>__label__1 قبوڵە بەرای تۆ جەعفەر شێخ مستەفا نز...</td>\n",
       "    </tr>\n",
       "    <tr>\n",
       "      <th>...</th>\n",
       "      <td>...</td>\n",
       "      <td>...</td>\n",
       "      <td>...</td>\n",
       "      <td>...</td>\n",
       "    </tr>\n",
       "    <tr>\n",
       "      <th>100417</th>\n",
       "      <td>گەنجێک هەڵەبجە کۆتایی ژیانی خۆی هێنا نیوەڕوی ئ...</td>\n",
       "      <td>1</td>\n",
       "      <td>__label__1</td>\n",
       "      <td>__label__1 گەنجێک هەڵەبجە کۆتایی ژیانی خۆی هێن...</td>\n",
       "    </tr>\n",
       "    <tr>\n",
       "      <th>100418</th>\n",
       "      <td>فراکسیۆنەکانی گۆڕان پەرلەمانی کوردستان ئەنجومە...</td>\n",
       "      <td>0</td>\n",
       "      <td>__label__0</td>\n",
       "      <td>__label__0 فراکسیۆنەکانی گۆڕان پەرلەمانی کوردس...</td>\n",
       "    </tr>\n",
       "    <tr>\n",
       "      <th>100419</th>\n",
       "      <td>دەیان هاوڵاتی ئێرانی لیستی موچەی شەهیداندان</td>\n",
       "      <td>0</td>\n",
       "      <td>__label__0</td>\n",
       "      <td>__label__0 دەیان هاوڵاتی ئێرانی لیستی موچەی شە...</td>\n",
       "    </tr>\n",
       "    <tr>\n",
       "      <th>100420</th>\n",
       "      <td>باشترین ڕێزلێنان پەرلەمانی کوردستان ڕێزلێنان ئ...</td>\n",
       "      <td>1</td>\n",
       "      <td>__label__1</td>\n",
       "      <td>__label__1 باشترین ڕێزلێنان پەرلەمانی کوردستان...</td>\n",
       "    </tr>\n",
       "    <tr>\n",
       "      <th>100421</th>\n",
       "      <td>بەبێی زانیاریانەی دەستمان کەوتوون ناکۆکیەی دان...</td>\n",
       "      <td>1</td>\n",
       "      <td>__label__1</td>\n",
       "      <td>__label__1 بەبێی زانیاریانەی دەستمان کەوتوون ن...</td>\n",
       "    </tr>\n",
       "  </tbody>\n",
       "</table>\n",
       "<p>100422 rows × 4 columns</p>\n",
       "</div>"
      ],
      "text/plain": [
       "                                                  Article  label      label1  \\\n",
       "0       شکستی ڕاهێنەرە یان پێکهاتە ئارسیناڵ لەم وەرزەد...      0  __label__0   \n",
       "1       پۆلیسی دهۆک جادوگەرێکی دەستگیرکرد بزانن چی کردووە      1  __label__1   \n",
       "2       سەرکەوت شەمسەدین نەوەی نوێ ئێستا هێزێکی ناڕەسە...      1  __label__1   \n",
       "3                  وریابە تێنەکویت درۆی حیزب وسکیولارەکان      1  __label__1   \n",
       "4       قبوڵە بەرای تۆ جەعفەر شێخ مستەفا نزا دەکەم یەز...      1  __label__1   \n",
       "...                                                   ...    ...         ...   \n",
       "100417  گەنجێک هەڵەبجە کۆتایی ژیانی خۆی هێنا نیوەڕوی ئ...      1  __label__1   \n",
       "100418  فراکسیۆنەکانی گۆڕان پەرلەمانی کوردستان ئەنجومە...      0  __label__0   \n",
       "100419        دەیان هاوڵاتی ئێرانی لیستی موچەی شەهیداندان      0  __label__0   \n",
       "100420  باشترین ڕێزلێنان پەرلەمانی کوردستان ڕێزلێنان ئ...      1  __label__1   \n",
       "100421  بەبێی زانیاریانەی دەستمان کەوتوون ناکۆکیەی دان...      1  __label__1   \n",
       "\n",
       "                                        label_description  \n",
       "0       __label__0 شکستی ڕاهێنەرە یان پێکهاتە ئارسیناڵ...  \n",
       "1       __label__1 پۆلیسی دهۆک جادوگەرێکی دەستگیرکرد ب...  \n",
       "2       __label__1 سەرکەوت شەمسەدین نەوەی نوێ ئێستا هێ...  \n",
       "3       __label__1 وریابە تێنەکویت درۆی حیزب وسکیولارەکان  \n",
       "4       __label__1 قبوڵە بەرای تۆ جەعفەر شێخ مستەفا نز...  \n",
       "...                                                   ...  \n",
       "100417  __label__1 گەنجێک هەڵەبجە کۆتایی ژیانی خۆی هێن...  \n",
       "100418  __label__0 فراکسیۆنەکانی گۆڕان پەرلەمانی کوردس...  \n",
       "100419  __label__0 دەیان هاوڵاتی ئێرانی لیستی موچەی شە...  \n",
       "100420  __label__1 باشترین ڕێزلێنان پەرلەمانی کوردستان...  \n",
       "100421  __label__1 بەبێی زانیاریانەی دەستمان کەوتوون ن...  \n",
       "\n",
       "[100422 rows x 4 columns]"
      ]
     },
     "execution_count": 9,
     "metadata": {},
     "output_type": "execute_result"
    }
   ],
   "source": [
    "dskb['label_description'] = dskb['label1'].astype(str) + \" \" + dskb['Article'].astype(str)\n",
    "dskb"
   ]
  },
  {
   "cell_type": "code",
   "execution_count": 10,
   "metadata": {
    "execution": {
     "iopub.execute_input": "2025-02-10T17:01:18.941068Z",
     "iopub.status.busy": "2025-02-10T17:01:18.940760Z",
     "iopub.status.idle": "2025-02-10T17:01:18.968847Z",
     "shell.execute_reply": "2025-02-10T17:01:18.967798Z",
     "shell.execute_reply.started": "2025-02-10T17:01:18.941046Z"
    },
    "trusted": true
   },
   "outputs": [],
   "source": [
    "train, test = train_test_split(dskb, test_size = 0.2)"
   ]
  },
  {
   "cell_type": "code",
   "execution_count": 11,
   "metadata": {
    "execution": {
     "iopub.execute_input": "2025-02-10T17:01:18.970214Z",
     "iopub.status.busy": "2025-02-10T17:01:18.969818Z",
     "iopub.status.idle": "2025-02-10T17:01:19.565962Z",
     "shell.execute_reply": "2025-02-10T17:01:19.565037Z",
     "shell.execute_reply.started": "2025-02-10T17:01:18.970178Z"
    },
    "trusted": true
   },
   "outputs": [],
   "source": [
    "train.to_csv(\"fake_news_train.txt\", columns = ['label_description'], index=False, sep=' ', header=False,\n",
    "    quoting=3, escapechar=' ', mode='w')\n",
    "test.to_csv(\"fake_news_test.txt\", columns = ['label_description'], index=False, sep=' ', header=False,\n",
    "    quoting=3, escapechar=' ', mode='w')"
   ]
  },
  {
   "cell_type": "code",
   "execution_count": 12,
   "metadata": {
    "execution": {
     "iopub.execute_input": "2025-02-10T17:01:19.569006Z",
     "iopub.status.busy": "2025-02-10T17:01:19.568717Z",
     "iopub.status.idle": "2025-02-10T17:02:11.770173Z",
     "shell.execute_reply": "2025-02-10T17:02:11.769317Z",
     "shell.execute_reply.started": "2025-02-10T17:01:19.568983Z"
    },
    "trusted": true
   },
   "outputs": [],
   "source": [
    "# Train FastText Model\n",
    "fasttext_model = fasttext.train_supervised(input=\"fake_news_train.txt\", lr=0.5, epoch=25, wordNgrams=2, dim=300)\n",
    "y_predic = fasttext_model.test(\"fake_news_test.txt\")"
   ]
  },
  {
   "cell_type": "code",
   "execution_count": 13,
   "metadata": {
    "execution": {
     "iopub.execute_input": "2025-02-10T17:02:11.771654Z",
     "iopub.status.busy": "2025-02-10T17:02:11.771376Z",
     "iopub.status.idle": "2025-02-10T17:02:11.777581Z",
     "shell.execute_reply": "2025-02-10T17:02:11.776254Z",
     "shell.execute_reply.started": "2025-02-10T17:02:11.771631Z"
    },
    "trusted": true
   },
   "outputs": [
    {
     "name": "stdout",
     "output_type": "stream",
     "text": [
      "No. of Test: 20085\n",
      "Precision: 0.868559\n",
      "Recall: 0.868559\n",
      "F1-Score: 0.868559\n"
     ]
    }
   ],
   "source": [
    "N = y_predic[0]\n",
    "P = y_predic[1]\n",
    "R = y_predic[2]\n",
    "\n",
    "print(f\"No. of Test: {N:}\")\n",
    "print(f\"Precision: {P:.6f}\")\n",
    "print(f\"Recall: {R:.6f}\")\n",
    "\n",
    "print(f\"F1-Score: {2*((P*R)/(P+R)):.6f}\")\n"
   ]
  },
  {
   "cell_type": "code",
   "execution_count": 14,
   "metadata": {
    "execution": {
     "iopub.execute_input": "2025-02-10T17:02:11.779017Z",
     "iopub.status.busy": "2025-02-10T17:02:11.778728Z",
     "iopub.status.idle": "2025-02-10T17:02:16.853966Z",
     "shell.execute_reply": "2025-02-10T17:02:16.852956Z",
     "shell.execute_reply.started": "2025-02-10T17:02:11.778994Z"
    },
    "trusted": true
   },
   "outputs": [],
   "source": [
    "# Function to get FastText vector safely\n",
    "def fasttext_vector(text):\n",
    "    if isinstance(text, str):  # Ensure text is a string\n",
    "        text = text.replace(\"\\n\", \" \").strip()  # Remove newlines\n",
    "        return fasttext_model.get_sentence_vector(text)\n",
    "    return np.zeros(300)  # Return zero vector for empty/non-string values\n",
    "\n",
    "# Apply FastText vectors to dataset\n",
    "X_fasttext = np.array([fasttext_vector(text) for text in dskb['Article']])\n",
    "# Function to get FastText vector\n",
    "y = np.array(dskb['label'])\n",
    "\n",
    "# Split dataset\n",
    "X_train, X_test, y_train, y_test = train_test_split(X_fasttext, y, test_size=0.2, random_state=42)"
   ]
  },
  {
   "cell_type": "code",
   "execution_count": 15,
   "metadata": {
    "execution": {
     "iopub.execute_input": "2025-02-10T17:02:16.855288Z",
     "iopub.status.busy": "2025-02-10T17:02:16.854982Z",
     "iopub.status.idle": "2025-02-10T17:02:26.259319Z",
     "shell.execute_reply": "2025-02-10T17:02:26.258294Z",
     "shell.execute_reply.started": "2025-02-10T17:02:16.855265Z"
    },
    "trusted": true
   },
   "outputs": [],
   "source": [
    "# Tokenization\n",
    "max_words = 10000\n",
    "max_len = 200\n",
    "tokenizer = Tokenizer(num_words=max_words)\n",
    "tokenizer.fit_on_texts(dskb['Article'])\n",
    "X_sequences = tokenizer.texts_to_sequences(dskb['Article'])\n",
    "X_padded = pad_sequences(X_sequences, maxlen=max_len)\n"
   ]
  },
  {
   "cell_type": "code",
   "execution_count": 16,
   "metadata": {
    "execution": {
     "iopub.execute_input": "2025-02-10T17:02:26.260672Z",
     "iopub.status.busy": "2025-02-10T17:02:26.260331Z",
     "iopub.status.idle": "2025-02-10T17:02:26.408053Z",
     "shell.execute_reply": "2025-02-10T17:02:26.407222Z",
     "shell.execute_reply.started": "2025-02-10T17:02:26.260648Z"
    },
    "trusted": true
   },
   "outputs": [],
   "source": [
    "# Embedding Matrix from FastText\n",
    "embedding_matrix = np.zeros((max_words, 300))\n",
    "for word, i in tokenizer.word_index.items():\n",
    "    if i < max_words:\n",
    "        embedding_matrix[i] = fasttext_model.get_word_vector(word)\n"
   ]
  },
  {
   "cell_type": "code",
   "execution_count": 17,
   "metadata": {
    "execution": {
     "iopub.execute_input": "2025-02-04T19:49:49.081239Z",
     "iopub.status.busy": "2025-02-04T19:49:49.080955Z",
     "iopub.status.idle": "2025-02-04T19:49:49.199672Z",
     "shell.execute_reply": "2025-02-04T19:49:49.198480Z",
     "shell.execute_reply.started": "2025-02-04T19:49:49.081220Z"
    },
    "trusted": true
   },
   "outputs": [
    {
     "name": "stderr",
     "output_type": "stream",
     "text": [
      "/usr/local/lib/python3.10/dist-packages/keras/src/layers/core/embedding.py:90: UserWarning: Argument `input_length` is deprecated. Just remove it.\n",
      "  warnings.warn(\n"
     ]
    }
   ],
   "source": [
    "# LSTM Model\n",
    "model = Sequential([\n",
    "    Embedding(input_dim=max_words, output_dim=300, weights=[embedding_matrix], input_length=max_len, trainable=True),\n",
    "    Bidirectional(LSTM(64, return_sequences=True, dropout=0.2, recurrent_dropout=0.2)),\n",
    "    LSTM(32, dropout=0.2, recurrent_dropout=0.2),\n",
    "    Dense(16, activation='relu'),\n",
    "    Dropout(0.3),\n",
    "    Dense(1, activation='sigmoid')\n",
    "])\n",
    "\n",
    "model.compile(optimizer='adam', loss='binary_crossentropy', metrics=['accuracy'])\n",
    "\n"
   ]
  },
  {
   "cell_type": "code",
   "execution_count": 18,
   "metadata": {
    "execution": {
     "iopub.execute_input": "2025-02-04T19:49:55.411842Z",
     "iopub.status.busy": "2025-02-04T19:49:55.411571Z",
     "iopub.status.idle": "2025-02-04T20:27:35.559982Z",
     "shell.execute_reply": "2025-02-04T20:27:35.559094Z",
     "shell.execute_reply.started": "2025-02-04T19:49:55.411823Z"
    },
    "trusted": true
   },
   "outputs": [
    {
     "name": "stdout",
     "output_type": "stream",
     "text": [
      "Epoch 1/5\n",
      "\u001b[1m1256/1256\u001b[0m \u001b[32m━━━━━━━━━━━━━━━━━━━━\u001b[0m\u001b[37m\u001b[0m \u001b[1m429s\u001b[0m 338ms/step - accuracy: 0.8176 - loss: 0.4225 - val_accuracy: 0.8548 - val_loss: 0.3427\n",
      "Epoch 2/5\n",
      "\u001b[1m1256/1256\u001b[0m \u001b[32m━━━━━━━━━━━━━━━━━━━━\u001b[0m\u001b[37m\u001b[0m \u001b[1m416s\u001b[0m 331ms/step - accuracy: 0.8759 - loss: 0.3080 - val_accuracy: 0.8600 - val_loss: 0.3447\n",
      "Epoch 3/5\n",
      "\u001b[1m1256/1256\u001b[0m \u001b[32m━━━━━━━━━━━━━━━━━━━━\u001b[0m\u001b[37m\u001b[0m \u001b[1m415s\u001b[0m 330ms/step - accuracy: 0.9023 - loss: 0.2511 - val_accuracy: 0.8635 - val_loss: 0.3542\n",
      "Epoch 4/5\n",
      "\u001b[1m1256/1256\u001b[0m \u001b[32m━━━━━━━━━━━━━━━━━━━━\u001b[0m\u001b[37m\u001b[0m \u001b[1m410s\u001b[0m 326ms/step - accuracy: 0.9221 - loss: 0.2006 - val_accuracy: 0.8656 - val_loss: 0.3885\n",
      "Epoch 5/5\n",
      "\u001b[1m1256/1256\u001b[0m \u001b[32m━━━━━━━━━━━━━━━━━━━━\u001b[0m\u001b[37m\u001b[0m \u001b[1m415s\u001b[0m 331ms/step - accuracy: 0.9374 - loss: 0.1634 - val_accuracy: 0.8631 - val_loss: 0.4254\n",
      "\u001b[1m3139/3139\u001b[0m \u001b[32m━━━━━━━━━━━━━━━━━━━━\u001b[0m\u001b[37m\u001b[0m \u001b[1m175s\u001b[0m 55ms/step\n",
      "Hybrid FastText-LSTM Model → Accuracy: 0.9383, Precision: 0.9520, Recall: 0.9232, F1-Score: 0.9374\n"
     ]
    }
   ],
   "source": [
    "# Train Model\n",
    "model.fit(X_padded, y, epochs=5, batch_size=64, validation_split=0.2)\n",
    "\n",
    "# Evaluate\n",
    "y_pred = (model.predict(X_padded) > 0.5).astype(int)\n",
    "accuracy = accuracy_score(y, y_pred)\n",
    "precision = precision_score(y, y_pred)\n",
    "recall = recall_score(y, y_pred)\n",
    "f1 = f1_score(y, y_pred)\n",
    "\n",
    "print(f\"Hybrid FastText-LSTM Model → Accuracy: {accuracy:.4f}, Precision: {precision:.4f}, Recall: {recall:.4f}, F1-Score: {f1:.4f}\")"
   ]
  },
  {
   "cell_type": "code",
   "execution_count": 17,
   "metadata": {
    "execution": {
     "iopub.execute_input": "2025-02-10T17:03:20.126821Z",
     "iopub.status.busy": "2025-02-10T17:03:20.126448Z",
     "iopub.status.idle": "2025-02-10T17:03:20.267206Z",
     "shell.execute_reply": "2025-02-10T17:03:20.265997Z",
     "shell.execute_reply.started": "2025-02-10T17:03:20.126794Z"
    },
    "trusted": true
   },
   "outputs": [
    {
     "name": "stderr",
     "output_type": "stream",
     "text": [
      "/usr/local/lib/python3.10/dist-packages/keras/src/layers/core/embedding.py:90: UserWarning: Argument `input_length` is deprecated. Just remove it.\n",
      "  warnings.warn(\n"
     ]
    }
   ],
   "source": [
    "# LSTM Model\n",
    "model = Sequential([\n",
    "    Embedding(input_dim=max_words, output_dim=300, weights=[embedding_matrix], input_length=max_len, trainable=True),\n",
    "    LSTM(64, return_sequences=False, dropout=0.2, recurrent_dropout=0.2),\n",
    "    #LSTM(32, dropout=0.2, recurrent_dropout=0.2),\n",
    "    Dense(16, activation='relu'),\n",
    "    Dropout(0.3),\n",
    "    Dense(1, activation='sigmoid')\n",
    "])\n",
    "\n",
    "model.compile(optimizer='adam', loss='binary_crossentropy', metrics=['accuracy'])\n"
   ]
  },
  {
   "cell_type": "code",
   "execution_count": 18,
   "metadata": {
    "execution": {
     "iopub.execute_input": "2025-02-10T17:04:14.660092Z",
     "iopub.status.busy": "2025-02-10T17:04:14.659754Z",
     "iopub.status.idle": "2025-02-10T17:29:50.806943Z",
     "shell.execute_reply": "2025-02-10T17:29:50.805872Z",
     "shell.execute_reply.started": "2025-02-10T17:04:14.660064Z"
    },
    "trusted": true
   },
   "outputs": [
    {
     "name": "stdout",
     "output_type": "stream",
     "text": [
      "Epoch 1/5\n",
      "\u001b[1m1256/1256\u001b[0m \u001b[32m━━━━━━━━━━━━━━━━━━━━\u001b[0m\u001b[37m\u001b[0m \u001b[1m279s\u001b[0m 219ms/step - accuracy: 0.8239 - loss: 0.4101 - val_accuracy: 0.8547 - val_loss: 0.3432\n",
      "Epoch 2/5\n",
      "\u001b[1m1256/1256\u001b[0m \u001b[32m━━━━━━━━━━━━━━━━━━━━\u001b[0m\u001b[37m\u001b[0m \u001b[1m274s\u001b[0m 218ms/step - accuracy: 0.8754 - loss: 0.3030 - val_accuracy: 0.8615 - val_loss: 0.3358\n",
      "Epoch 3/5\n",
      "\u001b[1m1256/1256\u001b[0m \u001b[32m━━━━━━━━━━━━━━━━━━━━\u001b[0m\u001b[37m\u001b[0m \u001b[1m275s\u001b[0m 219ms/step - accuracy: 0.9034 - loss: 0.2394 - val_accuracy: 0.8623 - val_loss: 0.3550\n",
      "Epoch 4/5\n",
      "\u001b[1m1256/1256\u001b[0m \u001b[32m━━━━━━━━━━━━━━━━━━━━\u001b[0m\u001b[37m\u001b[0m \u001b[1m313s\u001b[0m 212ms/step - accuracy: 0.9244 - loss: 0.1894 - val_accuracy: 0.8648 - val_loss: 0.3927\n",
      "Epoch 5/5\n",
      "\u001b[1m1256/1256\u001b[0m \u001b[32m━━━━━━━━━━━━━━━━━━━━\u001b[0m\u001b[37m\u001b[0m \u001b[1m271s\u001b[0m 216ms/step - accuracy: 0.9428 - loss: 0.1459 - val_accuracy: 0.8635 - val_loss: 0.4471\n",
      "\u001b[1m3139/3139\u001b[0m \u001b[32m━━━━━━━━━━━━━━━━━━━━\u001b[0m\u001b[37m\u001b[0m \u001b[1m122s\u001b[0m 39ms/step\n",
      "Hybrid FastText-LSTM Model → Accuracy: 0.9425, Precision: 0.9547, Recall: 0.9291, F1-Score: 0.9417\n"
     ]
    }
   ],
   "source": [
    "# Train Model\n",
    "model.fit(X_padded, y, epochs=5, batch_size=64, validation_split=0.2)\n",
    "\n",
    "# Evaluate\n",
    "y_pred = (model.predict(X_padded) > 0.5).astype(int)\n",
    "accuracy = accuracy_score(y, y_pred)\n",
    "precision = precision_score(y, y_pred)\n",
    "recall = recall_score(y, y_pred)\n",
    "f1 = f1_score(y, y_pred)\n",
    "\n",
    "print(f\"Hybrid FastText-LSTM Model → Accuracy: {accuracy:.4f}, Precision: {precision:.4f}, Recall: {recall:.4f}, F1-Score: {f1:.4f}\")"
   ]
  }
 ],
 "metadata": {
  "kaggle": {
   "accelerator": "none",
   "dataSources": [
    {
     "datasetId": 6135721,
     "sourceId": 9972841,
     "sourceType": "datasetVersion"
    },
    {
     "datasetId": 6137934,
     "sourceId": 9975800,
     "sourceType": "datasetVersion"
    }
   ],
   "dockerImageVersionId": 30839,
   "isGpuEnabled": false,
   "isInternetEnabled": true,
   "language": "python",
   "sourceType": "notebook"
  },
  "kernelspec": {
   "display_name": "Python 3",
   "language": "python",
   "name": "python3"
  },
  "language_info": {
   "codemirror_mode": {
    "name": "ipython",
    "version": 3
   },
   "file_extension": ".py",
   "mimetype": "text/x-python",
   "name": "python",
   "nbconvert_exporter": "python",
   "pygments_lexer": "ipython3",
   "version": "3.10.12"
  }
 },
 "nbformat": 4,
 "nbformat_minor": 4
}
